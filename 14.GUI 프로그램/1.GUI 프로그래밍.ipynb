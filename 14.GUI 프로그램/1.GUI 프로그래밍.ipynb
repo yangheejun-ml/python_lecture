{
 "cells": [
  {
   "cell_type": "markdown",
   "metadata": {},
   "source": [
    "# GUI (Graphical User Interface) vs CLI (Command Line Interface)\n",
    "\n",
    "* 파이썬은 기본적으로 CLI 기반으로 터미널, 콘솔을 통해 사용자가 프로그램과 상호작용 하는 방식입니다.\n",
    "* 그래픽 사용자 인터페이스는 사용자가 프로그램을 좀 더 편하게 사용할 수 있도록 그래픽 기반으로 상호작용 하는 방식입니다."
   ]
  },
  {
   "cell_type": "markdown",
   "metadata": {},
   "source": [
    "## 파이썬에서 GUI 프로그래밍\n",
    "* 파이썬에서 GUI 프로그램을 만들기 위해서는 이런 GUI 프레임워크 라이브러리를 사용해야 합니다.\n",
    "* 파이썬에서는 기본적인 GUI 라이브러리로 제공하는 Tkinter 를 사용할 수 있습니다.\n",
    "* GUI 프로그램 개발에 여러방면에서 사용되고 있는 Qt 프레임워크를 파이썬에서도 사용할 수 있습니다.\n",
    "* 그 외에도 [PySide](https://wiki.qt.io/PySide), [wxPython](https://wxpython.org/), [Flexx](https://github.com/zoofIO/flexx), [pyglet](https://bitbucket.org/pyglet/pyglet/wiki/Home), [kyvi](https://kivy.org/) 등 여러 라이브러리들이 있습니다."
   ]
  },
  {
   "cell_type": "markdown",
   "metadata": {},
   "source": [
    "## PyQt5\n",
    "* 이 강좌에서는 PyQt5 버전을 기준으로 진행합니다.\n",
    "* PyQt5 는 GPL 라이센스기 때문에 무료로 배포하는 프로그램에서는 사용 제한이 없습니다.\n",
    "* 다만 GPL을 벗어난 상업적인 목적으로 사용시에는 라이센스 비용을 지불해야 합니다. 이때는 PyQt5 대신 PySide 를 사용할 수 있습니다.\n",
    "* PyQt 는 그 자체만으로도 따로 강좌를 운영할 만큼 이론적으로, 테크니컬 적으로 방대한 양 입니다.\n",
    "* 따라서 여기서는 강좌를 진행하는데 필요한 기본적인 부분에 대해서만 다룰 예정입니다."
   ]
  },
  {
   "cell_type": "markdown",
   "metadata": {},
   "source": [
    "## PyQt5 설치\n",
    "\n",
    "> pip install PyQt5  "
   ]
  },
  {
   "cell_type": "markdown",
   "metadata": {},
   "source": [
    "## PyQt5 기본 윈도우 띄우기"
   ]
  },
  {
   "cell_type": "code",
   "execution_count": null,
   "metadata": {},
   "outputs": [],
   "source": [
    "# 필요한 모듈 임포트\n",
    "# PyQt5 에는 여러가지 클래스가 구현되어있고 각 장르별로 구별되어있습니다.\n",
    "from PyQt5 import QtWidgets\n",
    "\n",
    "# PyQt5 프로세스 인스턴스 생성\n",
    "app = QtWidgets.QApplication([])\n",
    "\n",
    "# 윈도우 생성\n",
    "win = QtWidgets.QDialog()\n",
    "\n",
    "# 윈도우 타이틀명 설정\n",
    "win.setWindowTitle(\"파이썬\")\n",
    "\n",
    "# 윈도우 화면에 띄우기\n",
    "win.show()\n",
    "\n",
    "# 어플리케이션 실행\n",
    "app.exec_()"
   ]
  },
  {
   "cell_type": "markdown",
   "metadata": {},
   "source": [
    "### 보통은 클래스로 만들어서 사용됩니다."
   ]
  },
  {
   "cell_type": "code",
   "execution_count": null,
   "metadata": {},
   "outputs": [],
   "source": [
    "import sys\n",
    "from PyQt5 import QtWidgets\n",
    "\n",
    "class MyWindow(QtWidgets.QWidget):\n",
    "    '''QWidgets 를 상속받아 만든 커스텀 윈도우 클래스'''\n",
    "    def __init__(self):\n",
    "        # 부모인 QWidgets 의 생성자를 호출합니다.\n",
    "        super().__init__()\n",
    "        \n",
    "        # 현재 윈도우 설정\n",
    "        self.setWindowTitle(\"파이썬 GUI\")\n",
    "        \n",
    "        # 윈도우의 크기를 400 x 300 으로 설정\n",
    "        self.resize(400, 300)\n",
    "        \n",
    "        # 윈도우 띄우기\n",
    "        self.show()\n",
    "\n",
    "\n",
    "if __name__ == \"__main__\":\n",
    "    # 어플리케이션 생성\n",
    "    app = QtWidgets.QApplication(sys.argv)\n",
    "\n",
    "    # 윈도우 생성\n",
    "    win = MyWindow()\n",
    "\n",
    "    # 어플리케이션 실행\n",
    "    sys.exit(app.exec_())"
   ]
  }
 ],
 "metadata": {
  "kernelspec": {
   "display_name": "Python 3",
   "language": "python",
   "name": "python3"
  },
  "language_info": {
   "codemirror_mode": {
    "name": "ipython",
    "version": 3
   },
   "file_extension": ".py",
   "mimetype": "text/x-python",
   "name": "python",
   "nbconvert_exporter": "python",
   "pygments_lexer": "ipython3",
   "version": "3.6.3"
  }
 },
 "nbformat": 4,
 "nbformat_minor": 2
}
