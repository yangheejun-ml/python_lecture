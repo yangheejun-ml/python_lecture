{
 "cells": [
  {
   "cell_type": "markdown",
   "metadata": {},
   "source": [
    "# 파이썬 설치하기\n",
    "\n",
    "- 파이썬 다운로드 주소 https://www.python.org/downloads/\n",
    "- 파이썬 3.6.7 버전으로 진행\n",
    "- 파이썬 2.x 버전은 2020년까지만 지원됨 (관련링크:https://www.python.org/dev/peps/pep-0373/)"
   ]
  }
 ],
 "metadata": {
  "kernelspec": {
   "display_name": "Python 3",
   "language": "python",
   "name": "python3"
  },
  "language_info": {
   "codemirror_mode": {
    "name": "ipython",
    "version": 3
   },
   "file_extension": ".py",
   "mimetype": "text/x-python",
   "name": "python",
   "nbconvert_exporter": "python",
   "pygments_lexer": "ipython3",
   "version": "3.6.3"
  }
 },
 "nbformat": 4,
 "nbformat_minor": 2
}
