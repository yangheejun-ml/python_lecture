{
 "cells": [
  {
   "cell_type": "markdown",
   "metadata": {},
   "source": [
    "# 프로그램\n",
    "* 컴퓨터로 어떤 특정 목적을 수행하기 위한 처리 방법과 순서를 논리적으로 기술한 명령문의 집합"
   ]
  },
  {
   "attachments": {
    "image.png": {
     "image/png": "[encoded data removed]"
    }
   },
   "cell_type": "markdown",
   "metadata": {},
   "source": [
    "# 로직\n",
    "* 컴퓨터 프로그램이 어떤 결과를 돌출하는데까지의 논리적 흐름\n",
    "* 프로그래밍 언어가 다르고 환경이 달라도 특정 프로그램의 로직은 비슷합니다.\n",
    "* 예를 들어 회원 로그인 로직을 보면 웹프로그래밍에서의 로그인이던 응용프로그램에서의 로그인이던 비슷한 로직으로 만듭니다.\n",
    "![image.png](attachment:image.png)"
   ]
  },
  {
   "cell_type": "markdown",
   "metadata": {},
   "source": [
    "# 프로그래밍 / 코딩\n",
    "\n",
    "* 로직을 작성하는 일\n",
    "* 추상적인 어떤 내용을 특정한 프로그래밍 언어를 통해 컴퓨터에 동작가능한 프로그램을 작성하는 일을 프로그래밍이라고 합니다. 요즘은 코딩이라는 말도 많이 쓰죠. 혹은 소프트웨어라고도 표현하는데 사실 물질로 존재하지 않는 눈에 보이지 않는 추상적인 내용입니다.\n",
    "* 그런데 그 눈에 보이지 않는 추상적인 것들이 실제 우리 주변엔 없는 곳 없이 널려있고 소프트웨어 속에서 살고 있는게 현실입니다. 소프트웨어는 모든 방면에서 우리의 삶을 편하고 효율적이게 만들어주죠. 비현실적인걸 현실적이게 만들어주기도 합니다.\n",
    "\n",
    "* 프로그래밍을 한다는것은 프로그래머의 아이디어, 생각을 컴퓨터로 표현하는 것 입니다."
   ]
  },
  {
   "cell_type": "markdown",
   "metadata": {},
   "source": [
    "## 우리 주변의 프로그램들\n",
    "\n",
    "- 스마트폰에 설치되어있는 수많은 앱들\n",
    "- 현존하는 모든 금융시스템, ATM 기에 윈도우로 돌아가는 프로그램\n",
    "- 냉장고, TV, 전기밥솥, 세탁기 모두 소프트웨어 내장 되어있습니다. 현재는 더 나아가 Iot 로 넘어가고 있는 실정이죠.\n",
    "- 전기를 생산하는 발전소에서도 소프트웨가 구동할테고 \n",
    "- 공항의 항공기들은 모두 소프트웨어에 의해 모니터링 되고 조종되고\n",
    "- 예를 들어 음식점에 주문을 하면 전화가 울리면서 포스기기에 기록뜨고 주문을 받고 배달원에 콜이 가는 시스템(현재는 무인 식당도 나오고 있는)\n",
    "- 제조 공장에서 무인으로 작업하는 로봇들 역시 모두 소프트웨어를 통해 동작하죠.\n",
    "\n",
    "차라리 소프트웨어가 없는 현실을 찾아보는게 더 빠를수도 있을것 같습니다. 뭐 이런 분위기나 상황만 봐도 우리가 프로그래밍을 왜 배워야 하는지는 굳이 더 설명하지 않아도 될것 같아 보입니다."
   ]
  },
  {
   "cell_type": "markdown",
   "metadata": {},
   "source": [
    "# 어떤 프로그래밍 언어를 배워야 하는가?\n",
    "\n",
    "<img src=\"http://carlcheo.com/wp-content/uploads/2014/12/which-programming-language-should-i-learn-first-infographic.png\" width=700>\n",
    "<center>[이미지출처 <a href=\"http://carlcheo.com/startcoding\" target=\"_blank\">http://carlcheo.com/startcoding]</a></center>"
   ]
  },
  {
   "cell_type": "markdown",
   "metadata": {},
   "source": [
    "## 언어의 종류와 점유율\n",
    "\n",
    "* https://www.tiobe.com/tiobe-index/"
   ]
  },
  {
   "cell_type": "markdown",
   "metadata": {},
   "source": [
    "### 자바\n",
    "- 1995년 썬 마이크로시스템즈에서 개발\n",
    "- JVM 에 대한 이해가 필요\n",
    "- 점유율이 킹왕짱인 언어, 자바만 잘하면 일자리 걱정 없음(개인적인 의견)\n",
    "- 나온지도 오래 되었고 점유율이 높으니 레퍼런스가 많음\n",
    "- 범용적인 언어 안드로이드 앱개발, 응용프로그램 등등 쓰이는곳이 엄청 많음, JVM이 돌아가면 다 돌아감\n",
    "\n",
    "\n",
    "- 자바 할줄 아는 사람이 너무 많아 일자리 경쟁률이 높음\n",
    "- 속도 문제 (안드로이드와 IOS 차이로 보면....)\n",
    "- 기본적인 구조를 위한 코드양이 많음\n",
    "- 객체지향적인게 선택이 아니라 필수적인거라 전역함수의 개념없이 뭐든 클래스에 종속되어야 함 그래서 초보가 배우기 쉽지 않음"
   ]
  },
  {
   "cell_type": "markdown",
   "metadata": {},
   "source": [
    "### C/C++\n",
    "\n",
    "- C 언어는 1972년 벨 연구소에서 개발됨, C++ 은 1983년 개발\n",
    "- OS 플랫폼과 OS 에서 제공하는 API에 대한 이해가 필요\n",
    "- 사실 C 와 C++은 다른 언어지만 그냥 중요한건 아니니 묶어서 표현합니다.\n",
    "- 프로그래밍 얘기 나오면 빠지지 않는 C는 범용언어로 성능이 중요하거나 제한적인 환경(하드웨어 메모리등)에 사용\n",
    "- C++은 C와 비슷하지만 C에 없는 객체지향적인 특성과 몇몇가지 발전된 기능이 있습니다.\n",
    "- 보통 특별한 경우가 아니면 C/C++ 모두를 할 줄 아는 사람을 뽑습니다.\n",
    "- 모든 언어의 기초적인 개념이라 배워두면 무조건 좋은 언어지만 배우기 어려운 언어 그래서 초보에겐 비추\n",
    "- const unsigned char (* const color, &myvalue); 이걸 초보에게 설명하려면...."
   ]
  },
  {
   "cell_type": "markdown",
   "metadata": {},
   "source": [
    "### C&#35;\n",
    "\n",
    "- 2000년 7월 마이크로소프트에서 개발\n",
    "- 닷넷 프레임워크에 대한 이해가 필요\n",
    "- MS 의 닷넷 프레임워크에서 제공되는 언어\n",
    "- 유니티를 써서 게임 개발할려면 C# 해야함\n",
    "- C++ 과 자바를 섞어놓은듯한....."
   ]
  },
  {
   "cell_type": "markdown",
   "metadata": {},
   "source": [
    "### Javascript\n",
    "\n",
    "- 1995년 파이어폭스를 만든 브랜든 아이크가 넷스케이프에서 일하며 개발\n",
    "- 프레임워크 및 라이브러리에 대한 이해가 필요\n",
    "- Java와 아무 상관없음\n",
    "- C에서 영향을 받은 C-Family 언어로 기본 스타일이 비슷(블럭구분, 세미콜론, 변수쓰는법, 연산자 사용법 등)\n",
    "- 원래 클라이언트 프론트앤드에서만 쓰였는데 요즘은 서버쪽 백엔드에서도 사용가능\n",
    "- AngularJS, ReactJS, VueJS 등으로 요즘 인기가 높음"
   ]
  },
  {
   "cell_type": "markdown",
   "metadata": {},
   "source": [
    "### Objective-C, Swift\n",
    "\n",
    "- Objective-C 1983년 브래드 콕스와 톰 러브가 개발 넥스트의 스티브 잡스가 모든 권리를 구매, Swift 는 2014년 공개됨\n",
    "- OS 및 플랫폼과 API 에 대한 이해가 필요\n",
    "- 맥OS, IOS 에 뭐 만들려면 선택의 여지 없이 해야함"
   ]
  }
 ],
 "metadata": {
  "kernelspec": {
   "display_name": "Python 3",
   "language": "python",
   "name": "python3"
  },
  "language_info": {
   "codemirror_mode": {
    "name": "ipython",
    "version": 3
   },
   "file_extension": ".py",
   "mimetype": "text/x-python",
   "name": "python",
   "nbconvert_exporter": "python",
   "pygments_lexer": "ipython3",
   "version": "3.6.3"
  }
 },
 "nbformat": 4,
 "nbformat_minor": 2
}
