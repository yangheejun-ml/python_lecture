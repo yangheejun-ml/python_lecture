{
 "cells": [
  {
   "cell_type": "markdown",
   "metadata": {},
   "source": [
    "# 파이썬 들여쓰기\n",
    "\n",
    "보통 코딩을 할때 가독성을 위해 들여쓰기를 사용합니다. 뭐 예를 들자면 "
   ]
  },
  {
   "cell_type": "code",
   "execution_count": null,
   "metadata": {},
   "outputs": [],
   "source": [
    "if(name == \"홍길동\")\n",
    "{\n",
    "    // 조건문 내용\n",
    "    int a = 0;\n",
    "    int b = 0;\n",
    "}"
   ]
  },
  {
   "cell_type": "markdown",
   "metadata": {},
   "source": [
    "이런식으로 함수나 조건문, 반복문 등 코드 블럭을 들여쓰기 함으로서 해당 코드가 어디에 속해있는지 보기 편하게 하죠.   \n",
    "물론 이 부분은 강제사항이 아닙니다만 파이썬은 문법적인 강제사항입니다."
   ]
  },
  {
   "cell_type": "code",
   "execution_count": null,
   "metadata": {},
   "outputs": [],
   "source": [
    "if name == \"홍길동\":\n",
    "    a = 0\n",
    "    b = 0    "
   ]
  },
  {
   "cell_type": "markdown",
   "metadata": {},
   "source": [
    "이런식으로 반드시 함수나 조건문, 반복문 등의 코드블럭을 들여쓰기 해야만 합니다.  \n",
    "들여쓰기는 2칸, 4칸의 공백으로 사용할 수도 있고 탭을 사용할 수도 있으나 반드시 해당 py파일 내에선 이 규칙이 동일해야만 합니다.\n",
    "그러니까 공백 2칸이면 모두 공백 2칸, 4칸이면 4칸, 탭이면 탭 한가지로 통일 해야만 합니다. 공백과 탭을 섞어쓰면 오류입니다.\n",
    "\n",
    "\n",
    "## 비쥬얼 스튜디오 코드에서 탭 사이즈 설정\n",
    "\n",
    "![VS Code Tab](images/tab.jpg)\n",
    "\n",
    "비쥬얼 스튜디오 코드 우측 하단에서 바로 설정 가능합니다."
   ]
  },
  {
   "cell_type": "markdown",
   "metadata": {},
   "source": [
    "## 파이썬 주석\n",
    "\n",
    "* 주석이란 개발자가 프로그램에 설명 같은 코멘트를 달아놓은 설명 같은 영역입니다. \n",
    "* 주석은 프로그램 동작과는 아무런 상관이 없습니다.\n",
    "* 파이썬에서 주석은 # 으로 표현합니다. \n",
    "* 긴 내용의 주석은 '''내용''' 으로 표현합니다.(따옴표3개)"
   ]
  },
  {
   "cell_type": "markdown",
   "metadata": {},
   "source": [
    "## 파이썬 세미콜론;\n",
    "\n",
    "* 보통 몇몇 언어들에서 구문의 끝을 세미콜론으로 표현하는데 파이썬에서는 세미콜론이 필요는 없습니다.\n",
    "* 파이썬에서는 가끔 여러줄을 한줄로 이어쓸때 세미콜론을 쓸때도 있습니다."
   ]
  },
  {
   "cell_type": "code",
   "execution_count": null,
   "metadata": {},
   "outputs": [],
   "source": [
    "print(\"Hello\"); print(\"World\")"
   ]
  },
  {
   "cell_type": "markdown",
   "metadata": {},
   "source": [
    "# 파이썬 정적 분석툴 pylint\n",
    "\n",
    "파이썬을 코딩하면서 오류나 코드 스타일 등 코딩에 도움을 주는 분석 툴 입니다.   \n",
    "물론 특정 상황에서 약간의 오류가 있기도 한데 이런 오류는 설정을 통해 극복할 수 있습니다.  \n",
    "자 일단 파이썬에서는 이걸 어떻게 쓰나 봅시다.  \n",
    "일단 VS CODE 에서 처음으로 py 파일을 하나 만들고 저장해봅시다.\n",
    "\n",
    "\n",
    "비쥬얼스튜디오 코드가 파이썬 파일을 자동으로 인식하고 파이썬 extension설치를 권하는데 일단 설치해줍니다.   \n",
    "그리고 나면 pylint 설치를 권합니다.  \n",
    "여기서 이 pylint 가 파이썬의 문법을 정적으로 분석하고 안내 해주게 됩니다."
   ]
  },
  {
   "cell_type": "markdown",
   "metadata": {},
   "source": [
    "### 수동설치 방법\n",
    "1. pylint 설치\n",
    "> pip install pylint  \n",
    "\n",
    "\n",
    "![image.png](images/pylint_1.jpg)\n",
    "2. 비쥬얼 스튜디오 코드에서 보기 > 명령팔레트 (Ctrl + Shift + P)\n",
    "\n",
    "![image.png](images/pylint_2.jpg)\n",
    "3. 명령팔레트에서 Python: Select Linter (Linter 검색)\n",
    "\n",
    "![image.png](images/pylint_3.jpg)\n",
    "4. 설치된 Linter 에서 pylint 선택"
   ]
  },
  {
   "cell_type": "markdown",
   "metadata": {},
   "source": [
    "## pylint 원하지 않는 문법 체크 해제하기\n",
    "\n",
    "![image.png](images/pylint_0.jpg)\n",
    "\n",
    "\n",
    "* 예를 들어 위의 경고 메세지는 def 함수에 docstring 이 없어 pylint 경고가 뜨는걸 볼 수 있습니다.\n",
    "* 이런식의 긴줄 경고, 띄어쓰기 경고 등 거슬리는 특정 문법 체크 기능만 해제 할 수 있습니다.\n",
    "* 먼저 해당 경고의 코드값을 알아야 하는데 아래 링크를 참고하여 알 수 있습니다.\n",
    "* http://pylint-messages.wikidot.com/all-codes"
   ]
  },
  {
   "cell_type": "markdown",
   "metadata": {},
   "source": [
    "![image.png](images/pylint_5.jpg)\n",
    "\n",
    "* File > Preferences > Settings (단축키 Ctrl + , )\n",
    "\n",
    "![image.png](images/pylint_4.jpg)\n",
    "\n",
    "* FIle > Preferences > Settings (단축키 Ctrl + , ) 하면 셋팅이 열리는데 파일탭 우측 {} 버튼을 눌러 settings.josn 파일을 직접 수정\n",
    "* 참고로 파일이 한개도 열리지 않은 상태에선 진입할 수 없습니다.\n",
    "\n",
    "\n",
    "![image.png](images/pylint_6.jpg)\n",
    "\n",
    "* \"python.linting.pylintArgs\": [\"--disable=C0111\"] 이런식으로 해제 하고 싶은 오류코드를 기재할 수 있습니다."
   ]
  }
 ],
 "metadata": {
  "kernelspec": {
   "display_name": "Python 3",
   "language": "python",
   "name": "python3"
  },
  "language_info": {
   "codemirror_mode": {
    "name": "ipython",
    "version": 3
   },
   "file_extension": ".py",
   "mimetype": "text/x-python",
   "name": "python",
   "nbconvert_exporter": "python",
   "pygments_lexer": "ipython3",
   "version": "3.6.3"
  }
 },
 "nbformat": 4,
 "nbformat_minor": 2
}
