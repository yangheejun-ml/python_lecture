{
 "cells": [
  {
   "cell_type": "markdown",
   "metadata": {},
   "source": [
    "# 반복문 while\n",
    "\n",
    "어떤 조건을 만족할때까지 코드를 반복시킬때 사용하는 문법"
   ]
  },
  {
   "cell_type": "code",
   "execution_count": 1,
   "metadata": {},
   "outputs": [
    {
     "name": "stdout",
     "output_type": "stream",
     "text": [
      "손님이 2 명 ㅇ입니다.\n",
      "손님이 3 명 ㅇ입니다.\n",
      "손님이 4 명 ㅇ입니다.\n",
      "손님이 5 명 ㅇ입니다.\n",
      "손님이 6 명 ㅇ입니다.\n",
      "손님이 7 명 ㅇ입니다.\n",
      "손님이 8 명 ㅇ입니다.\n",
      "손님이 9 명 ㅇ입니다.\n",
      "손님이 10 명 ㅇ입니다.\n",
      "손님이 꽉 찼습니다.\n"
     ]
    }
   ],
   "source": [
    "guest = 1\n",
    "while guest < 10:\n",
    "    guest = guest + 1\n",
    "    print(\"손님이 {} 명 ㅇ입니다.\".format(guest))\n",
    "    if guest == 10:\n",
    "        print(\"손님이 꽉 찼습니다.\")"
   ]
  },
  {
   "cell_type": "code",
   "execution_count": null,
   "metadata": {},
   "outputs": [],
   "source": [
    "while 조건문 : \n",
    "    코드 내용...\n",
    "    코드 내용...\n",
    "    코드 내용...\n",
    "    \n",
    "\n",
    "이런식으로 사용합니다."
   ]
  },
  {
   "cell_type": "markdown",
   "metadata": {},
   "source": [
    "### 1부터 10숫자를 홀짝으로 출력"
   ]
  },
  {
   "cell_type": "code",
   "execution_count": 4,
   "metadata": {},
   "outputs": [
    {
     "name": "stdout",
     "output_type": "stream",
     "text": [
      "홀 1\n",
      "짝 2\n",
      "홀 3\n",
      "짝 4\n",
      "홀 5\n",
      "짝 6\n",
      "홀 7\n",
      "짝 8\n",
      "홀 9\n",
      "짝 10\n"
     ]
    }
   ],
   "source": [
    "num = 1\n",
    "while num <= 10:\n",
    "    if num % 2 == 0:\n",
    "        print(\"짝 {}\".format(num))\n",
    "    else:\n",
    "        print(\"홀 {}\".format(num))\n",
    "    num = num + 1"
   ]
  },
  {
   "cell_type": "markdown",
   "metadata": {},
   "source": [
    "### 1부터 10숫자의 홀의 합, 짝의 합 구하기"
   ]
  },
  {
   "cell_type": "code",
   "execution_count": 2,
   "metadata": {},
   "outputs": [
    {
     "name": "stdout",
     "output_type": "stream",
     "text": [
      "홀 합: 25\n",
      "짝 합: 30\n"
     ]
    }
   ],
   "source": [
    "num = 1\n",
    "jjak = 0\n",
    "hol = 0\n",
    "while num <= 10:\n",
    "    if num % 2 == 0:\n",
    "        jjak = num + jjak\n",
    "    else:\n",
    "        hol = num + hol\n",
    "    num = num + 1\n",
    "print(\"홀 합: {}\".format(hol))\n",
    "print(\"짝 합: {}\".format(jjak))"
   ]
  },
  {
   "cell_type": "markdown",
   "metadata": {},
   "source": [
    "### 1부터 100까지 합"
   ]
  },
  {
   "cell_type": "code",
   "execution_count": 1,
   "metadata": {},
   "outputs": [
    {
     "name": "stdout",
     "output_type": "stream",
     "text": [
      "5050\n"
     ]
    }
   ],
   "source": [
    "num = 1\n",
    "hap = 0\n",
    "while num <= 100:\n",
    "    hap = num + hap\n",
    "    num = num + 1\n",
    "print(hap)"
   ]
  }
 ],
 "metadata": {
  "kernelspec": {
   "display_name": "Python 3",
   "language": "python",
   "name": "python3"
  },
  "language_info": {
   "codemirror_mode": {
    "name": "ipython",
    "version": 3
   },
   "file_extension": ".py",
   "mimetype": "text/x-python",
   "name": "python",
   "nbconvert_exporter": "python",
   "pygments_lexer": "ipython3",
   "version": "3.6.3"
  }
 },
 "nbformat": 4,
 "nbformat_minor": 2
}
