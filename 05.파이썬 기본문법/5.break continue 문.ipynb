{
 "cells": [
  {
   "cell_type": "markdown",
   "metadata": {},
   "source": [
    "# break\n",
    "\n",
    "\n",
    "break 문은 for, while 반복문을 수행하다 특정 조건이 되면 반목문을 탈출하는 문법 입니다."
   ]
  },
  {
   "cell_type": "code",
   "execution_count": null,
   "metadata": {},
   "outputs": [],
   "source": [
    "number = 0\n",
    "while True:\n",
    "    print(number)\n",
    "    if number == 10:\n",
    "        break\n",
    "    number = number + 1\n",
    "    \n",
    "for i in range(1, 100):\n",
    "    print(i)\n",
    "    if i == 10:\n",
    "        break"
   ]
  },
  {
   "cell_type": "markdown",
   "metadata": {},
   "source": [
    "### 실수하면 안되는 부분"
   ]
  },
  {
   "cell_type": "code",
   "execution_count": null,
   "metadata": {},
   "outputs": [],
   "source": [
    "for i in range(10):\n",
    "    for j in range(10):\n",
    "        print(i, j)\n",
    "        if j == 3:\n",
    "            break # 여기서 break는 안쪽 for문만 빠져나가고 바깥쪽 for문을 나가진 않습니다."
   ]
  },
  {
   "cell_type": "markdown",
   "metadata": {},
   "source": [
    "# continue\n",
    "\n",
    "continue 문은 반목문을 수행하다 continue 문을 만나면 continue 이하의 코드는 수행하지 않고 다시 조건식을 판단하는 곳으로 점프 시키는 문법"
   ]
  },
  {
   "cell_type": "code",
   "execution_count": null,
   "metadata": {},
   "outputs": [],
   "source": [
    "number = 0\n",
    "while number < 10:\n",
    "    number = number + 1\n",
    "    if number == 5:\n",
    "        continue\n",
    "    print(number)"
   ]
  },
  {
   "cell_type": "code",
   "execution_count": null,
   "metadata": {},
   "outputs": [],
   "source": [
    "point = [80, 100, 50, 40, 60]\n",
    "\n",
    "for p in point:\n",
    "    if p < 70:\n",
    "        continue\n",
    "    print(\"{} 점 입니다.\".format(p))"
   ]
  },
  {
   "cell_type": "code",
   "execution_count": null,
   "metadata": {},
   "outputs": [],
   "source": [
    "hap = 0\n",
    "for i in range(1, 10):\n",
    "    if i % 2 == 0:\n",
    "        continue\n",
    "    hap = hap + i\n",
    "    print(\"{} {}\".format(i, hap))\n",
    "print(\"총합:{}\".format(hap))"
   ]
  }
 ],
 "metadata": {
  "kernelspec": {
   "display_name": "Python 3",
   "language": "python",
   "name": "python3"
  },
  "language_info": {
   "codemirror_mode": {
    "name": "ipython",
    "version": 3
   },
   "file_extension": ".py",
   "mimetype": "text/x-python",
   "name": "python",
   "nbconvert_exporter": "python",
   "pygments_lexer": "ipython3",
   "version": "3.6.3"
  }
 },
 "nbformat": 4,
 "nbformat_minor": 2
}
