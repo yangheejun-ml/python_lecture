{
 "cells": [
  {
   "cell_type": "markdown",
   "metadata": {},
   "source": [
    "# 반복문 for\n",
    "\n",
    "for문은 위에서 배웠던 문자열, 리스트, 튜플 같은 순서형 자료의 요소를 반복시킬때 사용하는 반복문"
   ]
  },
  {
   "cell_type": "code",
   "execution_count": null,
   "metadata": {},
   "outputs": [],
   "source": [
    "a = \"hello python\"\n",
    "for i in a:\n",
    "    print(i)"
   ]
  },
  {
   "cell_type": "code",
   "execution_count": null,
   "metadata": {},
   "outputs": [],
   "source": [
    "a = [\"python\", \"java\", \"c++\", \"hello\"]\n",
    "\n",
    "for i in a:\n",
    "    print(i)"
   ]
  },
  {
   "cell_type": "markdown",
   "metadata": {},
   "source": [
    "### for 변수 in (문자열, 리스트, 튜플 등 순서를 갖은 자료) : \n",
    "    수행할 코드\n",
    "    수행할 코드"
   ]
  },
  {
   "cell_type": "code",
   "execution_count": null,
   "metadata": {},
   "outputs": [],
   "source": [
    "for i in range(10):\n",
    "    print(i)"
   ]
  },
  {
   "cell_type": "code",
   "execution_count": null,
   "metadata": {},
   "outputs": [],
   "source": [
    "for i in range(5, 10):\n",
    "    print(i)"
   ]
  },
  {
   "cell_type": "code",
   "execution_count": null,
   "metadata": {},
   "outputs": [],
   "source": [
    "# 증가값이 있는 경우\n",
    "for i in range(0, 10, 2):\n",
    "    print(i)"
   ]
  },
  {
   "cell_type": "code",
   "execution_count": null,
   "metadata": {},
   "outputs": [],
   "source": [
    "a = [(1,2), (3,4), (5,6)]\n",
    "for i in a:\n",
    "    print(i)\n",
    "    \n",
    "for i in a:\n",
    "    for j in i:\n",
    "        print(j)\n",
    "\n",
    "for (num1, num2) in a:\n",
    "    print(num1, num2)"
   ]
  },
  {
   "cell_type": "code",
   "execution_count": null,
   "metadata": {},
   "outputs": [],
   "source": [
    "a = [[1,2,3,4,5], [6,7,8,9,10], [11,12,13,4]]\n",
    "for i in a:\n",
    "    for j in i:\n",
    "        print(j)\n",
    "        \n",
    "a = [[[1,2,3,4], [2,3,4,5]],[[5,6,7],[8,9,0]]]\n",
    "for i in a:\n",
    "    for j in i:\n",
    "        for x in j:\n",
    "            print(x)"
   ]
  },
  {
   "cell_type": "code",
   "execution_count": null,
   "metadata": {},
   "outputs": [],
   "source": [
    "student = [{\"홍길동\": 100}, {\"김한국\": 70}, {\"가가멜\": 10}, {\"아즈라엘\": 30}]\n",
    "\n",
    "for i in student:\n",
    "    data = list(i.items())[0]\n",
    "    name = data[0]\n",
    "    value = data[1]\n",
    "    data = list(i.keys())[0]\n",
    "    value = list(i.values())[0]\n",
    "    if value >= 70:\n",
    "        print(\"{}님 {} 점으로 합격\".format(name, value))\n",
    "    else:\n",
    "        print(\"{}님 {} 점으로 불합격\".format(name, value))\n"
   ]
  },
  {
   "cell_type": "markdown",
   "metadata": {},
   "source": [
    "### enumerate\n",
    "\n",
    "순서가 있는 자료형일때 인덱스값을 리턴하는 함수"
   ]
  },
  {
   "cell_type": "code",
   "execution_count": null,
   "metadata": {},
   "outputs": [],
   "source": [
    "msg = \"python programming\"\n",
    "for m in msg:\n",
    "    print(m)\n",
    "\n",
    "for i, m in enumerate(msg):\n",
    "    print(i, m)\n",
    "\n",
    "for i, m in enumerate(msg, start=1):\n",
    "    print(i, m)"
   ]
  },
  {
   "cell_type": "markdown",
   "metadata": {},
   "source": [
    "### 리스트 컴프리헨션"
   ]
  },
  {
   "cell_type": "markdown",
   "metadata": {},
   "source": [
    "#### 1~5 숫자를 각각 5씩 더한 결과"
   ]
  },
  {
   "cell_type": "code",
   "execution_count": null,
   "metadata": {},
   "outputs": [],
   "source": [
    "result = []\n",
    "for num in range(1, 6):\n",
    "    result.append(num + 5)\n",
    "print(result)"
   ]
  },
  {
   "cell_type": "markdown",
   "metadata": {},
   "source": [
    "### 컴프리헨션 표기"
   ]
  },
  {
   "cell_type": "code",
   "execution_count": null,
   "metadata": {},
   "outputs": [],
   "source": [
    "result = [num + 5 for num in range(1, 6)]\n",
    "print(result)"
   ]
  },
  {
   "cell_type": "markdown",
   "metadata": {},
   "source": [
    "### 1~5까지 반복하며 짝수인 요소만 5증가하여 result 추가를 컴프리헨션으로"
   ]
  },
  {
   "cell_type": "code",
   "execution_count": null,
   "metadata": {},
   "outputs": [],
   "source": [
    "result = [num + 5 for num in range(1, 6) if num % 2 == 0]\n",
    "print(result)"
   ]
  },
  {
   "cell_type": "markdown",
   "metadata": {},
   "source": [
    "### 1~99까지 반복하며 짝수만 곱하기3을 하여 result 추가를 컴프리헨션으로"
   ]
  },
  {
   "cell_type": "code",
   "execution_count": null,
   "metadata": {},
   "outputs": [],
   "source": [
    "result = [num * 3 for num in range(1, 100) if num % 2 == 0]\n",
    "print(result)"
   ]
  },
  {
   "cell_type": "markdown",
   "metadata": {},
   "source": [
    "## 2차원 배열의 컴프리헨션\n",
    "* 구구단을 출력하는 2차원 배열 형태 입니다."
   ]
  },
  {
   "cell_type": "code",
   "execution_count": null,
   "metadata": {},
   "outputs": [],
   "source": [
    "for i in range(2, 10):\n",
    "    for j in range(1, 10):\n",
    "        result = i * j\n",
    "        print(\"{} x {} = {}\".format(i, j, result))"
   ]
  },
  {
   "cell_type": "code",
   "execution_count": null,
   "metadata": {},
   "outputs": [],
   "source": [
    "gugudan = [i * j for i in range(2, 10) for j in range(1, 10)]\n",
    "print(gugudan)"
   ]
  }
 ],
 "metadata": {
  "kernelspec": {
   "display_name": "Python 3",
   "language": "python",
   "name": "python3"
  },
  "language_info": {
   "codemirror_mode": {
    "name": "ipython",
    "version": 3
   },
   "file_extension": ".py",
   "mimetype": "text/x-python",
   "name": "python",
   "nbconvert_exporter": "python",
   "pygments_lexer": "ipython3",
   "version": "3.6.3"
  }
 },
 "nbformat": 4,
 "nbformat_minor": 2
}
