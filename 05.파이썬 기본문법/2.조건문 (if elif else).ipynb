{
 "cells": [
  {
   "cell_type": "markdown",
   "metadata": {},
   "source": [
    "# 파이썬 조건문 (if elif else)\n",
    "\n",
    "조건문이란 주어진 조건이 참이냐 거짓이냐를 판단하는 명령어 입니다."
   ]
  },
  {
   "cell_type": "markdown",
   "metadata": {},
   "source": [
    "### **\"현재 시간이 12시면 점심을 먹으러 가고 아니면 일을 한다.\"**"
   ]
  },
  {
   "cell_type": "markdown",
   "metadata": {},
   "source": [
    "위의 문장을 파이썬으로 표현한다면..."
   ]
  },
  {
   "cell_type": "code",
   "execution_count": null,
   "metadata": {},
   "outputs": [],
   "source": [
    "time = 12\n",
    "if time == 12:\n",
    "    print(\"점심을 먹으러 ㄱㄱ\")\n",
    "else:\n",
    "    print(\"일하는 중\")"
   ]
  },
  {
   "cell_type": "markdown",
   "metadata": {},
   "source": [
    "첫줄에 time 이란 변수가 12 기 때문에 if 의 조건 time == 12 는 참(True)가 되며 그래서 다음 문장 print(\"점심을 먹으러 ㄱㄱ\") 가 출력됩니다.\n",
    "if 문이나 else 절 같은 조건문의 끝은 : 콜론으로 끝나야 하며 해당 코딩블럭은 반드시 들여쓰기 되어야 합니다.\n",
    "여기서 == 는 비교 연산자중 하나인데 같다를 의미합니다. = 는 값을 대입하는거고 == 는 같다를 표현합니다.\n",
    "같다의 반대인 다르다는 != 로 표현하거나 <> 로 표현할 수 있습니다.\n",
    "위의 내용을 반대로 다시 코딩해보면...."
   ]
  },
  {
   "cell_type": "code",
   "execution_count": null,
   "metadata": {},
   "outputs": [],
   "source": [
    "time = 12\n",
    "if time != 12:\n",
    "    print(\"일하는 중\")\n",
    "else:\n",
    "    print(\"점심을 먹으러 ㄱㄱ\")"
   ]
  },
  {
   "cell_type": "markdown",
   "metadata": {},
   "source": [
    "이렇게 사용할 수도 있습니다. 물론 위의 내용과 같은 내용을 코딩한거고 조건문을 반대로 주었을뿐입니다.\n",
    "위에서는 ***시간이 12시면*** 이라고 코딩된것이고 아래는 ***시간이 12시가 아니면*** 이라는 조건문으로 표현되었습니다."
   ]
  },
  {
   "cell_type": "markdown",
   "metadata": {},
   "source": [
    "### **\"현재 시간이 12시부터 1시 이전이면 점심을 먹으러 가고 아니면 일을 한다.\"**\n",
    "\n",
    "를 파이썬으로 코딩한다면..."
   ]
  },
  {
   "cell_type": "code",
   "execution_count": null,
   "metadata": {},
   "outputs": [],
   "source": [
    "time = 12\n",
    "if time >= 12 and time < 1:\n",
    "    print(\"점심을 먹으러 ㄱㄱ\")\n",
    "else:\n",
    "    print(\"일하는 중\")"
   ]
  },
  {
   "cell_type": "markdown",
   "metadata": {},
   "source": [
    "여기서 점심시간이 12시부터니까 >= 연산자를 사용한걸 잘 보셔야 합니다. >= 과 > 는 이상이냐 초과냐로 볼 수 있습니다.\n",
    "이 내용을 또 다르게 코딩한다면..."
   ]
  },
  {
   "cell_type": "code",
   "execution_count": 4,
   "metadata": {},
   "outputs": [
    {
     "name": "stdout",
     "output_type": "stream",
     "text": [
      "일하는 중\n"
     ]
    }
   ],
   "source": [
    "time = 12\n",
    "if 12 <= time < 1:\n",
    "    print(\"점심을 먹으러 ㄱㄱ\")\n",
    "else:\n",
    "    print(\"일하는 중\")"
   ]
  },
  {
   "cell_type": "markdown",
   "metadata": {},
   "source": [
    "이렇게 time 변수가 중복되는걸 줄여서 하나로 표현할 수도 있습니다."
   ]
  },
  {
   "cell_type": "markdown",
   "metadata": {},
   "source": [
    "이번에는 조건이 \n",
    "\n",
    "\n",
    "### **\"현재 시간이 12시 부터 1시 이전이면 점심을 먹으러 가고 3시 부터 4시까지는 휴식하고 아니면 일을 한다.\"**\n",
    "\n",
    "\n",
    "를 코딩해보면"
   ]
  },
  {
   "cell_type": "code",
   "execution_count": 6,
   "metadata": {},
   "outputs": [
    {
     "name": "stdout",
     "output_type": "stream",
     "text": [
      "일하는 중\n"
     ]
    }
   ],
   "source": [
    "time = 12\n",
    "if 12 <= time < 1:\n",
    "    print(\"점심을 먹으러 ㄱㄱ\")\n",
    "elif 3 <= time <= 4:\n",
    "    print(\"휴식시간\")\n",
    "else:\n",
    "    print(\"일하는 중\")"
   ]
  },
  {
   "cell_type": "markdown",
   "metadata": {},
   "source": [
    "다른 판단할 조건이 복수개인경우 elif 를 사용할 수 있습니다. 물론 elif 의 갯수는 제한이 없습니다.  \n",
    "만약 조건이 복잡한 경우\n",
    "\n",
    "### **\"현재 시간이 12시부터 1시 이전이면 점심을 먹으러 가고 3시부터 4시이거나 아프면 휴식하고 아니면 일을 한다.\"**\n",
    "\n",
    "시간 조건과 아프다는 조건이 하나 더 나온 상황입니다. 이 문장을 코딩으로 표현한다면??? "
   ]
  },
  {
   "cell_type": "code",
   "execution_count": null,
   "metadata": {},
   "outputs": [],
   "source": [
    "time = 12\n",
    "seek = True\n",
    "\n",
    "if 12 <= time < 1 and not seek:\n",
    "    print(\"점심을 먹으러 ㄱㄱ\")\n",
    "elif 3 <= time <= 4 or seek:\n",
    "    print(\"휴식시간\")\n",
    "else:\n",
    "    print(\"일하는 중\")"
   ]
  },
  {
   "cell_type": "markdown",
   "metadata": {},
   "source": [
    "별 내용도 없는데 점점 복잡해 집니다.\n",
    "여기서 and 와 or 가 새롭게 등장합니다. \n",
    "and 연산자는 a and b 하면 a 와 b 가 모두 True 일때 True 됩니다.\n",
    "or 연산자는 a or b 하면 a 혹은 b 중 하나만 True 여도 True 됩니다.\n",
    "뭐 어렵게 생각할꺼 없고 그냥 단어 뜻 그대로 그리고 와 혹은 이렇게 읽어보면\n",
    "a 그리고 b 는 둘다를 포함, a 혹은 b 은 둘중 하나.. 라고 쉽게 생각하시기 바랍니다.\n",
    "\n",
    "\n",
    "위 코딩 내용은 일단 시간은 기존과 같이 판단할 수 있는데 여기서 아프면 휴식한다는 조건이 더 붙습니다.  \n",
    "여기서 \"아프면\" 이란 조건은 휴식을 수행해야하는 조건이기 때문에 점심을 먹는 시간이 됐더라도 아프면 휴식을 해야하니까\n",
    "점심먹는 조건문에 not seek 이라는 조건이 붙었습니다. \n",
    "not 변수는 변수가 거짓이면 참이 되는데 여기서 seek = True 였기 때문에 참이니까 반대로 거짓이 됩니다. \n",
    "그냥 쉽게 단어 뜻 그대로 아프지 않으면.. 이렇게 해석하는게 편합니다.\n",
    "\n",
    "\n",
    "그래서 조건에 점심먹는 조건에 만족하지 않고 다음 elif 문에서 or seek 이란 조건을 두었습니다.\n",
    "3 <= time <= 4 or seek 을 그냥 뜻데로 보면 \"3시부터 4시 사이거나 아프면\" 이렇게 해석할 수 있습니다.\n",
    "결론은 어쨌든 아프면... 무조건 휴식을 수행하게 됩니다."
   ]
  },
  {
   "cell_type": "markdown",
   "metadata": {},
   "source": [
    "## if else 한줄 처리\n",
    "\n",
    "* 가끔 별 내용도 없는데 if elif를 쓰다보면 줄 수가 길어져서 이걸 한줄에 깔끔하게 쓰고 싶은 생각이 들때가 있습니다. 가장 간단한 방법은 줄바꿈을 하지 않고 콜론(:) 뒤에 바로 이어서 코딩하는 방법이 있습니다."
   ]
  },
  {
   "cell_type": "code",
   "execution_count": null,
   "metadata": {},
   "outputs": [],
   "source": [
    "if 12 <= time < 1 and not seek: print(\"점심을 먹으로 ㄱㄱ\")\n",
    "elif 3 <= time <= 4 or seek: print(\"휴식시간\")\n",
    "else: print(\"일하는중\")"
   ]
  },
  {
   "cell_type": "markdown",
   "metadata": {},
   "source": [
    "### one liner 스타일로 코딩"
   ]
  },
  {
   "cell_type": "code",
   "execution_count": 2,
   "metadata": {},
   "outputs": [],
   "source": [
    "# 원래 IF ELSE 문\n",
    "a = 10\n",
    "\n",
    "if a > 10:\n",
    "    ret = 100\n",
    "else:\n",
    "    ret = 500\n",
    "    \n",
    "# 한줄로 표현\n",
    "ret = 100 if a > 10 else 500"
   ]
  },
  {
   "cell_type": "code",
   "execution_count": 13,
   "metadata": {},
   "outputs": [],
   "source": [
    "mypoint = 100\n",
    "if mypoint > 80:\n",
    "    msg = \"성공\"\n",
    "else:\n",
    "    msg = \"실패\""
   ]
  },
  {
   "cell_type": "code",
   "execution_count": 11,
   "metadata": {},
   "outputs": [],
   "source": [
    "mypoint = 100\n",
    "msg = \"성공\" if mypoint > 80 else \"실패\""
   ]
  },
  {
   "cell_type": "code",
   "execution_count": 24,
   "metadata": {},
   "outputs": [
    {
     "name": "stdout",
     "output_type": "stream",
     "text": [
      "100\n",
      "100\n",
      "500\n"
     ]
    }
   ],
   "source": [
    "# 원래 IF ELIF ELSE 문\n",
    "a = 10\n",
    "if a > 10:\n",
    "    ret = 100\n",
    "elif a == 100:\n",
    "    ret == 500\n",
    "else:\n",
    "    ret = 0\n",
    "\n",
    "# 한줄로 표현\n",
    "a = 101\n",
    "ret = {a > 100: 100, a < 100: 0}.get(True, 500)\n",
    "print(ret)\n",
    "\n",
    "z = {True: 100, False:0}\n",
    "print(z[True])\n",
    "z = {False: 100, False:0}.get(True, 500)\n",
    "print(z)"
   ]
  },
  {
   "cell_type": "markdown",
   "metadata": {},
   "source": [
    "조건부 표현식을 쓰면 위처럼 코딩할 수도 있습니다.   \n",
    "여기서는 : 이 없는점에 유의 하셔야 합니다.\n",
    "\n",
    "\n",
    "또 if 문에서 많이 사용하는 스타일이 있는데 in, not in 이 있습니다."
   ]
  },
  {
   "cell_type": "code",
   "execution_count": 16,
   "metadata": {},
   "outputs": [
    {
     "name": "stdout",
     "output_type": "stream",
     "text": [
      "있음\n",
      "있음\n",
      "없음\n"
     ]
    }
   ],
   "source": [
    "name = \"abcde\"\n",
    "\n",
    "if \"a\" in name:\n",
    "    print(\"있음\")\n",
    "else:\n",
    "    print(\"없음\")\n",
    "    \n",
    "    \n",
    "names = [\"홍길동\", \"가가멜\", \"아즈라엘\"]\n",
    "if \"홍길동\" in names:\n",
    "    print(\"있음\")\n",
    "else:\n",
    "    print(\"없음\")\n",
    "    \n",
    "if \"김두한\" not in names:\n",
    "    print(\"없음\")\n",
    "else:\n",
    "    print(\"있음\")"
   ]
  }
 ],
 "metadata": {
  "kernelspec": {
   "display_name": "Python 3",
   "language": "python",
   "name": "python3"
  },
  "language_info": {
   "codemirror_mode": {
    "name": "ipython",
    "version": 3
   },
   "file_extension": ".py",
   "mimetype": "text/x-python",
   "name": "python",
   "nbconvert_exporter": "python",
   "pygments_lexer": "ipython3",
   "version": "3.6.3"
  }
 },
 "nbformat": 4,
 "nbformat_minor": 2
}
