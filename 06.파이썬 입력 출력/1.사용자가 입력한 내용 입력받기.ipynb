{
 "cells": [
  {
   "cell_type": "markdown",
   "metadata": {},
   "source": [
    "# 사용자 입력 input 함수\n",
    "\n",
    "\n",
    "이번시간에는 사용자에게 어떤 내용을 키보드로 입력받는 방법에 대해 알아보도록 하겠습니다.  \n",
    "자~ 사용자가 입력한 어떤 값을 변수에 저장하고 싶을때 어떻게 하는지 살펴보도록 하겠습니다."
   ]
  },
  {
   "cell_type": "code",
   "execution_count": null,
   "metadata": {},
   "outputs": [],
   "source": [
    "user = input()"
   ]
  },
  {
   "cell_type": "markdown",
   "metadata": {},
   "source": [
    "### 안내 문구 띄우기"
   ]
  },
  {
   "cell_type": "code",
   "execution_count": null,
   "metadata": {},
   "outputs": [],
   "source": [
    "user = input(\"사용자 이름을 입력해주세요.\")"
   ]
  },
  {
   "cell_type": "markdown",
   "metadata": {},
   "source": [
    "### 여기서 주의할 부분이 입력된 데이터는 str 형태이다.\n",
    "\n",
    "따라서 입력받은 값으로 계산을 하거나 하는 경우에는 오류가 발생할 수 있다."
   ]
  },
  {
   "cell_type": "code",
   "execution_count": null,
   "metadata": {},
   "outputs": [],
   "source": [
    "a = input(\"숫자1 입력\")\n",
    "b = input(\"숫자2 입력\")\n",
    "print(a + b)"
   ]
  },
  {
   "cell_type": "code",
   "execution_count": null,
   "metadata": {},
   "outputs": [],
   "source": [
    "a = int(input(\"숫자1 입력\"))\n",
    "b = int(input(\"숫자2 입력\"))\n",
    "print(a + b)"
   ]
  },
  {
   "cell_type": "markdown",
   "metadata": {},
   "source": [
    "### 어떤 프로그램에서 언어를 선택하는 기능이 있다고 가정했을때.."
   ]
  },
  {
   "cell_type": "code",
   "execution_count": null,
   "metadata": {},
   "outputs": [],
   "source": [
    "langs = [\"한국어\", \"English\"]\n",
    "for i, lang in enumerate(langs, start=1):\n",
    "    print(\"{}. {}\".format(i, lang))\n",
    "\n",
    "while True:\n",
    "    sel = int(input(\"언어를 선택하세요.\"))\n",
    "    if 0 < sel < 3:\n",
    "        break\n",
    "\n",
    "print(\"사용자가 선택한 언어는 {} 입니다.\".format(langs[sel-1]))"
   ]
  },
  {
   "cell_type": "markdown",
   "metadata": {},
   "source": [
    "### 사용자에게 입력받은 수가 소수인지 확인하기"
   ]
  },
  {
   "cell_type": "code",
   "execution_count": null,
   "metadata": {},
   "outputs": [],
   "source": [
    "num = int(input(\"2 이상의 숫자를 입력하세요.> \"))\n",
    "is_prime = True\n",
    "\n",
    "if num >= 2:\n",
    "    for n in range(2, num):\n",
    "        if num % n == 0:\n",
    "            is_prime = False\n",
    "            break\n",
    "            \n",
    "if is_prime:\n",
    "    print(\"소수 입니다.\")\n",
    "else:\n",
    "    print(\"소수가 아닙니다.\")"
   ]
  },
  {
   "cell_type": "markdown",
   "metadata": {},
   "source": [
    "### 에라토스테네스의 체\n",
    "\n",
    "https://ko.wikipedia.org/wiki/%EC%97%90%EB%9D%BC%ED%86%A0%EC%8A%A4%ED%85%8C%EB%84%A4%EC%8A%A4%EC%9D%98_%EC%B2%B4\n",
    "\n",
    "1. 2부터 소수를 구하고자 하는 구간의 모든 수를 나열한다. 그림에서 회색 사각형으로 두른 수들이 여기에 해당한다.\n",
    "2. 2는 소수이므로 오른쪽에 2를 쓴다. (빨간색)\n",
    "3. 자기 자신을 제외한 2의 배수를 모두 지운다.\n",
    "4. 남아있는 수 가운데 3은 소수이므로 오른쪽에 3을 쓴다. (초록색)\n",
    "5. 자기 자신을 제외한 3의 배수를 모두 지운다.\n",
    "6. 남아있는 수 가운데 5는 소수이므로 오른쪽에 5를 쓴다. (파란색)\n",
    "7. 자기 자신을 제외한 5의 배수를 모두 지운다.\n",
    "8. 남아있는 수 가운데 7은 소수이므로 오른쪽에 7을 쓴다. (노란색)\n",
    "9. 자기 자신을 제외한 7의 배수를 모두 지운다.\n",
    "10. 위의 과정을 반복하면 구하는 구간의 모든 소수가 남는다."
   ]
  },
  {
   "cell_type": "code",
   "execution_count": null,
   "metadata": {},
   "outputs": [],
   "source": [
    "num = int(input(\"2 이상의 숫자를 입력하세요.> \"))\n",
    "\n",
    "# 소수인지 판별할 2부터 n 까지 n-1 개를 저장할 수 있는 배열 할당\n",
    "# 초기값은 모두 소수라고 판단하고 True 로 설정 1, 과 2는 무조건 소수라 False\n",
    "prime_lists = [False, False] + [True] * (num - 1)\n",
    "\n",
    "# 최종 소수를 추출해낼 리스트 변수\n",
    "primes = []\n",
    "\n",
    "# 에라토스테네스의 체에 맞게 소수를 구함\n",
    "# prime_lists[i] 가 True 면 i 후의 i 배수는 약수를 i 로 갖고 있는것으므로\n",
    "# i 이후의 i 배수에 대해 False 로 설정\n",
    "# prime_lists[i] 가 False 이면 i 는 이미 소수가 아니므로 i 배수 역시 소수가 아님\n",
    "for i in range(2, num + 1):\n",
    "    if prime_lists[i]:\n",
    "        for j in range(2*i, num+1, i):\n",
    "            prime_lists[j] = False\n",
    "primes = [i for i in range(2, num+1) if prime_lists[i] == True]\n",
    "print(primes)\n",
    "\n",
    "if num in primes:\n",
    "    print(\"소수 입니다.\")\n",
    "else:\n",
    "    print(\"소수가 아닙니다.\")"
   ]
  }
 ],
 "metadata": {
  "kernelspec": {
   "display_name": "Python 3",
   "language": "python",
   "name": "python3"
  },
  "language_info": {
   "codemirror_mode": {
    "name": "ipython",
    "version": 3
   },
   "file_extension": ".py",
   "mimetype": "text/x-python",
   "name": "python",
   "nbconvert_exporter": "python",
   "pygments_lexer": "ipython3",
   "version": "3.6.3"
  }
 },
 "nbformat": 4,
 "nbformat_minor": 2
}
