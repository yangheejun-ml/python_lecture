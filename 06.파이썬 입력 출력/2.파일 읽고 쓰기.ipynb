{
 "cells": [
  {
   "cell_type": "markdown",
   "metadata": {},
   "source": [
    "# 파일 읽고 쓰기\n",
    "\n",
    "파이썬에서 파일을 읽고 쓰는데는 open 이라는 내장 함수를 사용합니다.\n",
    "\n",
    "**open(파일패스, 모드, 인코딩)**"
   ]
  },
  {
   "cell_type": "code",
   "execution_count": null,
   "metadata": {},
   "outputs": [],
   "source": [
    "file = open(\"sample.txt\", mode=\"w\")\n",
    "file.write(\"안녕 파이썬\")\n",
    "file.close()\n",
    "\n",
    "file = open(\"sample.txt\", mode=\"r\")\n",
    "content = file.read()\n",
    "file.close()\n",
    "print(content)"
   ]
  },
  {
   "cell_type": "markdown",
   "metadata": {},
   "source": [
    "### 사용방법\n",
    "\n",
    "* 파일패스를 제외한 나머지 옵션은 생략가능\n",
    "* 파일 객체는 open() 사용 후 반드시 close() 닫아야 합니다.\n",
    "\n",
    "\n",
    "\n",
    "### 모드\n",
    "\n",
    "* r : 읽기 전용(디폴트)\n",
    "* w : 쓰기 전용\n",
    "* a : 추가 모드\n",
    "* b : 2진모드 (바이너리 모드)\n",
    "* t : 텍스트 모드(디폴트)\n",
    "* &#43; : 읽기 및 쓰기 모드\n",
    "\n",
    "### 인코딩\n",
    "\n",
    "파일을 인코딩하거나 디코딩 할때 사용하는 이름"
   ]
  },
  {
   "cell_type": "markdown",
   "metadata": {},
   "source": [
    "## 파일쓰기"
   ]
  },
  {
   "cell_type": "code",
   "execution_count": null,
   "metadata": {},
   "outputs": [],
   "source": [
    "file = open(\"sample.txt\", mode=\"w\")\n",
    "file.write(\"헬로 파이썬\")\n",
    "file.write(\"파이썬 공부합시다.\\n\")\n",
    "file.write(\"그럼 이만~~\\n\")\n",
    "file.close()"
   ]
  },
  {
   "cell_type": "markdown",
   "metadata": {},
   "source": [
    "### 해당 파일은 인코딩을 따로 선언하지 않았기 때문에 ANSI 형태로 저장됨\n",
    "\n",
    "인코딩 종류: https://docs.python.org/ko/3.6/library/codecs.html"
   ]
  },
  {
   "cell_type": "code",
   "execution_count": null,
   "metadata": {},
   "outputs": [],
   "source": [
    "file = open(\"sample.txt\", mode=\"w\", encoding=\"utf-8\")\n",
    "file.write(\"헬로 파이썬\")\n",
    "file.write(\"파이썬 공부합시다.\\n\")\n",
    "file.write(\"그럼 이만~~\\n\")\n",
    "file.close()"
   ]
  },
  {
   "cell_type": "markdown",
   "metadata": {},
   "source": [
    "## 파일 전체 읽기"
   ]
  },
  {
   "cell_type": "code",
   "execution_count": null,
   "metadata": {},
   "outputs": [],
   "source": [
    "# 인코딩을 지정하지 않으면 ANSI 파일이 아닌경우 오류 발생\n",
    "file = open(\"sample.txt\", mode=\"r\")\n",
    "a = file.read()\n",
    "file.close()\n",
    "print(a)"
   ]
  },
  {
   "cell_type": "code",
   "execution_count": null,
   "metadata": {
    "scrolled": true
   },
   "outputs": [],
   "source": [
    "# 인코딩을 지정하지 않으면 ANSI 파일이 아닌경우 오류 발생\n",
    "file = open(\"sample.txt\", mode=\"r\", encoding=\"utf-8\")\n",
    "a = file.read()\n",
    "file.close()\n",
    "print(a)"
   ]
  },
  {
   "cell_type": "markdown",
   "metadata": {},
   "source": [
    "## 파일 줄 단위 읽기"
   ]
  },
  {
   "cell_type": "code",
   "execution_count": 2,
   "metadata": {
    "scrolled": true
   },
   "outputs": [
    {
     "name": "stdout",
     "output_type": "stream",
     "text": [
      "헬로 파이썬파이썬 공부합시다.\n",
      "\n"
     ]
    }
   ],
   "source": [
    "file = open(\"sample.txt\", mode=\"r\", encoding=\"utf-8\")\n",
    "a = file.readline()\n",
    "file.close()\n",
    "print(a)"
   ]
  },
  {
   "cell_type": "markdown",
   "metadata": {},
   "source": [
    "### 파일은 Iterable 한 객체임\n",
    "\n",
    "Iterable 은 list, str, tuple 같이 member를 하나씩 순차적으로 반환 가능한 객체를 말함"
   ]
  },
  {
   "cell_type": "code",
   "execution_count": 5,
   "metadata": {},
   "outputs": [
    {
     "name": "stdout",
     "output_type": "stream",
     "text": [
      "헬로 파이썬파이썬 공부합시다.\n",
      "\n",
      "그럼 이만~~\n",
      "\n"
     ]
    }
   ],
   "source": [
    "f = open(\"sample.txt\", mode=\"r\", encoding=\"utf-8\")\n",
    "for line in f:\n",
    "    print(line)\n",
    "f.close()"
   ]
  },
  {
   "cell_type": "markdown",
   "metadata": {},
   "source": [
    "### 파일을 읽을때는 파일의 파일포인터가 이동하는 개념"
   ]
  },
  {
   "cell_type": "code",
   "execution_count": 4,
   "metadata": {},
   "outputs": [
    {
     "name": "stdout",
     "output_type": "stream",
     "text": [
      "헬로 파이썬파이썬  헬로 파이썬파이썬 \n"
     ]
    }
   ],
   "source": [
    "f = open(\"sample.txt\", mode=\"r\", encoding=\"utf-8\")\n",
    "a = f.read(10)\n",
    "print(\"현재 파일포인터 위치: {}\".format(f.tell())\n",
    "f.seek(0)\n",
    "b = f.read(10)\n",
    "file.close()\n",
    "print(a, b)"
   ]
  },
  {
   "cell_type": "markdown",
   "metadata": {},
   "source": [
    "## with 문\n",
    "\n",
    "* with 문은 파이썬 2.5 버전에서 도입된 기능으로 context manager 에 의해 클래스 내부에 구현된 __enter__() 와 __exit__()를 호출해주는 역할을 합니다\n",
    "* 주로 파일 객체나 DB 객체등 close 가 중요한 문법에 많이 사용됩니다."
   ]
  },
  {
   "cell_type": "code",
   "execution_count": 9,
   "metadata": {},
   "outputs": [],
   "source": [
    "f1 = open(\"sample1.txt\", mode=\"w\")\n",
    "f1.write(\"헬로 파이썬\")\n",
    "f1.close()\n",
    "\n",
    "f1 = open(\"sample1.txt\", mode=\"r\")\n",
    "a = f1.read()\n",
    "f1.close()\n",
    "\n",
    "a = a.replace(\"파이썬\", \"Python\")\n",
    "f2 = open(\"sample2.txt\", mode=\"w\")\n",
    "f2.write(a)\n",
    "f2.close()"
   ]
  },
  {
   "cell_type": "code",
   "execution_count": 7,
   "metadata": {},
   "outputs": [],
   "source": [
    "with open(\"sample.txt\", mode=\"w\") as f:\n",
    "    f.write(\"헬로 파이썬\")\n",
    "    f.write(\"파이썬 공부합시다.\\n\")\n",
    "    f.write(\"그럼 이만~~\\n\")\n",
    "    # f.close() 생략해도 이미 file 의 __exit__() 내에 선언된 함수가 file을 close 하게 됨"
   ]
  },
  {
   "cell_type": "code",
   "execution_count": 12,
   "metadata": {},
   "outputs": [],
   "source": [
    "with open(\"sample.txt\", mode=\"r\") as source, open(\"sample2.txt\", mode=\"w\") as target:\n",
    "    target.write(source.read().replace(\"파이썬\", \"Python\"))"
   ]
  }
 ],
 "metadata": {
  "kernelspec": {
   "display_name": "Python 3",
   "language": "python",
   "name": "python3"
  },
  "language_info": {
   "codemirror_mode": {
    "name": "ipython",
    "version": 3
   },
   "file_extension": ".py",
   "mimetype": "text/x-python",
   "name": "python",
   "nbconvert_exporter": "python",
   "pygments_lexer": "ipython3",
   "version": "3.6.3"
  }
 },
 "nbformat": 4,
 "nbformat_minor": 2
}
