{
 "cells": [
  {
   "cell_type": "markdown",
   "metadata": {},
   "source": [
    "# 파이썬 예외처리\n",
    "\n",
    "## try / except\n",
    "\n",
    "* 파이썬 프로그래밍에서 발생하는 에러에 대한 예외상황을 대처하고 프로그램이 뻗는 현상을 방지하기 위함 입니다.\n",
    "* try 문 뒤에 : 을 표기하고 코드블럭 형태로 들여쓰기 해야 합니다.\n",
    "* 파이썬 오류처리: https://docs.python.org/ko/3/library/exceptions.html"
   ]
  },
  {
   "cell_type": "markdown",
   "metadata": {},
   "source": [
    "### 의심가는 코드 블럭을 try / except 구문으로 감싸서 표현"
   ]
  },
  {
   "cell_type": "code",
   "execution_count": 1,
   "metadata": {},
   "outputs": [
    {
     "name": "stdout",
     "output_type": "stream",
     "text": [
      "10.5 는 int 형 데이터가 아닙니다.\n"
     ]
    }
   ],
   "source": [
    "val = \"10.5\"\n",
    "\n",
    "try:\n",
    "    n = int(val)\n",
    "except ValueError:\n",
    "    print(\"{} 는 int 형 데이터가 아닙니다.\".format(val))"
   ]
  },
  {
   "cell_type": "code",
   "execution_count": 2,
   "metadata": {},
   "outputs": [
    {
     "name": "stdout",
     "output_type": "stream",
     "text": [
      "리스트 인덱스 오류\n"
     ]
    }
   ],
   "source": [
    "idx = []\n",
    "try:\n",
    "    idx[0] = 10\n",
    "except IndexError:\n",
    "    print(\"리스트 인덱스 오류\")"
   ]
  },
  {
   "cell_type": "code",
   "execution_count": 3,
   "metadata": {},
   "outputs": [
    {
     "name": "stdout",
     "output_type": "stream",
     "text": [
      "인코딩 오류\n"
     ]
    }
   ],
   "source": [
    "f = open(\"sample.txt\", mode=\"w\", encoding=\"utf-8\")\n",
    "f.write(\"헬로 파이썬\\n\")\n",
    "f.write(\"그럼 이만\")\n",
    "f.close()\n",
    "\n",
    "try:\n",
    "    f = open(\"sample.txt\", mode=\"r\")\n",
    "    a = f.read()\n",
    "    f.close()\n",
    "    print(a)\n",
    "except UnicodeDecodeError:\n",
    "    print(\"인코딩 오류\")"
   ]
  },
  {
   "cell_type": "markdown",
   "metadata": {},
   "source": [
    "## 오류의 종류를 알 수 없을때 처리"
   ]
  },
  {
   "cell_type": "code",
   "execution_count": 5,
   "metadata": {},
   "outputs": [
    {
     "name": "stdout",
     "output_type": "stream",
     "text": [
      "알 수 없는 오류 'cp949' codec can't decode byte 0xed in position 0: illegal multibyte sequence\n"
     ]
    }
   ],
   "source": [
    "f = open(\"sample.txt\", mode=\"w\", encoding=\"utf-8\")\n",
    "f.write(\"헬로 파이썬\\n\")\n",
    "f.write(\"그럼 이만\")\n",
    "f.close()\n",
    "\n",
    "try:\n",
    "    f = open(\"sample.txt\", mode=\"r\")\n",
    "    a = f.read()\n",
    "    f.close()\n",
    "    print(a)\n",
    "except Exception as e:\n",
    "    print(\"알 수 없는 오류 {}\".format(e))"
   ]
  },
  {
   "cell_type": "markdown",
   "metadata": {},
   "source": [
    "## 직접 에러를 발생 시키는 방법"
   ]
  },
  {
   "cell_type": "code",
   "execution_count": null,
   "metadata": {},
   "outputs": [],
   "source": [
    "langs = [\"한국어\", \"English\"]\n",
    "\n",
    "for i, lang in enumerate(langs):\n",
    "    print(\"{}. {}\".format(i, lang))\n",
    "\n",
    "try:\n",
    "    u = int(input(\"언어를 선택하세요.\"))\n",
    "\n",
    "    if 0 > u or u >= len(langs):\n",
    "        raise Exception\n",
    "    print(\"사용자 선택 {}:{}\".format(u, langs[u]))\n",
    "except Exception as e:\n",
    "    print(\"오류 {}\".format(e))"
   ]
  },
  {
   "cell_type": "markdown",
   "metadata": {},
   "source": [
    "## try / except / else\n",
    "\n",
    "* else 절은 예외가 발생하지 않은 경우 except 절을 실행하지 않았을때 실행됨\n",
    "* 에러 없이 무사히 통과된 경우 수행"
   ]
  },
  {
   "cell_type": "markdown",
   "metadata": {},
   "source": [
    "## try / except / finally\n",
    "\n",
    "* finally 절은 에러가 났던 안났던 처리 되는 절"
   ]
  },
  {
   "cell_type": "code",
   "execution_count": 4,
   "metadata": {},
   "outputs": [
    {
     "name": "stdout",
     "output_type": "stream",
     "text": [
      "파일 읽기 오류\n"
     ]
    }
   ],
   "source": [
    "try:\n",
    "    f = open(\"sampe\", mode=\"r\")\n",
    "except:\n",
    "    print(\"파일 읽기 오류\")\n",
    "finally:\n",
    "    f.close()"
   ]
  },
  {
   "cell_type": "markdown",
   "metadata": {},
   "source": [
    "## 사용자가 직접 오류를 정의해서 사용할 수도 있다."
   ]
  },
  {
   "cell_type": "code",
   "execution_count": null,
   "metadata": {},
   "outputs": [],
   "source": [
    "class NumberCheckError(Exception):\n",
    "    def __init__(self, msg=\"Error\"):\n",
    "        self.msg = msg\n",
    "    def __str__(self):\n",
    "        return self.msg\n",
    "    \n",
    "try:\n",
    "    number = int(input(\"숫자를 입력하세요> \"))\n",
    "    if number < 0:\n",
    "        raise NumberCheckError(\"0보다 작습니다.\")\n",
    "except NumberCheckError as e:\n",
    "    print(e)"
   ]
  }
 ],
 "metadata": {
  "kernelspec": {
   "display_name": "Python 3",
   "language": "python",
   "name": "python3"
  },
  "language_info": {
   "codemirror_mode": {
    "name": "ipython",
    "version": 3
   },
   "file_extension": ".py",
   "mimetype": "text/x-python",
   "name": "python",
   "nbconvert_exporter": "python",
   "pygments_lexer": "ipython3",
   "version": "3.6.3"
  }
 },
 "nbformat": 4,
 "nbformat_minor": 2
}
