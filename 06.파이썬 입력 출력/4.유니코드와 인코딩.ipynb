{
 "cells": [
  {
   "cell_type": "markdown",
   "metadata": {},
   "source": [
    "# 유니코드와 인코딩\n",
    "\n",
    "### ASCII (American Standard Code for Information Interchange)\n",
    "* 최초의 문자열 인코딩 방식 입니다.\n",
    "* 7비트로 구성되어있으며 영어, 숫자, 특수문자, 기호등 128개 문자 표현 할 수 있습니다.\n",
    "\n",
    "### ANSI (American National Standard Institue - 미국 국립 표준 연구소)\n",
    "* ASCII 에 1bit를 더한 확장판 입니다.\n",
    "* 8비트로 구성 256개의 문자 표현 할 수 있습니다.\n",
    "* ANSI = ASCII(7bit) + CodePage(1bit)\n",
    "* 한글 윈도우 메모장에서 ANSI는 시스템 기본 로케일인 CP94(Code Page 949) 입니다.\n",
    "* ANSI로 표현가능한 문자들은 www.asciitable.com 에서 확인 가능 합니다.\n",
    "* '가' 의 cp949 코드값은 b0a1 입니다.\n",
    "\n",
    "### EUC-KR (Extended Unix Code-Korea)\n",
    "* 한글을 위해 확장한 유닉스 코드로 완성형 코드 조합 입니다.\n",
    "* 완성형 이전에 조합형이란 개념이 있었는데 완성형은 말 그대로 완성된 하나의 문자마다 코드를 부여(조합형은 자음, 모음을 조합해서 사용) 합니다.\n",
    "\n",
    "### CP949 (Code Page 949)\n",
    "* 윈도우에서 한글을 사용하기 위해 EUC-KR 을 확장해서 만든 문자코드 입니다.\n",
    "* MS에서 만들었다고 MS949 라고도 합니다."
   ]
  },
  {
   "cell_type": "code",
   "execution_count": null,
   "metadata": {},
   "outputs": [],
   "source": [
    "a = \"가\"\n",
    "b = a.encode(\"cp949\")\n",
    "print(b)\n",
    "\n",
    "a = \"가\"\n",
    "b = a.encode(\"utf-8\")\n",
    "print(b)"
   ]
  },
  {
   "cell_type": "markdown",
   "metadata": {},
   "source": [
    "### 유니코드\n",
    "* 한글 유니코드표 https://ko.wikipedia.org/wiki/%EC%9C%A0%EB%8B%88%EC%BD%94%EB%93%9C_A000~AFFF\n",
    "* 전세계 모든 문자를 컴퓨터에서 일관되게 표현할 수 있도록 고안된 표준 코드\n",
    "* 유니코드는 전세계 문자를 문자 하나와 숫자 하나를 매핑한 **방식** 자체임\n",
    "* '가' 는 U+AC00\n",
    "\n",
    "### UTF-8\n",
    "* 유니코드를 저장하고(인코딩) 불러오는(디코딩) 방식 https://ko.wikipedia.org/wiki/UTF-8\n",
    "* 문자열을 8bit 기반으로 저장\n",
    "* '가'의 유니코드는 U+AC00 인데 이걸 2진수로 바꾸면 bin(int(\"0xAC00\", 16)) 0b1010110000000000 이다.\n",
    "* AC00~D7A3 은 유니코드 범위표에 의해 1110xxx 10xxxxxx 10xxxxxx 에 해당\n",
    "* x에 표시한 부분에 순서대로 넣어주면 UTF-8 을 만들수 있다.\n",
    "* 크롬에 '가'를 검색해서 주소창 내용을 복사 메모장에 붙여넣기 하면 한글은 UTF-8 로 표기됨\n",
    "\n",
    "### UTF-16\n",
    "* UTF-8 은 8비트 기반이고 UTF-16 은 16비트 기반으로 문자열을 저장한다. https://ko.wikipedia.org/wiki/UTF-16\n",
    "* 기본 다국어 평면(BMP, Basic multilingual plane) 에 속하는 문자들은 그대로 16비트 값으로 인코딩 되고\n",
    "* 그 이상으 문자는 특별히 정해진 방식으로 32비트로 인코딩 된다."
   ]
  },
  {
   "cell_type": "code",
   "execution_count": null,
   "metadata": {},
   "outputs": [],
   "source": [
    "a = \"가\"\n",
    "a = hex(ord(a))\n",
    "a = \"AC00\" # '가'의 유니코드 16진수\n",
    "\n",
    "# 유니코드를 2진수로 변환\n",
    "# AC00 = 1010110000000000\n",
    "b = bin(int(a, 16))\n",
    "\n",
    "# 1110xxxx\n",
    "# 10xxxxxx\n",
    "# 10xxxxxx\n",
    "\n",
    "b1 = 11101010\n",
    "b2 = 10110000\n",
    "b3 = 10000000\n",
    "hex(0b11101010) = 0xea\n",
    "hex(0b10110000) = 0xb0\n",
    "hex(0b10000000) = 0x80\n",
    "\n",
    "a = '가'\n",
    "b = a.encode() = b'\\xea\\xb0\\x80'\n",
    "b.decode()"
   ]
  },
  {
   "cell_type": "markdown",
   "metadata": {},
   "source": [
    "### 이런 복잡한 계산을 직접 구현할 필요 없이 파이썬에서 제공하는 함수를 사용하면 됨\n",
    "\n",
    "* 파이썬에서 ord() 함수는 문자의 유니코드값을 알아오는 함수 10진수 리턴\n",
    "* 반대로 chr()은 유니코드에 해당하는 문자를 구해오는 함수 10진수 입력\n",
    "* hex(ord(\"가\")) 하면 16진수 \"0xac00\" 리턴"
   ]
  }
 ],
 "metadata": {
  "kernelspec": {
   "display_name": "Python 3",
   "language": "python",
   "name": "python3"
  },
  "language_info": {
   "codemirror_mode": {
    "name": "ipython",
    "version": 3
   },
   "file_extension": ".py",
   "mimetype": "text/x-python",
   "name": "python",
   "nbconvert_exporter": "python",
   "pygments_lexer": "ipython3",
   "version": "3.6.3"
  }
 },
 "nbformat": 4,
 "nbformat_minor": 2
}
