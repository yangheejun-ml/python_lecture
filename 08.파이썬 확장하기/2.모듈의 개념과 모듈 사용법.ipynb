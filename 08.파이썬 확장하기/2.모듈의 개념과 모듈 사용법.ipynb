{
 "cells": [
  {
   "cell_type": "markdown",
   "metadata": {},
   "source": [
    "# 모듈이란?\n",
    "\n",
    "* 모듈은 함수나 변수, 클래스등을 모아놓은 파이썬 파일 입니다.\n",
    "* 코딩양이 많아져서 가독성이 떨어질때 특정 기능을 기능별로 모아서 py 파일로 만들어 사용하기도 합니다."
   ]
  },
  {
   "cell_type": "code",
   "execution_count": null,
   "metadata": {},
   "outputs": [],
   "source": [
    "# module.py\n",
    "\n",
    "def add(a, b):\n",
    "    return a + b\n",
    "\n",
    "def multiply(a, b):\n",
    "    return a * b\n",
    "\n",
    "def sub(a, b):\n",
    "    return a - b\n",
    "\n",
    "\n",
    "# main.py\n",
    "import module\n",
    "# import module as md\n",
    "print(module.add(5, 10))\n",
    "print(module.multiply(3, 3))\n",
    "print(module.sub(10, 3))\n",
    "\n",
    "# 이렇게도 쓸 수 있습니다.\n",
    "from module import add, multiply, sub \n",
    "print(add(5, 10))\n",
    "print(multiply(3, 3))\n",
    "print(sub(10, 3))"
   ]
  },
  {
   "cell_type": "markdown",
   "metadata": {},
   "source": [
    "# if &#95;&#95;name&#95;&#95; == \"&#95;&#95;main&#95;&#95;\": 의 의미"
   ]
  },
  {
   "cell_type": "code",
   "execution_count": null,
   "metadata": {},
   "outputs": [],
   "source": [
    "# module.py\n",
    "\n",
    "def add(a, b):\n",
    "    return a + b\n",
    "\n",
    "def multiply(a, b):\n",
    "    return a * b\n",
    "\n",
    "def sub(a, b):\n",
    "    return a - b\n",
    "\n",
    "if __name__ == \"__main__\":\n",
    "    print(add(5, 10))"
   ]
  },
  {
   "cell_type": "code",
   "execution_count": null,
   "metadata": {},
   "outputs": [],
   "source": [
    "# main.py\n",
    "from module import *"
   ]
  },
  {
   "cell_type": "code",
   "execution_count": null,
   "metadata": {},
   "outputs": [],
   "source": [
    "# module.py\n",
    "class FishCakeMaker:\n",
    "    def __init__(self, **kwargs):\n",
    "        self._name = \"붕어빵\"\n",
    "        self._size = 10\n",
    "        self._flavor = \"팥\"\n",
    "        self._price = 100\n",
    "        if \"size\" in kwargs:\n",
    "            self._size = kwargs.get(\"size\")\n",
    "        if \"flavor\" in kwargs:\n",
    "            self._flavor = kwargs.get(\"flavor\")\n",
    "        if \"price\" in kwargs:\n",
    "            self._price = kwargs.get(\"price\")\n",
    "    def show(self):\n",
    "        print(\"붕어빵 크기: {}\".format(self._size))\n",
    "        print(\"붕어빵 맛: {}\".format(self._flavor))\n",
    "        print(\"붕어빵 가격: {}\".format(self._price))\n",
    "        \n",
    "class MarketGoods(FishCakeMaker):\n",
    "    def __init__(self, margin=1000, **kwargs):\n",
    "        super().__init__(**kwargs)\n",
    "        self._market_price = self._price + margin\n",
    "    def show(self):\n",
    "        print(self._name, self._market_price)\n",
    "        \n",
    "        \n",
    "# main.py\n",
    "from module import FishCakeMaker\n",
    "\n",
    "fish1 = MarketGoods()\n",
    "fish1.show()"
   ]
  }
 ],
 "metadata": {
  "kernelspec": {
   "display_name": "Python 3",
   "language": "python",
   "name": "python3"
  },
  "language_info": {
   "codemirror_mode": {
    "name": "ipython",
    "version": 3
   },
   "file_extension": ".py",
   "mimetype": "text/x-python",
   "name": "python",
   "nbconvert_exporter": "python",
   "pygments_lexer": "ipython3",
   "version": "3.6.3"
  }
 },
 "nbformat": 4,
 "nbformat_minor": 2
}
