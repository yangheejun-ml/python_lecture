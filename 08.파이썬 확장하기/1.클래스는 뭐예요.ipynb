{
 "cells": [
  {
   "cell_type": "markdown",
   "metadata": {},
   "source": [
    "# 클래스\n",
    "\n",
    "* 함수와 기능을 총괄적으로 모아서 하나의 큰 덩어리를 만든 추상적 개념\n",
    "* 예를 들어 붕어빵 틀이 클래스, 붕어빵틀에 의해 만들어진 붕어빵을 객체라고 볼 수 있습니다.\n",
    "* 여기서 붕어빵틀과 붕어빵의 관계에서 붕어빵은 붕어빵틀의 인스턴스가 되고 붕어빵만을 얘기할 때는 객체라고 이야기할 수 있습니다.\n",
    "* int, str, float 가 클래스로 구성되어있습니다."
   ]
  },
  {
   "cell_type": "code",
   "execution_count": null,
   "metadata": {},
   "outputs": [],
   "source": [
    "class FishCakeMaker:\n",
    "    def __init__(self, param):\n",
    "        self._fish_type = param\n",
    "\n",
    "    def show_my_type(self):\n",
    "        print(self._fish_type)\n",
    "    \n",
    "    \n",
    "fish1 = FishCakeMaker(\"붕어빵\")\n",
    "fish2 = FishCakeMaker(\"딸기빵\")\n",
    "\n",
    "fish1.show_my_type()\n",
    "fish2.show_my_type()"
   ]
  },
  {
   "cell_type": "markdown",
   "metadata": {},
   "source": [
    "### 클래스 생성\n",
    "* 파이썬에서 클래스는 class 로 선언하고 클래스명 콜론으로 마무리 한다.\n",
    "* 함수와 마찬가지로 클래스도 () 를 통하여 아규먼트를 받을 수 있다.\n",
    "* 클래스 내부의 모든 멤버 함수는 첫번째 인자로 self 를 가져야만 클래스에 종속된 함수로 판단한다.\n",
    "* 클래스 내부의 모든 멤버 변수는 self. 으로 선언해야 클래스에 종속된 변수로 판단한다.\n",
    "* 홑밑줄(single underscore) : 보통 내부적으로 사용하는 변수일 때 사용합니다.\n",
    "* 곁밑줄(double underscore) : 클래스 외부에서 접근할 수 없도록 내부 변수로 만듭니다."
   ]
  },
  {
   "cell_type": "code",
   "execution_count": null,
   "metadata": {},
   "outputs": [],
   "source": [
    "class FishCakeMaker:\n",
    "    def __init__(self, **kwargs):\n",
    "        self._size = 10\n",
    "        self._flavor = \"팥\"\n",
    "        self._price = 100\n",
    "        if \"size\" in kwargs:\n",
    "            self._size = kwargs.get(\"size\")\n",
    "        if \"flavor\" in kwargs:\n",
    "            self._flavor = kwargs.get(\"flavor\")\n",
    "        if \"price\" in kwargs:\n",
    "            self._price = kwargs.get(\"price\")\n",
    "    def show(self):\n",
    "        print(\"붕어빵 크기: {}\".format(self._size))\n",
    "        print(\"붕어빵 맛: {}\".format(self._flavor))\n",
    "        print(\"붕어빵 가격: {}\".format(self._price))\n",
    "\n",
    "fish1 = FishCakeMaker()\n",
    "fish2 = FishCakeMaker(size=30, flavor=\"초코\", price=500)\n",
    "fish3 = FishCakeMaker(size=20, flavor=\"딸기\", price=400)\n",
    "\n",
    "fish1.show()\n",
    "fish2.show()\n",
    "fish3.show()"
   ]
  },
  {
   "cell_type": "markdown",
   "metadata": {},
   "source": [
    "### 기본적인 커스터마이제이션\n",
    "* &#95;&#95;init&#95;&#95;(self[,...]) 인스턴스가 만들어진 후, 호출자에게 전달되기 전에 호출, 생성자의 개념\n",
    "* &#95;&#95;del&#95;&#95;(self) 인스턴스가 파괴되기 직전에 호출, 파이널라이저, 파괴자, 소멸자 개념\n",
    "* &#95;&#95;repr&#95;&#95;(self) repr()내장 함수에 의해 호출되며 객체의 형식적인 문자열 표현\n",
    "* &#95;&#95;str&#95;&#95;(self) str(), format(), print() 에 의해 호출되는 비형식적인 역할\n",
    "* &#95;&#95;lt&#95;&#95;(self, other), &#95;&#95;le&#95;&#95;(self, other), &#95;&#95;eq&#95;&#95;(self, other), &#95;&#95;ne&#95;&#95;(self, other), &#95;&#95;gt&#95;&#95;(self, other) &#95;&#95;ge&#95;&#95;(self, other) 비교 연산\n",
    "* 이 외에도 콜러블, 인스턴스 메소드, 제네레이터, 코루틴 등 많은 내용들이 있습니다."
   ]
  },
  {
   "cell_type": "code",
   "execution_count": null,
   "metadata": {},
   "outputs": [],
   "source": [
    "class FishCakeMaker:\n",
    "    def __init__(self, **kwargs):\n",
    "        self._size = 10\n",
    "        self._flavor = \"팥\"\n",
    "        self._price = 100\n",
    "        if \"size\" in kwargs:\n",
    "            self._size = kwargs.get(\"size\")\n",
    "        if \"flavor\" in kwargs:\n",
    "            self._flavor = kwargs.get(\"flavor\")\n",
    "        if \"price\" in kwargs:\n",
    "            self._price = kwargs.get(\"price\")\n",
    "    def __lt__(self, other):\n",
    "        print(\"{}{}{}\".format(self._price, \"<\", other._price))\n",
    "        return self._price < other._price\n",
    "    def __le__(self, other):\n",
    "        print(\"{}{}{}\".format(self._price, \"<=\", other._price))\n",
    "        return self._price <= other._price\n",
    "    def __gt__(self, other):\n",
    "        print(\"{}{}{}\".format(self._price, \">\", other._price))\n",
    "        return self._price > other._price\n",
    "    def __ge__(self, other):\n",
    "        print(\"{}{}{}\".format(self._price, \">=\", other._price))\n",
    "        return self._price >= other._price\n",
    "    def __eq__(self, other):\n",
    "        print(\"{}{}{}\".format(self._price, \"==\", other._price))\n",
    "        return self._price == other._price\n",
    "    def __ne__(self, other):\n",
    "        print(\"{}{}{}\".format(self._price, \"!=\", other._price))\n",
    "        return self._price != other._price\n",
    "    def __str__(self):\n",
    "        return \"<FishCakeMaker 크기:{} 맛:{} 가격:{}>\".format(self._size, self._flavor, self._price)\n",
    "    def __del__(self):\n",
    "        print(\"__del__ \" + str(self._price))\n",
    "    def show(self):\n",
    "        print(\"붕어빵 크기: {}\".format(self._size))\n",
    "        print(\"붕어빵 맛: {}\".format(self._flavor))\n",
    "        print(\"붕어빵 가격: {}\".format(self._price))\n",
    "    \n",
    "fish1 = FishCakeMaker(price=500)\n",
    "fish2 = FishCakeMaker(price=700)\n",
    "\n",
    "if fish1 < fish2:\n",
    "    print(\"fish1 비쌈\")\n",
    "else:\n",
    "    print(\"fish2 비쌈\")\n",
    "\n",
    "print(fish1)\n",
    "\n",
    "del fish1\n",
    "del fish2"
   ]
  },
  {
   "cell_type": "markdown",
   "metadata": {},
   "source": [
    "### 클래스 상속\n",
    "* 특정 클래스의 특성을 모두 상속 받아 새로운 클래스를 만드는 개념\n",
    "* 소스가 되는 클래스를 부모 클래스, 새롭게 만들어진 클래스를 자식 클래스라고 합니다.\n",
    "* 자식클래스는 부모의 모든 특성과 기능을 물려 받을 수 있습니다.\n",
    "* 파이썬에서 클래스 상속은 **def 클래스명(부모클래스):** 로 선언하여 사용할 수 있습니다.\n",
    "* 부모클래스의 함수를 호출 하기 위해선 super() 함수를 사용해서 접근할 수 있습니다."
   ]
  },
  {
   "cell_type": "code",
   "execution_count": null,
   "metadata": {},
   "outputs": [],
   "source": [
    "class FishCakeMaker:\n",
    "    def __init__(self, **kwargs):\n",
    "        self._name = \"붕어빵\"\n",
    "        self._size = 10\n",
    "        self._flavor = \"팥\"\n",
    "        self._price = 100\n",
    "        if \"size\" in kwargs:\n",
    "            self._size = kwargs.get(\"size\")\n",
    "        if \"flavor\" in kwargs:\n",
    "            self._flavor = kwargs.get(\"flavor\")\n",
    "        if \"price\" in kwargs:\n",
    "            self._price = kwargs.get(\"price\")\n",
    "        if \"name\" in kwargs:\n",
    "            self._name = kwargs.get(\"name\")\n",
    "            \n",
    "    def show(self):\n",
    "        print(\"붕어빵 크기: {}\".format(self._size))\n",
    "        print(\"붕어빵 맛: {}\".format(self._flavor))\n",
    "        print(\"붕어빵 가격: {}\".format(self._price))\n",
    "        \n",
    "class MarketGoods(FishCakeMaker):\n",
    "    def __init__(self, margin=1000, **kwargs):\n",
    "        super().__init__(**kwargs)\n",
    "        self._market_price = self._price + margin\n",
    "    def show(self):\n",
    "        print(self._name, self._market_price)\n",
    "    \n",
    "        \n",
    "fish1 = MarketGoods()\n",
    "fish1.show()\n",
    "\n",
    "fish2 = MarketGoods(name=\"초코붕어빵\", price=5000, flavor=\"초코\", size=20)\n",
    "fish2.show()"
   ]
  }
 ],
 "metadata": {
  "kernelspec": {
   "display_name": "Python 3",
   "language": "python",
   "name": "python3"
  },
  "language_info": {
   "codemirror_mode": {
    "name": "ipython",
    "version": 3
   },
   "file_extension": ".py",
   "mimetype": "text/x-python",
   "name": "python",
   "nbconvert_exporter": "python",
   "pygments_lexer": "ipython3",
   "version": "3.6.3"
  }
 },
 "nbformat": 4,
 "nbformat_minor": 2
}
