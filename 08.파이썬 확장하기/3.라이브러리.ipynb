{
 "cells": [
  {
   "cell_type": "markdown",
   "metadata": {},
   "source": [
    "# 라이브러리\n",
    "\n",
    "* 라이브러리는 특정 기능을 모듈화 시켜놓은 것을 말합니다.\n",
    "* 라이브러리는 파이썬 설치시 기본적으로 설치되는 기본 라이브러리와 개발자가 직접 설치해서 사용하는 외부 라이브러리로 나뉘어집니다."
   ]
  },
  {
   "cell_type": "markdown",
   "metadata": {},
   "source": [
    "# 기본 라이브러리\n",
    "* 기본 라이브러리는 따로 설치하지 않아도 파이썬 설치시 시스템이 제공하는 라이브러리 입니다.\n",
    "* import 라이브러리명 혹은 from 경로 import 라이브러리명을 해야 사용할 수 있습니다.\n",
    "* 라이브러리는 너무 양이 방대하니 미리 모두 알기보다 필요한 시기에 그때 그때 찾아서 사용법을 확인하면 됩니다."
   ]
  },
  {
   "cell_type": "markdown",
   "metadata": {},
   "source": [
    "## sys\n",
    "\n",
    "* 명령 행에서 인수를 전달할때 많이 사용됩니다."
   ]
  },
  {
   "cell_type": "code",
   "execution_count": null,
   "metadata": {},
   "outputs": [],
   "source": [
    "import sys\n",
    "print(sys.path)\n",
    "print(sys.argv)\n",
    "sys.exit()\n",
    "\n",
    "python test.py 인수 넘김"
   ]
  },
  {
   "cell_type": "markdown",
   "metadata": {},
   "source": [
    "## os\n",
    "* 파일, 디렉터리 등 OS 자원을 제어할 수 있게 해주는 라이브러리 입니다."
   ]
  },
  {
   "cell_type": "code",
   "execution_count": null,
   "metadata": {},
   "outputs": [],
   "source": [
    "import os\n",
    "\n",
    "os.getcwd() # 현재 디렉토리\n",
    "os.system(\"cls\") # 시스템 명령어 호출\n",
    "os.environ['path'] # 환경변수 출력\n",
    "os.mkdir(\"test\") # 폴더 생성\n",
    "os.rmdir(\"test\") # 폴더 삭제\n",
    "os.unlink(\"test.txt\") # 파일 삭제\n",
    "os.rename(\"test.txt\", \"sample.txt\") # 파일명 변경\n",
    "os.listdir(\"c:\\\\dir\") # 파일,폴더 목록\n",
    "os.path.exists(\"sample.txt\") # 파일 존재 여부 확인\n",
    "os.path.isdir(\"C:\\\\dir\") # 해당 인자가 폴더인지를 True, False 로 리턴\n",
    "os.path.isfile(\"C:\\\\dir\") # 해당 인자가 파일인지를 True, False 로 리턴\n",
    "f = os.popen(\"dir\") # popen 으로 명령을 실행시킨 결과를 f 로 리턴받는다."
   ]
  },
  {
   "cell_type": "markdown",
   "metadata": {},
   "source": [
    "## shutil\n",
    "* 파일관련 특화된 라이브러리 입니다."
   ]
  },
  {
   "cell_type": "code",
   "execution_count": null,
   "metadata": {},
   "outputs": [],
   "source": [
    "import shutil\n",
    "shutil.copy(\"a.txt\", \"b.txt\") # a.txt 를 b.txt 로 복사한다. 있으면 덮어쓴다.\n",
    "shutil.disk_usage(\"c:\\\\\") # c 디스크 사용량을 표기한다. total, used, free\n",
    "shutil.rmtree(\"c:\\\\a\") # a 폴더를 삭제한다. 파일내용까지 모두 삭제한다 사용주의!!!"
   ]
  },
  {
   "cell_type": "markdown",
   "metadata": {},
   "source": [
    "## time\n",
    "* 파이썬에서 시간과 관련된 라이브러리 입니다.\n",
    "* strftime 인자\n",
    "    * %a 요일, %A 요일\n",
    "    * %b 달 이름, %B 달 이름\n",
    "    * %c 날짜와 시간 출력\n",
    "    * %d day, %H 24시간, %I 12시간\n",
    "    * %j 1년중 누적날짜\n",
    "    * %m 달\n",
    "    * %M 분\n",
    "    * %p AM / PM\n",
    "    * %s 초\n",
    "    * %U 1년중 누적주(일요일시작) %W 1년중 누적주(월요일시작)\n",
    "    * %w 요일(숫자)\n",
    "    * %x 현재 로케일에 기반한 날짜 출력\n",
    "    * %X 현재 로케일에 기반한 시간 출력\n",
    "    * %Y 년도(4자리) %y 년도(2자리)\n",
    "    * %Z 시간대 출력"
   ]
  },
  {
   "cell_type": "code",
   "execution_count": null,
   "metadata": {},
   "outputs": [],
   "source": [
    "import time\n",
    "time.time() # UTC 시간을 출력 1970년 1월 1일 0시 0분 0초 이후의 초\n",
    "time.localtime(time) # time을(생략가능) struct_time 형태로 출력 tm_year, tm_mon.....\n",
    "time.asctime(time) # time을(생략가능) 보기 쉬운 형태로 시간 출력 Mon Apr 29 00:00:00 2019\n",
    "time.ctime() # 현재 시간 출력\n",
    "time.strftime(\"포맷코드\", time.localtime()) # 포맷코드 형태로 시간과 날짜를 출력\n",
    "time.strftime(\"%c\", time.localtime()) # 현재시간과 날짜 출력\n",
    "time.sleep(x) # x 초 만큼 시스템을 대기 상태로 둔다."
   ]
  },
  {
   "cell_type": "markdown",
   "metadata": {},
   "source": [
    "## datetime\n",
    "* 파이썬에서 날짜관련 라이브러리 입니다."
   ]
  },
  {
   "cell_type": "code",
   "execution_count": null,
   "metadata": {},
   "outputs": [],
   "source": [
    "import datetime # from datetime import datetime\n",
    "d = datetime.datetime.now()\n",
    "print(\"{} {} {} {} {} {}\".format(d.year, d.month, d.day, d.hour, d.minute, d.second, d.microsecond))\n",
    "d.weekday()\n",
    "d.strftime(\"%c\") # %Y, %m, %d, %H, %M, %S, %A, %B\n",
    "d.date() # datetime.date 클래스 반환\n",
    "d.time() # datetime.time 클래스 반환\n",
    "\n",
    "datetime.datetime.strptime(\"2019-12-12 12:00\", \"%Y-%m-%d %H:%M\")"
   ]
  },
  {
   "cell_type": "markdown",
   "metadata": {},
   "source": [
    "## dateutil, timedelta\n",
    "* dateutil.parser 객체는 자동으로 형식문자열을 찾아 datetime.datetime 객체를 만들어준다.\n",
    "* datetime.datetime 형태의 날짜를 계산할때는 timedelta 클래스를 사용한다."
   ]
  },
  {
   "cell_type": "code",
   "execution_count": null,
   "metadata": {},
   "outputs": [],
   "source": [
    "import dateutil.parser\n",
    "dateutil.parser.parse(\"2019-12-31 11:39\")\n",
    "dateuril.parser.parse(\"2019/12/31 11:39\")\n",
    "\n",
    "d1 = datetime.datetime(2019, 10, 31, 13, 20)\n",
    "d2 = datetime.datetime(2018, 11, 30, 3, 20)\n",
    "delta = d1 - d2\n",
    "print(delta)\n",
    "print(delta.days)\n",
    "print(delta.seconds)\n",
    "print(delta.total_seconds())\n",
    "\n",
    "d1 = datetime.datetime(2019, 10, 31, 13, 20)\n",
    "delta = datetime.timedelta(days=30, seconds=3000)\n",
    "newdate = d1 + delta\n",
    "print(newdate)"
   ]
  },
  {
   "cell_type": "markdown",
   "metadata": {},
   "source": [
    "## random\n",
    "* 파이썬에서 난수를 생성시킬 수 있는 모듈 입니다."
   ]
  },
  {
   "cell_type": "code",
   "execution_count": null,
   "metadata": {},
   "outputs": [],
   "source": [
    "import random\n",
    "random.random()\n",
    "random.randint(1, 10) # 1~10 사이에서 난수값을 리턴\n",
    "\n",
    "nums = ['가위', '바위', '보']\n",
    "random.choice(nums) # nums 리스트에서 임의수를 선택한다.\n",
    "\n",
    "random.shuffle(nums) # nums 리스트를 무작위로 셔플한다."
   ]
  },
  {
   "cell_type": "markdown",
   "metadata": {},
   "source": [
    "# 외부 라이브러리\n",
    "\n",
    "* 외부 라이브러리라는것은 다른 개발자 혹은 회사들이 만들어서 파이썬 유저들에게 사용할 수 있게 해놓은 라이브러리를 말합니다.\n",
    "* 외부 라이브러리는 PYPI (Python Packagy Index) 에서 pip 명령어를 통해 설치 할 수 있습니다.\n",
    "* 백만개가 넘는 라이브러리들을 검색할 수 있습니다. https://pypi.org/search/?q=&o= "
   ]
  },
  {
   "cell_type": "markdown",
   "metadata": {},
   "source": [
    "## PIP\n",
    "* PIP (Package Manager) 는 파이썬 설치시 자동으로 설치 됩니다.\n",
    "* 명령프롬프트에서 pip --version 으로 PIP 버전을 확인 할 수 있습니다.\n",
    "* python -m pip install --upgrade pip, pip install --upgrade pip 명령어를 통해 PIP 버전을 최신 버전으로 업그레이드 할 수 있습니다.\n",
    "* pip install [패키지명] 하면 외부 라이브러리를 설치 할 수 있습니다."
   ]
  },
  {
   "cell_type": "markdown",
   "metadata": {},
   "source": [
    "**ModuleNotFoundError: No module named 'requests'**\n",
    "\n",
    "* pip install requests (설치)\n",
    "* pip uninstall requests (제거)\n",
    "* pip freeze\n",
    "* pip show requests"
   ]
  }
 ],
 "metadata": {
  "kernelspec": {
   "display_name": "Python 3",
   "language": "python",
   "name": "python3"
  },
  "language_info": {
   "codemirror_mode": {
    "name": "ipython",
    "version": 3
   },
   "file_extension": ".py",
   "mimetype": "text/x-python",
   "name": "python",
   "nbconvert_exporter": "python",
   "pygments_lexer": "ipython3",
   "version": "3.6.3"
  }
 },
 "nbformat": 4,
 "nbformat_minor": 2
}
