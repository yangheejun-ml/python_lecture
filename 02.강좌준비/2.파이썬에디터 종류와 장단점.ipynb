{
 "cells": [
  {
   "cell_type": "markdown",
   "metadata": {},
   "source": [
    "# 파이썬 에디터 종류와 장단점"
   ]
  },
  {
   "cell_type": "markdown",
   "metadata": {},
   "source": [
    "## PyCharm (파이참)\n",
    "\n",
    "- 장점\n",
    " - 상당한 퀄리티의 IDE 제품을 만든 젯브레인스(JetBrains 에서 만든 툴)회사꺼\n",
    " - 초보가 쓰기에 가장 편함\n",
    " - 안드로이드 스튜디오, 코틀린을 개발한 회사에서 만든 툴이라 차후 안드로이드 앱 개발자거나 꿈꾸면 툴 적응성이 좋음\n",
    " \n",
    "- 단점\n",
    " - 툴을 동시에 여러개 띄우면 무거움(상대적)\n",
    " - Pro 버전은 유료(Community 버전으로 거의 사용가능하나 초보수준을 지나고나면 무료버전의 단점이 보이기 시작함 (예:Django 패키지지원안함)\n",
    " - 툴 자체에 익숙해지면 너무 툴 의존적이 되어 파이참이 없는경우 불편을 초래할 정도로 툴의 완성도가 높은게 오히려 단점 (개인차)\n",
    " \n",
    " \n",
    " - 대학생/강사/교수/교사등(대학교이메일)이 있으면 Pro 버전을 1년간 무료사용 가능 Education Version"
   ]
  },
  {
   "cell_type": "markdown",
   "metadata": {},
   "source": [
    "## VisualStudio Code(비쥬얼스튜디오 코드)\n",
    "- 장점\n",
    " - 무료\n",
    "  - UI 가 심플\n",
    "  - marketplace에서 원하는 extension을 선택할 수 있으며 방대한 플러그인을 지원\n",
    "  - 가벼움과 성능\n",
    "  - Find and Replace (찾기 및 바꾸기) 로 5000개 정도의 단어 일괄 변경시 다른 에디터보다 월등히 빠름\n",
    " \n",
    "- 단점\n",
    " - 파이참에 비해 어려움\n",
    " - extension은 개인이 만들어서 올리는것도 많은데 오류가 종종 있음(VSCode 자체는 안정적임)\n",
    " - 네비게이션 방식이 좀 부족함"
   ]
  },
  {
   "cell_type": "markdown",
   "metadata": {},
   "source": [
    "## Sublime Text 3 / Atom\n",
    "- 장점 많지만\n",
    "- 단점 느림"
   ]
  }
 ],
 "metadata": {
  "kernelspec": {
   "display_name": "Python 3",
   "language": "python",
   "name": "python3"
  },
  "language_info": {
   "codemirror_mode": {
    "name": "ipython",
    "version": 3
   },
   "file_extension": ".py",
   "mimetype": "text/x-python",
   "name": "python",
   "nbconvert_exporter": "python",
   "pygments_lexer": "ipython3",
   "version": "3.6.3"
  }
 },
 "nbformat": 4,
 "nbformat_minor": 2
}
