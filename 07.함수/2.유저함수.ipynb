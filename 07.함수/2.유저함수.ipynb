{
 "cells": [
  {
   "cell_type": "markdown",
   "metadata": {},
   "source": [
    "# 유저함수"
   ]
  },
  {
   "cell_type": "code",
   "execution_count": null,
   "metadata": {},
   "outputs": [],
   "source": [
    "def 함수명(인자값):\n",
    "    print(인자값)\n",
    "    return True"
   ]
  },
  {
   "cell_type": "markdown",
   "metadata": {},
   "source": [
    "* 어떤 공통된 반복된 일련의 작업을 분리하여 함수화 하므로서 코드재사용성과 객체지향적인 프로그래밍을 하기 위해 함수를 사용합니다.\n",
    "* 파이썬에서 함수는 def 로 시작하고 함수명을 쓰고 괄호()에 인자값이 있으면 선언, 없으면 생략 그리고 콜론으로 문장을 마무리하고\n",
    "* 다음줄 들여쓰기 부터 함수의 내용을 작성합니다.\n",
    "* 함수가 수행 된 후 어떤 결과를 다시 호출한 곳으로 돌려줘야 한다면 return 을 통해 돌려줄 수 있습니다."
   ]
  },
  {
   "cell_type": "markdown",
   "metadata": {},
   "source": [
    "### 예를 들어 어떤 프로그램에서 계속 사용자에게 이름을 묻는 코드가 반복된다고 했을때"
   ]
  },
  {
   "cell_type": "code",
   "execution_count": null,
   "metadata": {},
   "outputs": [],
   "source": [
    "def question_name():\n",
    "    user_name = input(\"사용자의 이름을 입력해 주세요.> \")\n",
    "    return user_name\n",
    "    \n",
    "    \n",
    "name = question_name()"
   ]
  },
  {
   "cell_type": "markdown",
   "metadata": {},
   "source": [
    "### 매개변수\n",
    "\n",
    "* 매개변수, 파람, 파라메타 등의 용어로 사용되며 함수의 인풋 데이터로 전달되는 특별한 변수를 일컫는 용어입니다.\n",
    "* 이 데이터들을 총칭할때 아규먼트, 인자값 이라는 단어를 쓰기도 합니다."
   ]
  },
  {
   "cell_type": "markdown",
   "metadata": {},
   "source": [
    "### 전역변수와 지역변수\n",
    "* 함수의 내부에서 사용하는 변수는 지역변수 입니다. 지역변수는 함수가 종료되면 자동 사라집니다.\n",
    "* 전역변수는 함수의 바깥쪽에서 사용하는 변수 입니다."
   ]
  },
  {
   "cell_type": "code",
   "execution_count": null,
   "metadata": {},
   "outputs": [],
   "source": [
    "def add(a, b):\n",
    "    c = a + b # c 는 지역변수\n",
    "    return c\n",
    "\n",
    "d = add(1, 3)\n",
    "\n",
    "# c는 존재하지 않습니다.\n",
    "print(d, c)"
   ]
  },
  {
   "cell_type": "code",
   "execution_count": null,
   "metadata": {},
   "outputs": [],
   "source": [
    "c = 0\n",
    "def add(a, b):\n",
    "    global c\n",
    "    c = a + b\n",
    "    return c\n",
    "\n",
    "d = add(1, 3)\n",
    "# c는 존재합니다.\n",
    "print(d, c)"
   ]
  },
  {
   "cell_type": "markdown",
   "metadata": {},
   "source": [
    "### call by value, call by reference\n",
    "\n",
    "* 파이썬에선 immutable, mutable 의 속성으로 나뉩니다.\n",
    "* int, float, str, typle 등은 immutable (변하지 않는 값)\n",
    "* list, dict, set 등은 mutable (변하는 값)"
   ]
  },
  {
   "cell_type": "code",
   "execution_count": null,
   "metadata": {},
   "outputs": [],
   "source": [
    "# call by value : immutable\n",
    "def test(num):\n",
    "    num += 10\n",
    "    print(num)\n",
    "    \n",
    "a = 50\n",
    "test(a)\n",
    "print(a)"
   ]
  },
  {
   "cell_type": "code",
   "execution_count": null,
   "metadata": {},
   "outputs": [],
   "source": [
    "# call by reference : mutable\n",
    "def test(list):\n",
    "    list.append(\"aaaaa\")\n",
    "    print(list)\n",
    "    \n",
    "a = []\n",
    "a.append(\"1234\")\n",
    "test(a)\n",
    "print(a)"
   ]
  },
  {
   "cell_type": "markdown",
   "metadata": {},
   "source": [
    "### 인자값에는 기본값을 사용할 수 있습니다.\n",
    "* 기본값이 설정된 인자값은 함수 호출시 생략할 수 있으며 이때 기본값이 적용됩니다.\n",
    "* 생략하지 않은 경우에는 인자값으로 넘어온 값이 사용됩니다."
   ]
  },
  {
   "cell_type": "code",
   "execution_count": null,
   "metadata": {
    "scrolled": true
   },
   "outputs": [],
   "source": [
    "def add(a, b=10):\n",
    "    return a + b\n",
    "\n",
    "print(add(10))\n",
    "print(add(10, 20))"
   ]
  },
  {
   "cell_type": "markdown",
   "metadata": {},
   "source": [
    "### 이전 강좌에서 다룬 사용자가 입력한 숫자가 소수인지 판별하는 코드를 함수화 해보면..."
   ]
  },
  {
   "cell_type": "code",
   "execution_count": null,
   "metadata": {},
   "outputs": [],
   "source": [
    "def is_prime_number(number):\n",
    "    prime_lists = [False, False] + [True] * (num - 1)\n",
    "    primes = []\n",
    "    for i in range(2, num + 1):\n",
    "        if prime_lists[i]:\n",
    "            for j in range(2*i, num+1, i):\n",
    "                prime_lists[j] = False\n",
    "    primes = [i for i in range(2, num+1) if prime_lists[i] == True]\n",
    "    \n",
    "    if num in primes:\n",
    "        return True\n",
    "    else:\n",
    "        return False\n",
    "\n",
    "    \n",
    "num = int(input(\"2 이상의 숫자를 입력하세요.> \"))\n",
    "if is_prime_number(num):\n",
    "    print(\"소수 입니다.\")\n",
    "else:\n",
    "    print(\"소수가 아닙니다.\")"
   ]
  },
  {
   "cell_type": "markdown",
   "metadata": {},
   "source": [
    "### 사용자에게 특정 자료형을 입력받는 함수"
   ]
  },
  {
   "cell_type": "code",
   "execution_count": null,
   "metadata": {},
   "outputs": [],
   "source": [
    "def get_input_user(msg, casting=int):\n",
    "    while True:\n",
    "        try:\n",
    "            u = casting(input(msg))\n",
    "            return u\n",
    "        except:\n",
    "            continue\n",
    "\n",
    "num = get_input_user(\"2 이상의 숫자를 입력하세요> \", int)\n",
    "print(num)"
   ]
  },
  {
   "cell_type": "markdown",
   "metadata": {},
   "source": [
    "### docstring\n",
    "* docstring 은 모듈, 함수, 클래스 등에 첫번째 줄에 작성하는 문자열 값\n",
    "* 보통 클래스의 소개, 함수의 사용법 (인자값, 리턴값) 등을 기술합니다.\n",
    "* docstring 은 자동으로 __doc__ 이라는 특수한 속성으로 변환되서 관리됩니다."
   ]
  },
  {
   "cell_type": "code",
   "execution_count": null,
   "metadata": {},
   "outputs": [],
   "source": [
    "# 코딩컨벤션 - 구글 스타일\n",
    "def add(a, b):\n",
    "    '''정수 2개를 덧셈해 리턴하는 함수\n",
    "    \n",
    "    Args:\n",
    "        a (int) : 정수형 첫번째 숫자\n",
    "        b (int) : 정수형 두번째 숫자\n",
    "    \n",
    "    Returns:\n",
    "        int: a + b 덧셈 결과값\n",
    "    '''\n",
    "    return a + b\n",
    "\n",
    "# add 함수의 docstring 을 출력하기 위해선 __doc__ 으로 접근 가능\n",
    "print(add.__doc__)"
   ]
  },
  {
   "cell_type": "markdown",
   "metadata": {},
   "source": [
    "### &#42;args, &#42;&#42;kwargs 인자\n",
    "* &#42;args 는 튜플 형태로 (positional)포지셔널 아규먼트\n",
    "* &#42;&#42;kwargs 는 딕셔너리 형태로 키워드 아규먼트\n",
    "* 포지셔널 아규먼트와 키워드 아규먼트를 같이 쓸때 포지셔널 아규먼트가 순서에 의해 무조건 먼저 나와야 한다."
   ]
  },
  {
   "cell_type": "code",
   "execution_count": null,
   "metadata": {},
   "outputs": [],
   "source": [
    "# *args 는 함수에 넘기는 인자값이 몇개던 넘길 수 있지만 그 순서는 반드시 시켜져야 한다.\n",
    "def save_winners(*args):\n",
    "    print(args)\n",
    "save_winners(\"홍길동\", \"가가멜\", \"아즈라엘\")"
   ]
  },
  {
   "cell_type": "code",
   "execution_count": null,
   "metadata": {},
   "outputs": [],
   "source": [
    "# **kwargs 는 함수에 넘기는 인자값의 갯수나 순서가 상관없지만 접근 가능한 변수명이 dict 형태로 함께 넘어와야 한다.\n",
    "def save_winners(**kwargs):\n",
    "    print(kwargs)\n",
    "save_winners(n1=\"홍길동\", n2=\"가가멜\", n3=\"아즈라엘\")"
   ]
  },
  {
   "cell_type": "markdown",
   "metadata": {},
   "source": [
    "## 파이썬 함수의 독특한 특징\n",
    "* 파이썬에서 함수는 일급 객체로 취급됩니다.\n",
    "* 변수나 데이터 구조 안에 담을 수 있습니다.\n",
    "* 아규먼트로 전달이 가능합니다.\n",
    "* 리턴값으로 사용할 수 있습니다.\n",
    "* C, Java 에선 다른 개념, Javascript, Scala, Go 에선 일급객체\n",
    "\n",
    "\n",
    "**일급객체는 일반적으로 위에서 열거한 다른 객체들에 적용 가능한 연산을 모두 지원하는 객체를 말합니다.**"
   ]
  },
  {
   "cell_type": "code",
   "execution_count": null,
   "metadata": {},
   "outputs": [],
   "source": [
    "# 함수를 변수에 할당\n",
    "def hi():\n",
    "    print(\"hello python\")\n",
    "\n",
    "hello = hi # 함수를 변수에 담았다.\n",
    "print(type(hello)) # hello 변수의 타입은?\n",
    "hello() # 변수를 함수처럼 호출"
   ]
  },
  {
   "cell_type": "code",
   "execution_count": null,
   "metadata": {},
   "outputs": [],
   "source": [
    "# 함수를 아규먼트로 넘김\n",
    "def add(a, b):\n",
    "    return a + b\n",
    "\n",
    "def calc(func, a, b):\n",
    "    print(\"함수인자: {}\".format(func.__name__))\n",
    "    print(\"결과: {}\".format(func(a, b)))\n",
    "\n",
    "calc(add, 1, 3)"
   ]
  },
  {
   "cell_type": "code",
   "execution_count": null,
   "metadata": {},
   "outputs": [],
   "source": [
    "# 함수를 리턴값으로 사용\n",
    "def outer_function(func):\n",
    "    def inner_function(*args, **kwargs):\n",
    "        print(\"함수명: \", func.__name__)\n",
    "        print(\"args: \", args)\n",
    "        print(\"kwargs: \", kwargs)\n",
    "        result = func(*args, **kwargs)\n",
    "        print(\"함수 결과: \", result)\n",
    "        return result\n",
    "    return inner_function # () 없음\n",
    "\n",
    "def add(a, b):\n",
    "    return a + b\n",
    "\n",
    "f = outer_function(add)\n",
    "f(10, 20)"
   ]
  },
  {
   "cell_type": "markdown",
   "metadata": {},
   "source": [
    "### 함수 특성을 활용한 예제"
   ]
  },
  {
   "cell_type": "code",
   "execution_count": null,
   "metadata": {},
   "outputs": [],
   "source": [
    "출력 = print\n",
    "메세지 = \"남박사의 파이썬 강좌\"\n",
    "변수 = 100\n",
    "\n",
    "출력(\"{} {}\".format(메세지, 변수))"
   ]
  },
  {
   "cell_type": "markdown",
   "metadata": {},
   "source": [
    "### py 파일 실행시 아규먼트\n",
    "\n",
    "* 파이썬 실행 아규먼트를 받기 위해선 sys 라이브러리를 임포트 해야합니다. import sys\n",
    "* sys.argv 는 리스트형태인데 sys.argv[0] 에는 기본적으로 python 실행파일의 경로가 담겨있기 때문에 sys.argv는 기본적으로 길이가 1 입니다.\n",
    "* 파이썬 실행시 사용자에게 여러가지 아규먼트를 넘겨받아 해당 아규먼트에 의해 프로그램이 동작하게 하려할때 사용합니다."
   ]
  },
  {
   "cell_type": "code",
   "execution_count": null,
   "metadata": {},
   "outputs": [],
   "source": [
    "import sys\n",
    "\n",
    "print(len(sys.argv))\n",
    "print(sys.argv[0])"
   ]
  }
 ],
 "metadata": {
  "kernelspec": {
   "display_name": "Python 3",
   "language": "python",
   "name": "python3"
  },
  "language_info": {
   "codemirror_mode": {
    "name": "ipython",
    "version": 3
   },
   "file_extension": ".py",
   "mimetype": "text/x-python",
   "name": "python",
   "nbconvert_exporter": "python",
   "pygments_lexer": "ipython3",
   "version": "3.6.3"
  }
 },
 "nbformat": 4,
 "nbformat_minor": 2
}
