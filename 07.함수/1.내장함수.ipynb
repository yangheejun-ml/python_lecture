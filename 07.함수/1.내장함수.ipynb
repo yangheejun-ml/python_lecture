{
 "cells": [
  {
   "cell_type": "markdown",
   "metadata": {},
   "source": [
    "# 내장함수\n",
    "\n",
    "* 어떤 입력값을 주었을때 어떤 결과값을 돌려주는 기능이 있는 기능을 하는것 입니다.  \n",
    "내장 함수는 어떤 기능을 이미 파이썬 자체에 구현되어있는것을 내장함수라고 합니다.  \n",
    "    **print(), enumerate(), abs(), all(), any(), chr(), ord(), len(), round(), range(), round(), eval()**\n",
    "    \n",
    "* 함수, 메서드, 프로시저 등 다양한 용어로 사용되기도 합니다."
   ]
  },
  {
   "cell_type": "markdown",
   "metadata": {},
   "source": [
    "### class int(x)\n",
    "* 정수x를 리턴합니다.\n",
    "* int(\"값\", \"진법\") 처럼 사용 가능\n",
    "* 정수는 무제한의 정밀도를 갖습니다. a = 100000000000000000000000000000000000000000000000"
   ]
  },
  {
   "cell_type": "code",
   "execution_count": null,
   "metadata": {},
   "outputs": [],
   "source": [
    "int(\"ac00\", 16)\n",
    "int(\"10\", 8)\n",
    "int(\"10\", 2)"
   ]
  },
  {
   "attachments": {
    "image.png": {
     "image/png": "[encoded data removed]"
    }
   },
   "cell_type": "markdown",
   "metadata": {},
   "source": [
    "### class float(x)\n",
    "* 숫자 또는 문자열 x 로부터 실수를 리턴합니다.\n",
    "* 실수는 C언어의 double 자료형을 사용해서 부동소수점 방식으로 구현됩니다.\n",
    "* 부동 소수점은 실제 데이터를 저장방식이 값과 소수점을 분리해서 저장하는 방식\n",
    "* 부동소수점의 정밀도는 sys.float_info 를 참조할 수 있습니다.\n",
    "* 1부터 10까지의 정수는 10개로 표현할 수 있지만 실수는 무한히 많습니다.\n",
    "* 컴퓨터에서 실수는 유한개의 비트로 정확하게 표현할 수 없기 때문에 근삿값으로 표현됩니다.\n",
    "* 1/3 을 정확하게 표현하면? 0.3, 0.33, 0.333\n",
    "* 부동소수점의 환상에 빠져서는 안됩니다. 예를 들어 0.1 + 0.2 == 0.3 (이 결과는 False 가 나옵니다.)\n",
    "> import math  \n",
    "> math.isclose(0.1 + 0.2, 0.3) # 파이썬 3.5부터 사용\n",
    "\n",
    "언어별 부동소수점 결과 참고: http://0.30000000000000004.com/\n",
    "\n",
    "\n",
    "* 위키피아 참조(https://ko.wikipedia.org/wiki/%EB%B6%80%EB%8F%99%EC%86%8C%EC%88%98%EC%A0%90)\n",
    "* IEEE 754 참조(https://ko.wikipedia.org/wiki/IEEE_754)\n",
    "![image.png](attachment:image.png)\n",
    "\n",
    "    * 부호부(1비트) : 양수일때는 0, 음수일때는 1\n",
    "    * 지수부(부호가 있는 정수, 7비트): 제일 앞의 1비트는 부호를 정하고 나머지 6비트로 표시\n",
    "    * 정규화된 가수부 (부호가 없는 정수 24비트): 제일 앞의 비트는 정규화 되었으므로 1\n",
    "\n",
    "    * 예를 들어 십진수 -118.625\n",
    "    * 지수부: 118 == 1110110(2)\n",
    "    * 가수부: 0.625 == 1010\n",
    "    > 0.625 * 2 = 1.250  \n",
    "    > 0.250 * 2 = 0.500  \n",
    "    > 0.500 * 2 = 1.000  \n",
    "    > 0.000 * 2 = 0  \n",
    "    > 1010  \n",
    "    * 118.625 == 1110110.1010\n",
    "    * 정규화 : 1110110.101=1.110110101×2⁶ (지수의 6 = 2진법:101)\n",
    "    * 가수부는 소수점의 오른쪽 부분으로 부족한 비트 수 만큼 0으로 채워 23비트로 만듬 11011010100000000000000\n",
    "    * 지수가 6이므로 Bias를 더함 32 비트 IEEE754 에서 Bias는 127 이므로 6 + 127 = 133 = 100000101(2)\n",
    "    > bias = 2<sup>k - 1</sup> - 1 = 2<sup>8 - 1</sup> - 1 = 127\n",
    "    * 최종 : 11000010111011010100000000000000 (실제 컴퓨터가 이해한 값)\n",
    "\n",
    "    * 참조: http://decimal-to-binary.com/decimal-to-binary-converter-online.html"
   ]
  },
  {
   "cell_type": "code",
   "execution_count": null,
   "metadata": {},
   "outputs": [],
   "source": [
    "float(\"+1.2333\")\n",
    "float(\"-1.2333\")\n",
    "float(\"1e-003\")\n",
    "float(\"1E6\")"
   ]
  },
  {
   "cell_type": "code",
   "execution_count": null,
   "metadata": {},
   "outputs": [],
   "source": [
    "a = 0.1 + 0.3\n",
    "print(a)\n",
    "x, y = a.as_integer_ratio() # a 의 값을 분수로 리턴\n",
    "a == x / y"
   ]
  },
  {
   "cell_type": "markdown",
   "metadata": {},
   "source": [
    "### class str(object=\"\")\n",
    "* object 의 str 을 리턴합니다.\n",
    "* str 은 내장 문자열 클래스"
   ]
  },
  {
   "cell_type": "code",
   "execution_count": null,
   "metadata": {},
   "outputs": [],
   "source": [
    "str(\"안녕하세요\")"
   ]
  },
  {
   "cell_type": "markdown",
   "metadata": {},
   "source": [
    "### str.split(sep=None, maxsplit=-1)\n",
    "* sep 를 구분자 문자열로 사용하여 문자열에 있는 단어들의 리스트를 돌려줍니다.\n",
    "* maxsplit 값이 주어지면 최대 maxsplit 번만 분할을 수행합니다."
   ]
  },
  {
   "cell_type": "code",
   "execution_count": null,
   "metadata": {},
   "outputs": [],
   "source": [
    "\"1,2,3,4,5\".split(\",\")"
   ]
  },
  {
   "cell_type": "markdown",
   "metadata": {},
   "source": [
    "### str.replace(old, new[, count])\n",
    "* 문자열에서 old 를 new 로 치환시켜 결과를 리턴합니다.\n",
    "* count 값이 주어지면 앞의 count 갯수만 치환됩니다.\n",
    "> \"헬로! 파이썬\".replace(\"헬로\", \"Hello\")"
   ]
  },
  {
   "cell_type": "code",
   "execution_count": null,
   "metadata": {},
   "outputs": [],
   "source": [
    "\"헬로! 파이썬\".replace(\"헬로\", \"Hello\")"
   ]
  },
  {
   "cell_type": "markdown",
   "metadata": {},
   "source": [
    "### help(object)\n",
    "* object 의 도움말을 안내한다."
   ]
  },
  {
   "cell_type": "code",
   "execution_count": null,
   "metadata": {},
   "outputs": [],
   "source": [
    "help(str)"
   ]
  },
  {
   "cell_type": "markdown",
   "metadata": {},
   "source": [
    "### sum(iterable [,start])\n",
    "* iterable 의 항목을 왼쪽에서 오른쪽으로 합계를 리턴합니다.(iterable 은 쉽게 순서가 있는 연속된 값이라고 생각하면 됩니다.)\n",
    "* start는 기준값 100 이면 100에 더하기 시작"
   ]
  },
  {
   "cell_type": "code",
   "execution_count": null,
   "metadata": {},
   "outputs": [],
   "source": [
    "sum([1,2,3,4,5,6,7,8,9,1])\n",
    "sum([1,2,3,4,5,6,7,8,9,1], 100)"
   ]
  },
  {
   "cell_type": "markdown",
   "metadata": {},
   "source": [
    "### abs(x)\n",
    "* x 값의 절대값을 리턴해줍니다."
   ]
  },
  {
   "cell_type": "code",
   "execution_count": null,
   "metadata": {},
   "outputs": [],
   "source": [
    "abs(-300)\n",
    "abs(-1.1231213)"
   ]
  },
  {
   "cell_type": "markdown",
   "metadata": {},
   "source": [
    "### all(iterable)\n",
    "* iterable 요소가 모두 참이면 True"
   ]
  },
  {
   "cell_type": "code",
   "execution_count": null,
   "metadata": {},
   "outputs": [],
   "source": [
    "all([True, True])"
   ]
  },
  {
   "cell_type": "markdown",
   "metadata": {},
   "source": [
    "### any(iterable)\n",
    "\n",
    "* iterable 요소 중 어느 하나라도 참이면 True"
   ]
  },
  {
   "cell_type": "code",
   "execution_count": null,
   "metadata": {},
   "outputs": [],
   "source": [
    "any([False, True, False])"
   ]
  },
  {
   "cell_type": "markdown",
   "metadata": {},
   "source": [
    "### chr(i)\n",
    "* 유니코드 포인트가 정수 i 인 문자를 나타내는 문자열을 리턴합니다."
   ]
  },
  {
   "cell_type": "code",
   "execution_count": null,
   "metadata": {},
   "outputs": [],
   "source": [
    "chr(97)\n",
    "chr(44032)"
   ]
  },
  {
   "cell_type": "markdown",
   "metadata": {},
   "source": [
    "### ord(c)\n",
    "* c 에 해당하는 문자의 유니코드 값을 정수로 리턴합니다."
   ]
  },
  {
   "cell_type": "code",
   "execution_count": null,
   "metadata": {},
   "outputs": [],
   "source": [
    "ord(\"가\")\n",
    "ord(\"a\")"
   ]
  },
  {
   "cell_type": "markdown",
   "metadata": {},
   "source": [
    "### dir([object])\n",
    "* 보통 함수를 넣으면 해당 함수의 모든 속성을 리턴합니다.\n",
    "* 이는 함수내에 __dir__() 메서드가 호출되므로서 리턴됩니다."
   ]
  },
  {
   "cell_type": "code",
   "execution_count": null,
   "metadata": {},
   "outputs": [],
   "source": [
    "dir(str)"
   ]
  },
  {
   "cell_type": "markdown",
   "metadata": {},
   "source": [
    "### eval(expression)\n",
    "* eval 은 expression 문자열을 실행가능한 수식 상태로 리턴해줍니다.\n",
    "* 예를 들어 eval(\"1+3&#42;10\") 하면 31이 리턴됩니다."
   ]
  },
  {
   "cell_type": "code",
   "execution_count": null,
   "metadata": {},
   "outputs": [],
   "source": [
    "eval(\"1+3 *10\")"
   ]
  },
  {
   "cell_type": "markdown",
   "metadata": {},
   "source": [
    "### max(iterable)\n",
    "* iterable 에서 가장 큰 항목이나 두 개 이상의 인자 중 가장 큰 것을 돌려줍니다."
   ]
  },
  {
   "cell_type": "code",
   "execution_count": null,
   "metadata": {},
   "outputs": [],
   "source": [
    "max([1,2,3,4,5])"
   ]
  },
  {
   "cell_type": "markdown",
   "metadata": {},
   "source": [
    "### min(iterable)\n",
    "* iterable 에서 가장 작은 항목을 리턴합니다."
   ]
  },
  {
   "cell_type": "code",
   "execution_count": null,
   "metadata": {},
   "outputs": [],
   "source": [
    "min([1,2,3,4,5])"
   ]
  },
  {
   "cell_type": "markdown",
   "metadata": {},
   "source": [
    "### round(number[, ndigits])\n",
    "* number 값을 소수점 다음에 ndigits 정밀도로 반올림한 값을 돌려줍니다. \n",
    "* round(1/3, 3)"
   ]
  },
  {
   "cell_type": "code",
   "execution_count": null,
   "metadata": {},
   "outputs": [],
   "source": [
    "1/3\n",
    "round(1/3)\n",
    "round(1/3, 3)"
   ]
  },
  {
   "cell_type": "markdown",
   "metadata": {},
   "source": [
    "### isinstance(object, class)\n",
    "\n",
    "* object 가 class 형태인지를 확인하여 True, False 를 리턴합니다.\n",
    "* int a = 3; isinstance(a, int)"
   ]
  },
  {
   "cell_type": "code",
   "execution_count": null,
   "metadata": {},
   "outputs": [],
   "source": [
    "a = int(3)\n",
    "isinstance(a, int)"
   ]
  },
  {
   "cell_type": "markdown",
   "metadata": {},
   "source": [
    "## 진수 변환"
   ]
  },
  {
   "cell_type": "markdown",
   "metadata": {},
   "source": [
    "### bin(x)\n",
    "* x 값의 2진수 값을 리턴합니다."
   ]
  },
  {
   "cell_type": "code",
   "execution_count": null,
   "metadata": {},
   "outputs": [],
   "source": [
    "bin(44032)"
   ]
  },
  {
   "cell_type": "markdown",
   "metadata": {},
   "source": [
    "### oct(x)\n",
    "* 정수 x를 0o가 붙은 8진수 문자열로 리턴합니다.\n",
    "* oct(8)"
   ]
  },
  {
   "cell_type": "code",
   "execution_count": null,
   "metadata": {},
   "outputs": [],
   "source": [
    "oct(44032)"
   ]
  },
  {
   "cell_type": "markdown",
   "metadata": {},
   "source": [
    "### hex(x)\n",
    "* x 정수를 0x가 붙은 16진수 문자열로 리턴합니다.\n",
    "* hex(10)"
   ]
  },
  {
   "cell_type": "code",
   "execution_count": null,
   "metadata": {},
   "outputs": [],
   "source": [
    "hex(44032)"
   ]
  }
 ],
 "metadata": {
  "kernelspec": {
   "display_name": "Python 3",
   "language": "python",
   "name": "python3"
  },
  "language_info": {
   "codemirror_mode": {
    "name": "ipython",
    "version": 3
   },
   "file_extension": ".py",
   "mimetype": "text/x-python",
   "name": "python",
   "nbconvert_exporter": "python",
   "pygments_lexer": "ipython3",
   "version": "3.6.3"
  }
 },
 "nbformat": 4,
 "nbformat_minor": 2
}
