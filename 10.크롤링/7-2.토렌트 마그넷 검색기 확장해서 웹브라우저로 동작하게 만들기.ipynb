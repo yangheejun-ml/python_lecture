{
 "cells": [
  {
   "cell_type": "markdown",
   "metadata": {},
   "source": [
    "# 토렌트 마그넷 검색기를 웹브라우저로 확장하기\n",
    "\n",
    "* 난이도 : ★★★☆☆☆☆☆☆☆\n",
    "* 필요라이브러리: requests, BeautifulSoup4, re, **Flask**\n",
    "\n",
    "\n",
    "* 기존에 만든 토렌트 마그넷 검색기를 콘솔이 아닌 웹에서 검색하고 결과를 받을 수 있게 기능 확장\n",
    "* 브라우저 접속이 가능하단 얘기는 웹에서 접속이 가능하단 얘기므로 간단한 웹서버를 구축해야 합니다.\n",
    "* 웹서버 구축을 위한 Flask 라이브러리 설치\n",
    "> pip install Flask\n",
    "* Flask로 간단한 웹프로그래밍 연습"
   ]
  },
  {
   "cell_type": "markdown",
   "metadata": {},
   "source": [
    "## Flask\n",
    "* 플라스크는 파이썬에서 웹프로그래밍을 가능하게 해주는 프레임워크의 일종입니다.\n",
    "* 웹 프레임워크와 웹서버는 다른 개념입니다. 웹 프레임워크는 웹을 만들 수 있는 기능과 구조를 제공해주는것이지 그 자체가 웹서버는 아닙니다.\n",
    "* 플라스크로 웹 프로그램을 만들면서 테스트 할 수 있는 수준의 개발용 웹서버는 플라스크에 내장되어있습니다.\n",
    "* 그러나 실제 상용 수준의 웹 서비스를 하기 위해선 apache, nginx, IIS 등 웹서버를 구축해야 합니다.\n",
    "* 파이썬에서 사용할 수 있는 웹프레임워크 종류\n",
    "> Flask (플라스크), DJango (장고), Tornado (토네이도), Pyramid (피라미드) 등"
   ]
  },
  {
   "cell_type": "code",
   "execution_count": null,
   "metadata": {},
   "outputs": [],
   "source": [
    "# 플라스크 라이브러리\n",
    "from flask import Flask\n",
    "\n",
    "# 플라스크 인스턴스 생성\n",
    "app = Flask(__name__)\n",
    "\n",
    "# 접속될 주소 라우팅 여기서 '/' 는 http://localhost:9988/ 와 같음\n",
    "# 데코레이터 밑에 함수 선언\n",
    "@app.route(\"/\")\n",
    "def index():\n",
    "    return \"웹 프로그래밍\"\n",
    "\n",
    "# py 파일을 콘솔에서 직접 실행했을시 실행되는 시작점 (내부 엔트리 포인트)\n",
    "# 직접 py 파일을 python 명령어로 시작하면 __name__ 변수에 \"__main__\" 이라는 값이 들어갑니다.\n",
    "if __name__ == '__main__':\n",
    "    app.run(host=\"0.0.0.0\", port=9988, debug=True)"
   ]
  },
  {
   "cell_type": "markdown",
   "metadata": {},
   "source": [
    "### 웹브라우저로 접속 해봅니다.\n",
    "* 웹브라우저를 열고 http://localhost:9988 로 접속 해봅니다.\n",
    "* 브라우저에 웹 프로그래밍 이라고 표시가 되면 준비가 모두 완료되었습니다."
   ]
  },
  {
   "cell_type": "markdown",
   "metadata": {},
   "source": [
    "### 플라스크 템플릿 기능 활용\n",
    "* Flask 에서는 보여지는 부분(프론트엔드)과 처리하는 부분(백엔드) 를 나누기 위해 템플릿이라는 기능을 제공합니다.\n",
    "* 템플릿 기능으로 프로그램적인 부분은 py 파일에 작성하고 보여지는 부분은 html 파일에 작성하게 됩니다.\n",
    "* 템플릿을 사용하기 위해선 py 파일이 있는 위치에 templates 라는 폴더를 만들고 html 파일을 폴더안에 생성하면 됩니다.\n",
    "\n",
    "\n",
    "![flask_1.jpg](images/flask_1.jpg)"
   ]
  },
  {
   "cell_type": "markdown",
   "metadata": {},
   "source": [
    "#### index.html"
   ]
  },
  {
   "cell_type": "code",
   "execution_count": null,
   "metadata": {},
   "outputs": [],
   "source": [
    "<h3>웹 프로그래밍</h3>"
   ]
  },
  {
   "cell_type": "markdown",
   "metadata": {},
   "source": [
    "#### py 파일"
   ]
  },
  {
   "cell_type": "code",
   "execution_count": null,
   "metadata": {},
   "outputs": [],
   "source": [
    "# py 파일\n",
    "\n",
    "# 플라스크 라이브러리\n",
    "from flask import Flask\n",
    "# 템플릿을 사용하기 위한 라이브러리\n",
    "from flask import render_template\n",
    "\n",
    "# 플라스크 인스턴스 생성\n",
    "app = Flask(__name__)\n",
    "\n",
    "# 접속될 주소 라우팅 여기서 '/' 는 http://localhost:9988/ 와 같음\n",
    "# 데코레이터 밑에 함수 선언\n",
    "@app.route(\"/\")\n",
    "def index():\n",
    "    # 인덱스가 호출되면 index.html 파일을 출력하게 됩니다.\n",
    "    # 여기서 index.html 파일은 templates 폴더에 존재해야 합니다.\n",
    "    return render_template(\"index.html\")\n",
    "\n",
    "# py 파일을 콘솔에서 직접 실행했을시 실행되는 시작점 (내부 엔트리 포인트)\n",
    "# 직접 py 파일을 python 명령어로 시작하면 __name__ 변수에 \"__main__\" 이라는 값이 들어갑니다.\n",
    "if __name__ == '__main__':\n",
    "    app.run(host=\"0.0.0.0\", port=9988, debug=True)"
   ]
  },
  {
   "cell_type": "markdown",
   "metadata": {},
   "source": [
    "## 토렌트 마그넷 검색기 검색 HTML 페이지 만들기\n",
    "* html 의 요소는 검색어를 입력할 검색어 입력박스와 검색 버튼이 필요합니다.\n",
    "* 검색된 결과를 출력할 레이어가 필요합니다.\n",
    "* Flask 는 내부적으로 Jinja2 라는 템플릿 엔진을 사용합니다.\n",
    "* HTML 코드에서 파이썬의 변수를 표현하거나 할때 이를 위해 Jinja2 템플릿 문법을 사용해야 합니다.\n",
    "* Jinja 공식문서 링크 http://jinja.pocoo.org/docs/2.10/templates/"
   ]
  },
  {
   "cell_type": "code",
   "execution_count": null,
   "metadata": {},
   "outputs": [],
   "source": [
    "<form name=\"form\" method=\"POST\" action=\"/\">\n",
    "    <input type=\"text\" name=\"keyword\" value=\"\">\n",
    "    <input type=\"submit\">\n",
    "</form>\n",
    "{% if magnets|length > 0 %}\n",
    "    {% for m in magnets %}\n",
    "        <li><a href=\"{{m.magnet}}\" target=\"_blank\">{{m.title}}</a></li>\n",
    "    {% endfor %}\n",
    "{% else %}\n",
    "    <p>검색 결과가 없습니다.</p>\n",
    "{% endif %}"
   ]
  },
  {
   "cell_type": "markdown",
   "metadata": {},
   "source": [
    "### HTML 코드 설명\n",
    "* &#60;FORM&#62; 태그는 HTML 에서 데이터를 전송하는 방식 중 한가지 입니다.\n",
    "* &#60;FORM&#62; 태그의 method 는 해당 폼 데이터를 GET 혹은 POST 방식으로 전송하는 전송방식을 결정합니다.\n",
    "* &#60;FORM&#62; 태그의 action 은 해당 폼의 데이터를 어디로 전송할지 설정합니다. '/' 는 해당 도메인의 '/' 를 얘기합니다.\n",
    "* &#60;input&#62;은 입력태그로서 text, checkbox 등 우리가 흔히 알고 있는 요소들의 형태를 설정합니다.\n",
    "* &#60;input type='text'&#62;는 입력가능한 텍스트 박스이며 이름은 keyword 입니다. 여기서 셋팅된 이름을 실제 파이썬 코드에서 사용하게 됩니다. \n",
    "* &#60;input type='submit'&#62;은 전송 버튼 입니다.\n",
    "\n",
    "\n",
    "* Jinja 문법은 파이썬의 문법과는 다릅니다.\n",
    "* HTML 에서 프로그래밍 문법적으로 처리해야 할 부분은 {% %} 로 쌓여져 있습니다.\n",
    "* 변수값 같은 요소는 {{ }} 로 접근할 수 있습니다.\n",
    "* HTML 에서 if 문 예제\n",
    "> {% if a %}  \n",
    "> {% else %}  \n",
    "> {% endif %}  "
   ]
  },
  {
   "cell_type": "code",
   "execution_count": null,
   "metadata": {},
   "outputs": [],
   "source": [
    "# 필요한 라이브러리\n",
    "import requests\n",
    "from bs4 import BeautifulSoup\n",
    "import re\n",
    "\n",
    "# 플라스크 라이브러리\n",
    "from flask import Flask\n",
    "# HTML 페이지를 렌더링 하기 위한 라이브러리\n",
    "from flask import render_template\n",
    "# HTML 페이지 FORM 에서 넘어온 데이터를 처리 하기 위한 라이브러리\n",
    "from flask import request\n",
    "\n",
    "app = Flask(__name__)\n",
    "\n",
    "\n",
    "def search_google(keyword, start_page, end_page=None):\n",
    "    '''구글에서 검색어를 검색해 마그넷 주소를 파싱하는 함수\n",
    "    Args:\n",
    "        keyword (str) : 검색어\n",
    "    \n",
    "    Returns:\n",
    "        list : 마그넷주소가 있는 결과 리스트(제목, 마그넷주소)\n",
    "    '''\n",
    "    \n",
    "    # 최종 결과를 리턴할 리스트 변수\n",
    "    results = []\n",
    "\n",
    "    # 검색어 뒤에 torrent 가 없으면 붙입니다.\n",
    "    if keyword.find(\"+torrent\") < 0:\n",
    "        keyword += \"+torrent\"\n",
    "\n",
    "    # 구글 검색 URL 변수 설정\n",
    "    url = \"https://www.google.co.kr/search?q={0}&oq={0}&start={1}\".format(keyword, start_page)\n",
    "    r = requests.get(url, headers={\"User-Agent\": \"Mozilla/5.0 (Windows NT 10.0; Win64; x64) AppleWebKit/537.36 (KHTML, like Gecko) Chrome/73.0.3683.103 Safari/537.36\"})\n",
    "    bs = BeautifulSoup(r.text, \"lxml\")\n",
    "    \n",
    "    # 화면에 안내 출력\n",
    "    print(url, \"분석중....\")\n",
    "    \n",
    "    # end_page 가 None 이면 첫번째 페이지라고 가정\n",
    "    if end_page is None:\n",
    "        # 검색결과 Selector\n",
    "        counts = bs.select(\"div#resultStats\")[0].text\n",
    "        \n",
    "        # 검색결과 약 779,000개 (0.24초) \n",
    "        # 에서 779000 을 남기고 모두 제거\n",
    "        counts = counts.replace(\"검색결과\", \"\").replace(\"약\", \"\").replace(\"개\", \"\").replace(\",\", \"\").split(\"(\")[0].strip()\n",
    "        \n",
    "        # 구글은 페이지당 10개씩 출력\n",
    "        end_page = int(counts) / 10\n",
    "        \n",
    "        # 2 페이지 까지만 검색하게 함\n",
    "        if end_page > 20:\n",
    "            end_page = 20\n",
    "\n",
    "    # 개발자도구를 참고하여 검색결과의 링크 주소까지 선택하는 선택자를 찾을 수 있습니다.\n",
    "    links = bs.select(\"div.g > div > div.rc > div.r > a\")\n",
    "    for a in links:\n",
    "        # a 링크에 href 속성이 없으면 계속 반복\n",
    "        if not a.has_attr('href'):\n",
    "            continue\n",
    "\n",
    "        try:\n",
    "            # href 속성이 있다면 해당 페이지를 접속\n",
    "            href = a[\"href\"]\n",
    "            text = a.select(\"h3\")\n",
    "            title = text[0].text\n",
    "\n",
    "            # 링크 주소를 다시 접속\n",
    "            r = requests.get(href)\n",
    "            bs = BeautifulSoup(r.text, \"lxml\")\n",
    "            \n",
    "            # 페이지에서 magnet:?xt= 로 시작하는 모든 링크를 추출\n",
    "            magnets = bs.find_all(\"a\", href=re.compile(r'magnet:\\?xt=*'))\n",
    "\n",
    "            # magnet:?xt= 로 추출된 갯수가 0보다 크면\n",
    "            if len(magnets) > 0:\n",
    "                # A 태그에서 실제 링크주소(href) 를 추출\n",
    "                magnet = magnets[0][\"href\"]\n",
    "                # 최종 결과 리스트에 추가\n",
    "                results.append({\"title\": title, \"magnet\": magnet})\n",
    "        except:\n",
    "            continue\n",
    "\n",
    "    # 현재 페이지가 end_page 보다 작으면 페이징\n",
    "    if start_page < end_page:\n",
    "        start_page += 10\n",
    "        # 재귀함수 호출하고 결과를 results 에 extend 시킴\n",
    "        results.extend(search_google(keyword, start_page, end_page))\n",
    "    \n",
    "    # 최종 결과 리턴\n",
    "    return results\n",
    "\n",
    "\n",
    "# 루트 페이지 http://localhost:9988 접속시 호출되는 부분\n",
    "@app.route(\"/\", methods=[\"GET\", \"POST\"])\n",
    "def index():\n",
    "    # HTML에서 검색을 했다면 form 에 keyword 값이 들어와야 합니다.\n",
    "    # HTML 에서 input type=\"text\" 의 name 이 keyword 입니다.\n",
    "    if \"keyword\" in request.form:\n",
    "        # 키워드값을 구해 keyword 변수에 저장\n",
    "        keyword = request.form[\"keyword\"]\n",
    "        # 키워드값으로 기존에 작성된 search_google 함수 호출\n",
    "        magnets = search_google(keyword, 0)\n",
    "    else:\n",
    "        # 키워드가 없으면 최종 결과리스트에 빈리스트 설정\n",
    "        magnets = []\n",
    "\n",
    "    # 검색된 결과가 있다면\n",
    "    if len(magnets) > 0:\n",
    "        # index.html 을 렌더링 하는데 magnets 리스트를 magnets 라는 이름으로 넘김\n",
    "        # 코드가 복잡해 보이나 쉽게 그냥 딕셔너리를 넘긴다고 보시면 됩니다.\n",
    "        # 아스트릭(*) 문자가 2개인건 magnets를 가변인지(키워드인자)로 넘기기 때문이고 \n",
    "        # render_template 함수의 정해진 문법입니다.\n",
    "        return render_template(\"index.html\", **{\"magnets\": magnets})\n",
    "    else:\n",
    "        return render_template(\"index.html\")\n",
    "    \n",
    "    \n",
    "if __name__ == \"__main__\":\n",
    "    app.run(host=\"0.0.0.0\", port=9988, debug=True)"
   ]
  },
  {
   "cell_type": "markdown",
   "metadata": {},
   "source": [
    "### py 코드 변경\n",
    "* 기존 작성코드 중 변경된 부분은 81 라인의 results.append({\"title\": title, \"magnet\": magnet}) 이 부분이 변경되었습니다. 기존코드는 튜플형태로 리스트에 추가하였으나 HTML 에서 요소에 쉽게 접근하기 위해 딕셔너리 형태로 변경하여 리스트에 추가했습니다. 이렇게 수정하면 HTML 에서 m.title 로 값을 쉽게 얻을 수 있기 때문입니다.\n",
    "* 함수 바깥쪽에 있던 google_search() 함수를 호출하고 출력하는 부분은 제거 되었습니다.\n",
    "\n",
    "\n",
    "* app = Flask(__name__) 플라스크 인스턴스 생성 코드 추가\n",
    "* def index() 함수 추가와 flask 라우팅 추가\n",
    "* if __name__ == \"__main__\" 추가"
   ]
  },
  {
   "cell_type": "markdown",
   "metadata": {},
   "source": [
    "## 최종 결과\n",
    "![torrent_3.jpg](images/torrent_3.jpg)\n",
    "\n",
    "* 컴퓨터에 유토렌트, 비트토렌트 등 토렌트 클라이언트 프로그램이 설치되어있다면 해당 결과 링크 클릭시 자동 토렌트 다운로드가 시작됩니다."
   ]
  }
 ],
 "metadata": {
  "kernelspec": {
   "display_name": "Python 3",
   "language": "python",
   "name": "python3"
  },
  "language_info": {
   "codemirror_mode": {
    "name": "ipython",
    "version": 3
   },
   "file_extension": ".py",
   "mimetype": "text/x-python",
   "name": "python",
   "nbconvert_exporter": "python",
   "pygments_lexer": "ipython3",
   "version": "3.6.3"
  }
 },
 "nbformat": 4,
 "nbformat_minor": 2
}
