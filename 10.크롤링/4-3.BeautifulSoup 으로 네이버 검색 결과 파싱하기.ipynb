{
 "cells": [
  {
   "cell_type": "markdown",
   "metadata": {},
   "source": [
    "# BeautifulSoup 으로 네이버 검색 결과 파싱하기\n",
    "\n",
    "\n",
    "* 난이도 : ★★★☆☆☆☆☆☆☆\n",
    "* 필요라이브러리: requests, BeautifulSoup4"
   ]
  },
  {
   "cell_type": "markdown",
   "metadata": {},
   "source": [
    "![search_blog_naver](images/search_blog_naver.jpg)\n",
    "\n",
    "\n",
    "* 개발자도구로 대상 데이터의 DOM tree 형태를 확인하여 어떤 태그를 대상으로 할지 분석합니다."
   ]
  },
  {
   "cell_type": "markdown",
   "metadata": {},
   "source": [
    "![naver_address](images/naver_address.jpg)\n",
    "* 네이버 검색시 주소줄에 어떤 주소로 쿼리가 이뤄지는지 확인해봐야 합니다.\n",
    "* 쿼리는 클라이언트가 서버에게 어떤 데이터를 요청하는 질의어를 말합니다.\n",
    "* URL 주소에 어떤 파라메타가 어떤 의미를 갖는지 대강 추측해봅니다."
   ]
  },
  {
   "cell_type": "code",
   "execution_count": null,
   "metadata": {},
   "outputs": [],
   "source": [
    "# 파싱을 위한 라이브러리\n",
    "import requests\n",
    "from bs4 import BeautifulSoup\n",
    "\n",
    "# 검색어를 따로 관리\n",
    "keyword = \"파이썬강좌\"\n",
    "\n",
    "# 실제 검색이 이뤄지는 URL 주소와 쿼리문\n",
    "url = \"https://search.naver.com/search.naver?where=post&sm=tab_nmr&query={}&nso=\".format(keyword)\n",
    "r = requests.get(url)\n",
    "bs = BeautifulSoup(r.text, \"lxml\")\n",
    "\n",
    "for li in bs.select(\"li.sh_blog_top\"):\n",
    "    # 하위 태그로 다시 접근\n",
    "    thumbnail = li.select(\"img.sh_blog_thumbnail\")[0][\"src\"]\n",
    "    title_link = li.select(\"dl > dt > a\")[0]\n",
    "    summary = li.select(\"dl > dd.sh_blog_passage\")[0].text\n",
    "    href = title_link[\"href\"]\n",
    "    title = title_link.text\n",
    "    \n",
    "    print((title, href, summary))\n",
    "    \n"
   ]
  },
  {
   "cell_type": "markdown",
   "metadata": {},
   "source": [
    "### 기능 확장하기\n",
    "* 코드를 함수화 시켜 사용하기 좀 더 편리하게 만듭니다.\n",
    "* 페이징 할 수 있게 함수의 기능을 확장합니다."
   ]
  },
  {
   "cell_type": "code",
   "execution_count": null,
   "metadata": {},
   "outputs": [],
   "source": [
    "'''\n",
    "함수화 시키고 페이징 기능 추가\n",
    "'''\n",
    "import requests\n",
    "from bs4 import BeautifulSoup\n",
    "\n",
    "def get_search_naver_blog(keyword, start_page, end_page=None):\n",
    "    '''네이버 블로그 검색 함수\n",
    "    Args:\n",
    "        keyword (str): 검색어\n",
    "        start_page (int): 현재 페이지\n",
    "        end_page (int): 마지막 페이지\n",
    "        \n",
    "    Returns:\n",
    "        list : 최종 결과 목록\n",
    "    '''\n",
    "    \n",
    "    # 검색 URL 주소\n",
    "    # 네이버 페이징 처리는 1페이지, 2페이지 이런식이 아니라\n",
    "    # startpage= 로 1, 11, 21 이런식으로 시작게시물 수의 개념으로 봐야함\n",
    "    url = \"https://search.naver.com/search.naver?where=post&sm=tab_nmr&query={}&nso=&start={}\".format(keyword, start_page)\n",
    "\n",
    "    # 네이버 서버에 URL 요청\n",
    "    r = requests.get(url)\n",
    "    # lxml 파서를 사용해서 응답내용 BeautifulSoup 으로 변환하여 bs 에 저장\n",
    "    bs = BeautifulSoup(r.text, \"lxml\")\n",
    "    \n",
    "    # 최종 결과를 리턴할 리스트\n",
    "    results = []\n",
    "\n",
    "    # 최초 1페이지시에는 end_page 값이 None으로 넘어오기 때문에 이때 end_page를 구해야함\n",
    "    if end_page is None:\n",
    "        # 총 게시물 갯수는 이렇게 표기되므로 여기서 필요한 값만 파싱\n",
    "        # <span class=\"title_num\">1-10 / 6,283건</span> 에서\n",
    "        # '/' 문자를 기준으로 split 하여 뒷쪽 값을 취함[-1]\n",
    "        # 뒷쪽 값 6,284건 에서 '건' 글자와 ',' 글자를 없애서 tot_count 변수에 int 형으로 저장\n",
    "        tot_count = int(bs.select(\"span.title_num\")[0].text.split(\"/\")[-1].replace(\"건\", \"\").replace(\",\", \"\"))\n",
    "        # 총게시물 갯수 / 10 을 int 형으로 하면 end_page 값을 알 수 있음\n",
    "        end_page = int(tot_count / 10)\n",
    "        \n",
    "        # end_page 가 50이 넘어가면 그냥 51까지만 하기로 함\n",
    "        # 어차피 뒷쪽 데이터는 오래된 게시물 혹은 정확도가 떨어지는 데이터로 판단하고\n",
    "        # 적절한 페이지 수에서 타협\n",
    "        if end_page > 50:\n",
    "            end_page = 51\n",
    "\n",
    "    # 블로그 검색 목록만큼 반복문\n",
    "    for li in bs.select(\"li.sh_blog_top\"):\n",
    "        # 결과 파싱 시에 오류가 날 수 있으므로\n",
    "        try:\n",
    "            # 하위 태그로 다시 접근 하여 원하는 데이터를 수집\n",
    "            thumbnail = li.select(\"img.sh_blog_thumbnail\")[0][\"src\"]\n",
    "            title_link = li.select(\"dl > dt > a\")[0]\n",
    "            summary = li.select(\"dl > dd.sh_blog_passage\")[0].text\n",
    "            href = title_link[\"href\"]\n",
    "            title = title_link.text\n",
    "\n",
    "            # 최종 결과 리스트에 튜플 형태로 append()\n",
    "            results.append((title, href, summary, thumbnail))\n",
    "        except:\n",
    "            # 오류 발생시 다음 반복문을 수행\n",
    "            continue\n",
    "\n",
    "    # 현재 페이지가 마지막 페이지보다 작으면 \n",
    "    if start_page < end_page:\n",
    "        # 현재 페이지에 + 10증가 후 \n",
    "        start_page += 10\n",
    "        # 함수 스스로 재호출(재귀함수) 후 결과를 현재 results(결과를 리턴할 리스트)에 확장(extend) 시킴\n",
    "        results.extend(get_search_naver_blog(keyword, start_page, end_page))\n",
    "    \n",
    "    # 최종 결과 리스트 리턴\n",
    "    return results\n",
    "\n",
    "\n",
    "# 함수 호출\n",
    "results = get_search_naver_blog(\"파이썬강좌\", 1)\n",
    "\n",
    "# 결과 출력\n",
    "for r in results:\n",
    "    print(r)"
   ]
  }
 ],
 "metadata": {
  "kernelspec": {
   "display_name": "Python 3",
   "language": "python",
   "name": "python3"
  },
  "language_info": {
   "codemirror_mode": {
    "name": "ipython",
    "version": 3
   },
   "file_extension": ".py",
   "mimetype": "text/x-python",
   "name": "python",
   "nbconvert_exporter": "python",
   "pygments_lexer": "ipython3",
   "version": "3.6.3"
  }
 },
 "nbformat": 4,
 "nbformat_minor": 2
}
