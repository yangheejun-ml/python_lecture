{
 "cells": [
  {
   "cell_type": "markdown",
   "metadata": {},
   "source": [
    "# 나만의 단축키 만들기(사전학습)\n",
    "\n",
    "* 키보드가 동작하는 내용을 이해\n",
    "\n",
    "\n",
    "* 난이도 : ★☆☆☆☆☆☆☆☆☆\n",
    "* 필요라이브러리: pynput"
   ]
  },
  {
   "cell_type": "code",
   "execution_count": null,
   "metadata": {},
   "outputs": [],
   "source": [
    "'''\n",
    "윈도우에서 키보드가 동작하는 내용을 이해\n",
    "\n",
    "pip install pynput\n",
    "'''\n",
    "\n",
    "# 키보드 모니터링을 위한 라이브러리\n",
    "# 참조: https://pypi.org/project/pynput/\n",
    "from pynput.keyboard import Key, Listener, KeyCode\n",
    "\n",
    "# 키보드가 눌렸을때 처리할 함수\n",
    "def key_pressd(key):\n",
    "    print(\"Pressed {}\".format(key))\n",
    "\n",
    "# 키보드가 띄여졌을때 처리할 함수\n",
    "def key_released(key):\n",
    "    print(\"Released {}\".format(key))\n",
    "\n",
    "    # ESC 키가 눌리면 종료\n",
    "    if key == Key.esc:\n",
    "        return False\n",
    "\n",
    "# 키보드 메세지를 감지할 리스너 등록\n",
    "with Listener(on_press=key_pressd, on_release=key_released) as listener:\n",
    "    listener.join()\n"
   ]
  }
 ],
 "metadata": {
  "kernelspec": {
   "display_name": "Python 3",
   "language": "python",
   "name": "python3"
  },
  "language_info": {
   "codemirror_mode": {
    "name": "ipython",
    "version": 3
   },
   "file_extension": ".py",
   "mimetype": "text/x-python",
   "name": "python",
   "nbconvert_exporter": "python",
   "pygments_lexer": "ipython3",
   "version": "3.6.3"
  }
 },
 "nbformat": 4,
 "nbformat_minor": 2
}
