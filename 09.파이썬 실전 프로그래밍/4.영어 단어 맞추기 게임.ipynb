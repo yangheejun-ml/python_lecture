{
 "cells": [
  {
   "cell_type": "markdown",
   "metadata": {},
   "source": [
    "# 영어 단어 맞추기 게임 만들기\n",
    "\n",
    "* 뜻을 알려주고 해당 뜻의 영단어를 입력하는 게임\n",
    "* 난이도 : ★☆☆☆☆☆☆☆☆☆\n",
    "* 필요라이브러리 : random, os\n",
    "* 다루는 내용:\n",
    "    * 변수, 리스트, 랜덤셔플, 반복문, 조건문\n",
    "    * 딕셔너리 활용"
   ]
  },
  {
   "cell_type": "code",
   "execution_count": null,
   "metadata": {},
   "outputs": [],
   "source": [
    "# shuffle 함수를 사용하기 위해 random, 화면을 지우기 위해 os 라이브러리 사용\n",
    "import random\n",
    "import os\n",
    "\n",
    "# 영어 뜻: 단어 딕셔너리 생성\n",
    "words_dict = {\n",
    "    \"사자\": \"lion\",\n",
    "    \"호랑이\": \"tiger\",\n",
    "    \"고양이\": \"cat\",\n",
    "    \"사과\": \"apple\",\n",
    "    \"비행기\": \"airplane\",\n",
    "    \"동물원\": \"zoo\",\n",
    "    \"태양\": \"sun\",\n",
    "    \"함수\": \"function\"\n",
    "}\n",
    "\n",
    "# 리스트 변수 words_dict 에서 뜻만 빼서 저장\n",
    "words = []\n",
    "for word in words_dict:\n",
    "    words.append(word)\n",
    "\n",
    "# 뜻만 저장된 리스트를 뒤섞음\n",
    "random.shuffle(words)\n",
    "\n",
    "# 단어당 기회는 5회\n",
    "chance = 5\n",
    "\n",
    "# 화면 지움\n",
    "os.system(\"cls\")\n",
    "\n",
    "# 총 문제의 갯수만큼 반복\n",
    "for i in range(0, len(words_dict)):\n",
    "    # 뜻만 저장해놓은 리스트에서 한문제 꺼내옴(리스트 순서는 이미 shuffle 되어 섞여 있음)\n",
    "    question = words[i]\n",
    "    # 기회수 만큼 반복문\n",
    "    for j in range(0, chance):\n",
    "        # 사용자에게 뜻을 알려주며 입력 받음 str() 로 형변환\n",
    "        answer = str(input(\"{} 의 영어 단어를 입력하세요> \".format(question)))\n",
    "        \n",
    "        # 뜻에 해당하는 영단어를 딕셔너리에서 구해옴\n",
    "        english = words_dict[question]\n",
    "\n",
    "        # 입력한 단어와 영단어가 일치하면 정답\n",
    "        # 입력한 단어는 공백제거 후 소문자변환, 정답 단어도 소문자 변환(대소문자 구분 없음)\n",
    "        if answer.strip().lower() == english.lower():\n",
    "            print(\"정답 입니다!!\")\n",
    "            break\n",
    "        else:\n",
    "            print(\"틀렸습니다.\")\n",
    "\n",
    "    # for 루프를 빠져나온게 기회를 모두 소비해서인지 정답을 맞춰서인지 알 수 없으니\n",
    "    # 여기서 한번 더 정답을 비교해야함\n",
    "    if answer != english:\n",
    "        print(\"정답은 {} 입니다.\".format(english))\n",
    "    \n",
    "\n",
    "print(\"더이상 문제가 없습니다.\")"
   ]
  }
 ],
 "metadata": {
  "kernelspec": {
   "display_name": "Python 3",
   "language": "python",
   "name": "python3"
  },
  "language_info": {
   "codemirror_mode": {
    "name": "ipython",
    "version": 3
   },
   "file_extension": ".py",
   "mimetype": "text/x-python",
   "name": "python",
   "nbconvert_exporter": "python",
   "pygments_lexer": "ipython3",
   "version": "3.6.3"
  }
 },
 "nbformat": 4,
 "nbformat_minor": 2
}
