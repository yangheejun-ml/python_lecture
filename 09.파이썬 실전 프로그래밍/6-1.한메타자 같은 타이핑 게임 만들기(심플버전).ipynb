{
 "cells": [
  {
   "cell_type": "markdown",
   "metadata": {},
   "source": [
    "# 한메타자 같은 타이핑 게임 만들기 (심플버전)\n",
    "\n",
    "* 안내로 제시한 문구를 사용자가 똑같이 입력하여 사용자의 타자속도를 측정하는 게임\n",
    "\n",
    "* 난이도 : ★☆☆☆☆☆☆☆☆☆\n",
    "* 다루는 내용:\n",
    "    * 반복문, 조건문, 사용자 입력, 화면 지우고 대기하기\n",
    "    * 랜덤셔플, 리스트\n",
    "    * 시간 측정하기"
   ]
  },
  {
   "cell_type": "code",
   "execution_count": null,
   "metadata": {},
   "outputs": [],
   "source": [
    "import random # 리스트 셔플을 위해 \n",
    "import time # 시간 측정을 위해\n",
    "import os # 화면 지우고 대기하기 위해 사용\n",
    "\n",
    "\n",
    "# 출제 문장 리스트\n",
    "WORD_LIST = [\n",
    "    \"남박사의 파이썬 100% 실전 프로그래밍 강좌\",\n",
    "    \"파이썬에서 ord() 함수는 문자의 유니코드 값을 알아오는 함수로 10진수 값을 리턴 합니다.\",\n",
    "    \"chr(x)은 x에 유니코드 10진수 값을 입력하면 해당하는 문자를 리턴합니다.\",\n",
    "    \"UTF-8은 유니코드를 8비트 기반으로 저장하는 인코딩 방식입니다.\",\n",
    "    \"CP949는 윈도우에서 사용하기 위해 EUC-KR을 확장해서 만든 문자셋 입니다.\",\n",
    "    \"파이썬은 코드가 짧고 유연하여 가독성과 생산성이 좋은 프로그래밍 언어 입니다.\",\n",
    "    \"독도는 우리땅\"\n",
    "]\n",
    "\n",
    "# 리스트 셔플(순서를 섞음)\n",
    "random.shuffle(WORD_LIST)\n",
    "current_count = 0\n",
    "\n",
    "for q in WORD_LIST:\n",
    "    os.system(\"cls\")\n",
    "    current_count += 1\n",
    "\n",
    "    start_time = time.time()\n",
    "    user_input = str(input(q + '\\n')).strip()\n",
    "    end_time = time.time() - start_time\n",
    "\n",
    "    correct = 0\n",
    "    for i, c in enumerate(user_input):\n",
    "        if i >= len(q):\n",
    "            break\n",
    "\n",
    "        if c == q[i]:\n",
    "            correct += 1\n",
    "    \n",
    "    src_len = len(q)\n",
    "    c = correct / src_len * 100\n",
    "    e = (src_len - correct) / src_len * 100\n",
    "    speed = float(correct / end_time) * 60\n",
    "\n",
    "    print(\"속도: {:0.2f} 정확도: {:0.2f} % 오타율: {:0.2f} %\".format(speed, c, e))\n",
    "    os.system(\"pause\")\n",
    "\n",
    "        "
   ]
  }
 ],
 "metadata": {
  "kernelspec": {
   "display_name": "Python 3",
   "language": "python",
   "name": "python3"
  },
  "language_info": {
   "codemirror_mode": {
    "name": "ipython",
    "version": 3
   },
   "file_extension": ".py",
   "mimetype": "text/x-python",
   "name": "python",
   "nbconvert_exporter": "python",
   "pygments_lexer": "ipython3",
   "version": "3.6.3"
  }
 },
 "nbformat": 4,
 "nbformat_minor": 2
}
