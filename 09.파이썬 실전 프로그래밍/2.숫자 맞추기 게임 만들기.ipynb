{
 "cells": [
  {
   "cell_type": "markdown",
   "metadata": {},
   "source": [
    "# 숫자 맞추기 게임 만들기\n",
    "\n",
    "* 랜덤하게 생성한 숫자를 사용자가 입력하여 맞추는 게임\n",
    "* 난이도 : ★☆☆☆☆☆☆☆☆☆\n",
    "* 필요라이브러리 : random\n",
    "* 다루는 내용:\n",
    "    * 변수, 조건문, 반복문 활용\n",
    "    * 난수 생성\n",
    "    * 화면 출력\n",
    "    * 사용자 입력"
   ]
  },
  {
   "cell_type": "code",
   "execution_count": null,
   "metadata": {},
   "outputs": [],
   "source": [
    "# 랜덤 함수를 사용하기 위한 라이브러리\n",
    "import random\n",
    "\n",
    "count = 0       # 현재 입력된 횟수\n",
    "chance = 10     # 총 입력 기회\n",
    "\n",
    "# 1부터 99까지의 랜덤 숫자 생성\n",
    "number = random.randint(1, 99)\n",
    "\n",
    "# 화면 출력\n",
    "print(\"1부터 99까지의 숫자를 10번 안에 맞춰보세요.\")\n",
    "\n",
    "# 현재 입력 횟수가 총 기회수보다 작으면 True\n",
    "while count < chance:\n",
    "    # 입력 횟수 1 증가\n",
    "    count += 1\n",
    "\n",
    "    # 사용자에게 숫자 입력 받음 int로 형변환\n",
    "    user_input = int(input(\"몇 일까요?> \"))\n",
    "\n",
    "    # 사용자가 입력한 숫자와 랜덤생성한 숫자가 같으면 while 문 탈출 break\n",
    "    if user_input == number:\n",
    "        break\n",
    "    # 입력한 숫자보다 랜덤 숫자가 크면\n",
    "    elif user_input < number:\n",
    "        print(\"{} 보다 큰 숫자 입니다.\".format(user_input))\n",
    "    # 입력한 숫자보다 랜덤 숫자가 작으면\n",
    "    elif user_input > number:\n",
    "        print(\"{} 보다 낮은 숫자 입니다.\".format(user_input))\n",
    "\n",
    "# while 문을 빠져나온게 사용자가 입력한 숫자와 랜덤 숫자가 같으면 정답\n",
    "if user_input == number:\n",
    "    print(\"성공!! {} 이 맞습니다.\".format(number))\n",
    "else:\n",
    "    print(\"실패, 정답은 {} 입니다.\".format(number))\n"
   ]
  }
 ],
 "metadata": {
  "kernelspec": {
   "display_name": "Python 3",
   "language": "python",
   "name": "python3"
  },
  "language_info": {
   "codemirror_mode": {
    "name": "ipython",
    "version": 3
   },
   "file_extension": ".py",
   "mimetype": "text/x-python",
   "name": "python",
   "nbconvert_exporter": "python",
   "pygments_lexer": "ipython3",
   "version": "3.6.3"
  }
 },
 "nbformat": 4,
 "nbformat_minor": 2
}
