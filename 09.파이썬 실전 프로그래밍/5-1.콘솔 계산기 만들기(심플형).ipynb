{
 "cells": [
  {
   "cell_type": "markdown",
   "metadata": {},
   "source": [
    "# 콘솔 계산기 만들기\n",
    "\n",
    "* 콘솔창에 입력된 계산식을 계산해주는 계산기\n",
    "* 난이도 : ★☆☆☆☆☆☆☆☆☆\n",
    "* 필요라이브러리 : os\n",
    "* 다루는 내용:\n",
    "    * 반복문, 사용자 입력, 화면 지우고 대기하기\n",
    "    * eval 함수 사용"
   ]
  },
  {
   "cell_type": "code",
   "execution_count": null,
   "metadata": {},
   "outputs": [],
   "source": [
    "import os\n",
    "\n",
    "while True:\n",
    "    os.system(\"cls\")\n",
    "    s = input(\"계산식 입력> \")\n",
    "    print(\"결과: {}\".format(eval(s)))\n",
    "    os.system(\"pause\")"
   ]
  }
 ],
 "metadata": {
  "kernelspec": {
   "display_name": "Python 3",
   "language": "python",
   "name": "python3"
  },
  "language_info": {
   "codemirror_mode": {
    "name": "ipython",
    "version": 3
   },
   "file_extension": ".py",
   "mimetype": "text/x-python",
   "name": "python",
   "nbconvert_exporter": "python",
   "pygments_lexer": "ipython3",
   "version": "3.6.3"
  }
 },
 "nbformat": 4,
 "nbformat_minor": 2
}
