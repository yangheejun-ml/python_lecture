{
 "cells": [
  {
   "cell_type": "markdown",
   "metadata": {},
   "source": [
    "# 지능형 로또 번호 생성기 (심플버전)\n",
    "\n",
    "* 6개의 중복되지 않은 난수를 생성해주는 프로그램\n",
    "\n",
    "\n",
    "* 난이도 : ★☆☆☆☆☆☆☆☆☆\n",
    "* 다루는 내용:\n",
    "    * 반복문, 랜덤, 리스트"
   ]
  },
  {
   "cell_type": "code",
   "execution_count": null,
   "metadata": {},
   "outputs": [],
   "source": [
    "import random # 랜덤 숫자를 만들기 위해 사용\n",
    "\n",
    "# 최종 로또 번호를 저장할 리스트 변수\n",
    "lotto = []\n",
    "\n",
    "# 1~46 사이의 숫자 하나를 랜덤하게 생성\n",
    "rnd_num = random.randint(1, 46)\n",
    "\n",
    "# 6자리 만큼 반복\n",
    "for i in range(6):\n",
    "    # 랜덤 생성된 숫자가 lotto 에 존재한다면(중복된 숫자) 새로 생성\n",
    "    while rnd_num in lotto:\n",
    "        rnd_num = random.randint(1, 46)\n",
    "    \n",
    "    # while 문을 빠져나왔다는건 중복되지 않은 숫자라는 이야기므로 lotto 에 추가\n",
    "    lotto.append(rnd_num)\n",
    "\n",
    "# 최종 lotto 리스트를 정렬\n",
    "lotto.sort()\n",
    "\n",
    "# 최종 출력\n",
    "print(\"로또번호: {}\".format(lotto))"
   ]
  }
 ],
 "metadata": {
  "kernelspec": {
   "display_name": "Python 3",
   "language": "python",
   "name": "python3"
  },
  "language_info": {
   "codemirror_mode": {
    "name": "ipython",
    "version": 3
   },
   "file_extension": ".py",
   "mimetype": "text/x-python",
   "name": "python",
   "nbconvert_exporter": "python",
   "pygments_lexer": "ipython3",
   "version": "3.6.3"
  }
 },
 "nbformat": 4,
 "nbformat_minor": 2
}
