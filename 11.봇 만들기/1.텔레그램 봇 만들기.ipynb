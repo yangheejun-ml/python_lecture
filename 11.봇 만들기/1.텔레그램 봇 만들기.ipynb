{
 "cells": [
  {
   "cell_type": "markdown",
   "metadata": {},
   "source": [
    "# 텔레그램 봇 만들기\n",
    "\n",
    "* 난이도 : ★★★☆☆☆☆☆☆☆\n",
    "* 필요라이브러리: telepot, logging\n",
    "\n",
    "\n",
    "* 봇은 로봇의 준말로서 특정한 목적을 같고 알아서 동작하는 프로그램, 소프트웨어를 말합니다.\n",
    "* 텔레그램 봇은 텔레그램 채팅창을 활용하여 봇에게 어떤 말이나 명령을 입력하면 해당 말이나 명령어에 의한 동작을 수행하는 로직입니다.\n",
    "* 텔레그램 봇은 봇 서버 프로그램에 의해 동작을 수행하게 됩니다. 우리가 텔레그램 봇을 만든다는건 정확하게 텔레그램 봇 서버를 만든다고 보면 됩니다.\n",
    "* 텔레그램 봇은 텔레그램에서 제공하는 API를 이용해서 만들어도 되고 이미 공개되어 있는 외부 라이브러리를 사용해도 됩니다. 여기선 텔레그램 봇 라이브러리 중 telepot 을 이용할 예정입니다.\n",
    "> pip install telepot\n",
    "\n",
    "* 텔레폿 깃헙 사이트: https://github.com/nickoala/telepot"
   ]
  },
  {
   "cell_type": "markdown",
   "metadata": {},
   "source": [
    "### 텔레그램 봇 생성하기\n",
    "\n",
    "![bot_1.jpg](images/bot_1.jpg)\n",
    "\n",
    "\n",
    "* 텔레그램은 이미 설치가 되어있다는 전제로 진행합니다.\n",
    "* 텔레그램 검색창에 BotFather 를 검색해서 봇 생성 요청을 해야합니다.\n",
    "* BotFather 역시 텔레그램에서 동작하는 텔레그램 봇 입니다.\n",
    "* 텔레그램 봇의 모든 관리는 텔레그램사의 봇이 관리하게 되어있습니다."
   ]
  },
  {
   "cell_type": "markdown",
   "metadata": {},
   "source": [
    "![bot_2.jpg](images/bot_2.jpg)\n",
    "\n",
    "* BotFather 를 클릭하고 시작을 누르면 봇 파더가 처리할 수 있는 명령어들이 나옵니다.\n",
    "* 새로운 봇을 만드는 명령어는 /newbot 입니다."
   ]
  },
  {
   "cell_type": "markdown",
   "metadata": {},
   "source": [
    "![bot_3.jpg](images/bot_3.jpg)\n",
    "\n",
    "1. /newbot : 새로운 봇 생성\n",
    "2. /python_lect : 봇의 이름\n",
    "3. /python_lect_bot : 봇의 계정명 **반드시 'bot' 으로 끝나야 합니다.**\n",
    "4. 발행된 텔레그램 API 토큰을 복사해서 메모장이나 파이썬 코드에 저장 해놓습니다."
   ]
  },
  {
   "cell_type": "markdown",
   "metadata": {},
   "source": [
    "![bot_4.jpg](images/bot_4.jpg)\n",
    "\n",
    "* 이제 텔레그램에서 봇 이름을 검색하면 방금 내가 만든 봇이 검색됩니다."
   ]
  },
  {
   "cell_type": "markdown",
   "metadata": {},
   "source": [
    "![bot_5.jpg](images/bot_5.jpg)\n",
    "\n",
    "* 봇과의 대화를 시작하고\n",
    "* 이제 텔레그램 봇을 파이썬으로 작성합니다."
   ]
  },
  {
   "cell_type": "code",
   "execution_count": 7,
   "metadata": {},
   "outputs": [
    {
     "name": "stdout",
     "output_type": "stream",
     "text": [
      "765108376\n"
     ]
    }
   ],
   "source": [
    "# 텔레그램봇을 위한 라이브러리\n",
    "import telepot\n",
    "\n",
    "# 봇생성 후 받은 텔레그램 API 토큰\n",
    "TELEGRAM_TOKEN = \"646258683:AAG1Q5_pXsThCvi2J0de_J--plCJpGYDqj0\"\n",
    "\n",
    "def handler(msg):\n",
    "    '''텔레그램 봇의 메시지 이벤트가 발생되면 콜백호출 되는 함수\n",
    "    \n",
    "    Args:\n",
    "        msg (object) : 텔레그램봇의 데이터가 딕셔너리 형태로 넘어옵니다.\n",
    "        \n",
    "    Returns:\n",
    "        Nothing\n",
    "    '''\n",
    "    \n",
    "    # glance() 함수는 는 telepot 의 텔레그램 메세지객체 에서 헤드라인 정보만 추출해서 리턴하는 함수 입니다.\n",
    "    content_type, chat_type, chat_id, msg_date, msg_id = telepot.glance(msg, long=True)\n",
    "    \n",
    "    # 텍스트 타입인 경우\n",
    "    if content_type == \"text\":\n",
    "        # 받은 메세지에 [에코] 라는 문자열을 더해 다시 전송시킵니다.\n",
    "        bot.sendMessage(chat_id, \"[에코] {}\".format(msg[\"text\"]))\n",
    "\n",
    "        \n",
    "# telepot 의 객체를 생성하여 bot 변수에 저장합니다.\n",
    "bot = telepot.Bot(TELEGRAM_TOKEN)\n",
    "\n",
    "# bot 이 무한반복하며 메세지를 핸들링 합니다.\n",
    "# 인자값으로 핸들러 함수를 넘기고 run_forever=True 로 종료를 방지합니다.\n",
    "# 실제 프로그램을 종료 하려면 Ctrl + C 를 눌러 키보드 인터럽트를 발생시킵니다.\n",
    "bot.message_loop(handler, run_forever=True)"
   ]
  },
  {
   "cell_type": "markdown",
   "metadata": {},
   "source": [
    "## 프로그램 테스트\n",
    "\n",
    "![bot_6.jpg](images/bot_6.jpg)\n",
    "\n",
    "\n",
    "* 위 코드를 실행하고 텔레그램에 아무 문자나 입력해보면 봇이 그대로 응답을 해주는걸 확인 할 수 있습니다.\n",
    "* 위 코드가 약간 불편한게 실행시 콘솔창에는 아무것도 출력되지 않아 프로그램이 멈춘것 처럼 보입니다. 그래서 우리는 파이썬에서 제공하는 logging을 사용하여 프로그램 내부에서 어떤 로그가 찍히는지 눈으로 확인해보겠습니다."
   ]
  },
  {
   "cell_type": "code",
   "execution_count": null,
   "metadata": {},
   "outputs": [],
   "source": [
    "# 텔레그램봇을 위한 라이브러리\n",
    "import telepot\n",
    "\n",
    "# 로그 관련 라이브러리\n",
    "import logging\n",
    "\n",
    "# 로그 생성\n",
    "logging.basicConfig(level=logging.DEBUG)\n",
    "logger = logging.getLogger(__name__)\n",
    "\n",
    "# 봇생성 후 받은 텔레그램 API 토큰\n",
    "TELEGRAM_TOKEN = \"646258683:AAG1Q5_pXsThCvi2J0de_J--plCJpGYDqj0\"\n",
    "\n",
    "def handler(msg):\n",
    "    '''텔레그램 봇의 메시지 이벤트가 발생되면 콜백호출 되는 함수\n",
    "    \n",
    "    Args:\n",
    "        msg (object) : 텔레그램봇의 데이터가 딕셔너리 형태로 넘어옵니다.\n",
    "        \n",
    "    Returns:\n",
    "        Nothing\n",
    "    '''\n",
    "    \n",
    "    # glance() 함수는 는 telepot 의 텔레그램 메세지객체 에서 헤드라인 정보만 추출해서 리턴하는 함수 입니다.\n",
    "    content_type, chat_type, chat_id, msg_date, msg_id = telepot.glance(msg, long=True)\n",
    "    \n",
    "    # 텍스트 타입인 경우\n",
    "    if content_type == \"text\":\n",
    "        # 받은 메세지에 [에코] 라는 문자열을 더해 다시 전송시킵니다.\n",
    "        bot.sendMessage(chat_id, \"[에코] {}\".format(msg[\"text\"]))\n",
    "\n",
    "        \n",
    "# telepot 의 객체를 생성하여 bot 변수에 저장합니다.\n",
    "bot = telepot.Bot(TELEGRAM_TOKEN)\n",
    "\n",
    "# bot 이 무한반복하며 메세지를 핸들링 합니다.\n",
    "# 인자값으로 핸들러 함수를 넘기고 run_forever=True 로 종료를 방지합니다.\n",
    "# 실제 프로그램을 종료 하려면 Ctrl + C 를 눌러 키보드 인터럽트를 발생시킵니다.\n",
    "bot.message_loop(handler, run_forever=True)"
   ]
  },
  {
   "cell_type": "markdown",
   "metadata": {},
   "source": [
    "## 기본적인 텔레그램 봇 완성\n",
    "\n",
    "* 기본적인 텔레그램 봇의 기본틀은 완성했습니다.\n",
    "* 다음 강좌부터 텔레그램 봇의 기능을 확장 하여 다양한 기능을 추가해보겠습니다."
   ]
  }
 ],
 "metadata": {
  "kernelspec": {
   "display_name": "Python 3",
   "language": "python",
   "name": "python3"
  },
  "language_info": {
   "codemirror_mode": {
    "name": "ipython",
    "version": 3
   },
   "file_extension": ".py",
   "mimetype": "text/x-python",
   "name": "python",
   "nbconvert_exporter": "python",
   "pygments_lexer": "ipython3",
   "version": "3.6.3"
  }
 },
 "nbformat": 4,
 "nbformat_minor": 2
}
