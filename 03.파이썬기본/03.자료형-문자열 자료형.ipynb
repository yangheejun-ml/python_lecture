{
 "cells": [
  {
   "cell_type": "markdown",
   "metadata": {},
   "source": [
    "# 문자열 자료형\n",
    "\n",
    "문자열은 말그대로 글자의 모임이라고 보시면 됩니다."
   ]
  },
  {
   "cell_type": "markdown",
   "metadata": {},
   "source": [
    "# print 문\n",
    "\n",
    "print 문은 여러가지 형태의 자료형을 최종적으로 문자열로 변경하여 화면에 출력하는 내장함수(디버깅등 가장 많이 쓰임)"
   ]
  },
  {
   "cell_type": "code",
   "execution_count": 1,
   "metadata": {},
   "outputs": [
    {
     "name": "stdout",
     "output_type": "stream",
     "text": [
      "Python programing Python programing Python programing Python programing\n"
     ]
    }
   ],
   "source": [
    "a = 'Python programing' # 따옴표, 작은따옴표\n",
    "b = \"Python programing\" # 쌍따옴표, 큰따옴표\n",
    "c = '''Python programing''' # 따온표 3개\n",
    "d = \"\"\"Python programing\"\"\" # 쌍따옴표 3개\n",
    "\n",
    "print(a, b, c, d)"
   ]
  },
  {
   "cell_type": "markdown",
   "metadata": {},
   "source": [
    "파이썬에서 따옴표, 쌍따옴표를 따로 구분하는 특별한 이유는 없고 편의성에 의해 만들어진것도 보입니다.  \n",
    "예를 들어 문자열 안에 작은따옴표가 들어가거나 혹은 큰 따옴표를 표현해야하는 경우가 있는데 원래 통상적으로 C/C++ 같은 언어에서는 이스케이프 문자를 사용해서만 표현할 수 있습니다."
   ]
  },
  {
   "cell_type": "code",
   "execution_count": 3,
   "metadata": {},
   "outputs": [
    {
     "name": "stdout",
     "output_type": "stream",
     "text": [
      "I'm a boy \"m a boy\n"
     ]
    }
   ],
   "source": [
    "a = \"I\\'m a boy\"\n",
    "b = '\\\"m a boy'\n",
    "\n",
    "print(a, b)"
   ]
  },
  {
   "cell_type": "markdown",
   "metadata": {},
   "source": [
    "## 이스케이프 문자\n",
    "\n",
    "이스케이프 문자란 예를 들어  \n",
    "&#92;n 줄바꿈  \n",
    "&#92;t 탭  \n",
    "&#92;' 따옴표  \n",
    "&#92;\" 쌍따옴표  \n",
    "&#92;&#92; 역슬러쉬 표현  \n",
    "등이 있다"
   ]
  },
  {
   "cell_type": "code",
   "execution_count": 2,
   "metadata": {},
   "outputs": [
    {
     "name": "stdout",
     "output_type": "stream",
     "text": [
      "Python\n",
      "Program Python\tProgram Python'Program Python\"Program Python\\Program\n"
     ]
    }
   ],
   "source": [
    "a = 'Python\\nProgram'\n",
    "b = 'Python\\tProgram'\n",
    "c = 'Python\\'Program'\n",
    "d = \"Python\\\"Program\"\n",
    "e = 'Python\\\\Program'\n",
    "\n",
    "print(a, b, c, d, e)"
   ]
  },
  {
   "cell_type": "markdown",
   "metadata": {},
   "source": [
    "그러나 파이썬에서 문장안에 따옴표 혹은 쌍따옴표는 이스케이프 문자를 쓰지 않고도 따옴표와 쌍따옴표를 적절히 배분해서 쓸 수 있다."
   ]
  },
  {
   "cell_type": "code",
   "execution_count": null,
   "metadata": {},
   "outputs": [],
   "source": [
    "a = \"Python 'programing'\"\n",
    "b = 'Python \"programing\"'"
   ]
  },
  {
   "cell_type": "markdown",
   "metadata": {},
   "source": [
    "## 문자열 연산"
   ]
  },
  {
   "cell_type": "code",
   "execution_count": null,
   "metadata": {},
   "outputs": [],
   "source": [
    "a = \"Python\"\n",
    "b = \"Program\"\n",
    "c = a + b\n",
    "a = \"~\" * 50\n",
    "a = \" \" * 4 + \"*\" + \"\\n\" + \" \" * 3 + \"*\" * 3 + \"\\n\" + \" \" * 2 + \"*\" * 5 + \"\\n\" + \" \" * 1 + \"*\" * 8"
   ]
  },
  {
   "cell_type": "markdown",
   "metadata": {},
   "source": [
    "# 문자열 인덱싱\n",
    "\n",
    "인덱싱이란 문자열에서 원하는 위치의 값을 추출해오는것을 말합니다.  \n",
    "문자열[위치]"
   ]
  },
  {
   "cell_type": "code",
   "execution_count": null,
   "metadata": {},
   "outputs": [],
   "source": [
    "a = \"test python program\"\n",
    "a[0]\n",
    "a[2]\n",
    "a[-1]"
   ]
  },
  {
   "cell_type": "markdown",
   "metadata": {},
   "source": [
    "# 문자열 슬라이싱\n",
    "\n",
    "슬라이싱은 한글자가 아닌 여러글자를 추출해오는 것을 말합니다.  \n",
    "문자열[시작:끝]"
   ]
  },
  {
   "cell_type": "code",
   "execution_count": null,
   "metadata": {},
   "outputs": [],
   "source": [
    "a = \"test python program\"\n",
    "a[0:2]\n",
    "a[0:5]\n",
    "a[5:10]\n",
    "a[5:]\n",
    "a[:10]"
   ]
  },
  {
   "cell_type": "markdown",
   "metadata": {},
   "source": [
    "# 문자열 포맷팅\n",
    "\n",
    "문자열 포맷팅은 문자열에 어떤 다른 자료형의 값을 삽입하는 방법  "
   ]
  },
  {
   "cell_type": "markdown",
   "metadata": {},
   "source": [
    "### 포맷코드 C스타일\n",
    "\n",
    "%s 문자열(무조건 문자열로 자동 바꿈-만능?)  \n",
    "%c 문자  \n",
    "%d 숫자  \n",
    "%f 소수  \n",
    "%o 8진수  \n",
    "%x 16진수  \n",
    "%% %문자"
   ]
  },
  {
   "cell_type": "code",
   "execution_count": null,
   "metadata": {},
   "outputs": [],
   "source": [
    "old = 30\n",
    "a = \"나는 \" + old +  \"살 입니다.\" # 오류\n",
    "a = \"나는 %d 살 입니다.\" % old # 정상\n",
    "a = \"나는 {} 살 입니다.\".format(old)\n",
    "\n",
    "speed = 12.5\n",
    "a = \"나는 100미터 기록은 %f 초 입니다.\" % speed\n",
    "print(a)\n",
    "a = \"나는 100미터 기록은 %.2f 초 입니다.\" % speed\n",
    "print(a)\n",
    "a = \"나는 %d 살 이고 100미터 기록은 %.2f 초 입니다.\" % (old, speed)\n",
    "print(a)\n",
    "a = \"나는 {} 살 이고 100미터 기록은 {} 초 입니다.\".format(old, speed)\n",
    "print(a)\n",
    "\n",
    "a = \"100% 입니다.\"\n",
    "a = \"%d%% 입니다.\" % 100\n",
    "\n",
    "a = \"숫자 {} {} {}\".format(1, 2, 3)\n",
    "a = \"숫자 {0} {1} {2}\".format(1, 2, 3)\n",
    "a = \"숫자 {2} {1} {0}\".format(1, 2, 3)\n",
    "\n",
    "a = \"{0:=<30}\".format(\"안녕\") # 안녕============================\n",
    "a = \"{0:=>30}\".format(\"안녕\") # ============================안녕\n",
    "a = \"{0:=^30}\".format(\"안녕\") # ==============안녕==============\n",
    "\n",
    "# 물론 0 은 생략 가능\n",
    "a = \"{:=^30}\".format(\"안녕\")\n",
    "\n",
    "# 다르게도 표현가능\n",
    "a = \"{}{}\".format(\"안녕\", \"=\" * 30)\n",
    "\n",
    "# 파이썬 3.6 버전부터는 f 포매팅 기능 사용 가능\n",
    "name = \"홍길동\"\n",
    "country = \"대한민국\"\n",
    "age = 30\n",
    "f\"난 {country} 사람이고 이름은 {name} 이며 나이는 {age+3} 살 입니다..\"\n"
   ]
  }
 ],
 "metadata": {
  "kernelspec": {
   "display_name": "Python 3",
   "language": "python",
   "name": "python3"
  },
  "language_info": {
   "codemirror_mode": {
    "name": "ipython",
    "version": 3
   },
   "file_extension": ".py",
   "mimetype": "text/x-python",
   "name": "python",
   "nbconvert_exporter": "python",
   "pygments_lexer": "ipython3",
   "version": "3.6.3"
  }
 },
 "nbformat": 4,
 "nbformat_minor": 2
}
