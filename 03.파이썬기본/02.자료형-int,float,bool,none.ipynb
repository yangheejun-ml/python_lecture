{
 "cells": [
  {
   "cell_type": "markdown",
   "metadata": {},
   "source": [
    "# 자료형\n",
    "\n",
    "자료형이란 변수에 저장된 자료의 형태를 말하는데 변수는 저장된 값 혹은 정보에 의해 변수의 성질이 결정됩니다.  \n",
    "가장 기본적으로는 정수, 실수, 문자열, 바이트, 불린 같은게 있습니다.  \n",
    "type() 함수로 해당 변수의 자료형태가 어떤것인지 확인할 수 있습니다."
   ]
  },
  {
   "cell_type": "markdown",
   "metadata": {},
   "source": [
    "# 정수형 int()\n",
    "\n",
    "음수, 양수를 모두 포함하는 숫자를 정수라고 하며 파이썬에서는 int() 로 사용합니다."
   ]
  },
  {
   "cell_type": "code",
   "execution_count": null,
   "metadata": {},
   "outputs": [],
   "source": [
    "a = 1\n",
    "a = int(1)\n",
    "\n",
    "b = 1000\n",
    "b = int(1000)"
   ]
  },
  {
   "cell_type": "markdown",
   "metadata": {},
   "source": [
    "# 실수형 float()\n",
    "\n",
    "소수점을 포함하는 숫자"
   ]
  },
  {
   "cell_type": "code",
   "execution_count": null,
   "metadata": {},
   "outputs": [],
   "source": [
    "a = 3.14\n",
    "b = -15.1234"
   ]
  },
  {
   "cell_type": "markdown",
   "metadata": {},
   "source": [
    "## 수의 연산"
   ]
  },
  {
   "cell_type": "code",
   "execution_count": null,
   "metadata": {},
   "outputs": [],
   "source": [
    "a = 10\n",
    "b = 2\n",
    "a + b # 더하기\n",
    "a - b # 빼기\n",
    "a * b # 곱하기\n",
    "a / b # 나누기\n",
    "a**b # 제곱\n",
    "a%b # 나머지\n",
    "a//b # 나머지의 몫\n",
    "\n",
    "10 / 2 # 나누기는 무조건 실수를 리턴한다.\n",
    "10 // 2 # 이렇게 해야 정수가 리턴된다."
   ]
  },
  {
   "cell_type": "markdown",
   "metadata": {},
   "source": [
    "# 불린 bool()\n",
    "\n",
    "참 거짓, True 혹은 False 의 값을 갖는 자료형태입니다. True 와 False 의 첫글자는 대문자로 써야 됩니다.  \n",
    "나중에 나오는 함수의 리턴값에 사용되거나 조건문의 조건에서 사용되기도 합니다.  \n",
    "파이썬을 포함한 대부분의 프로그래밍에서 어떤 정수형 변수 값이 0 이면 False 를 의미하고 변수의 값이 없는 경우도 False로 인식됩니다.  "
   ]
  },
  {
   "cell_type": "code",
   "execution_count": null,
   "metadata": {},
   "outputs": [],
   "source": [
    "a = True\n",
    "b = False\n",
    "\n",
    "100 == 100\n",
    "\n",
    "2 > 1\n",
    "\n",
    "2 < 1\n",
    "\n",
    "bool(1)\n",
    "bool(0)\n",
    "bool('a')\n",
    "bool('')"
   ]
  },
  {
   "cell_type": "markdown",
   "metadata": {},
   "source": [
    "# None\n",
    "\n",
    "파이썬에서 none 이란 아무것도 없는 상태를 말하는데 숫자의 0 과 문자열의 빈문자열 '' 과는 또 다른 개념으로 값이 없음을 의미합니다.\n",
    "C/C++ 에서 Null, VB 에서 Nothing 과 비슷한 의미로 사용됩니다."
   ]
  }
 ],
 "metadata": {
  "kernelspec": {
   "display_name": "Python 3",
   "language": "python",
   "name": "python3"
  },
  "language_info": {
   "codemirror_mode": {
    "name": "ipython",
    "version": 3
   },
   "file_extension": ".py",
   "mimetype": "text/x-python",
   "name": "python",
   "nbconvert_exporter": "python",
   "pygments_lexer": "ipython3",
   "version": "3.6.3"
  }
 },
 "nbformat": 4,
 "nbformat_minor": 2
}
