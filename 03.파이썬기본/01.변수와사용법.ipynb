{
 "cells": [
  {
   "cell_type": "markdown",
   "metadata": {},
   "source": [
    "# 변수와 사용법\n",
    "\n",
    "변수는 쉽게 변하는 수, 변화하는 값의 개념으로 보면 되며 변수를 사용하는 이유는 프로그램이 동작하면서 어떤 상황 혹은 상태에 따라 변화하는 어떤 자료를 담아 두기 위해 사용하는 개념입니다.\n",
    "\n",
    "변수는 수학에서 x=3 인경우 x와 3은 같다의 개념과는 다르게 a = 10 처럼 왼쪽에는 변수명, 오른쪽에는 변화하는 값 **변수명 = 값** 의 형식으로 사용하며 특정 값을 저장하고 기억하기 위한 목적으로 사용합니다.\n",
    "변수에는 숫자형, 문자형, 불, 리스트, 딕셔너리, 집합, 함수 등 거의 대부분의 무언가를 할당 할 수 있습니다."
   ]
  },
  {
   "cell_type": "markdown",
   "metadata": {},
   "source": [
    "##### 변수명 생성규칙\n",
    "- 영문 문자와 숫자를 사용할 수 있다.\n",
    "- 대소문자를 구분한다.\n",
    "- 한글도 지원하지만 권장하진 않는다."
   ]
  },
  {
   "cell_type": "code",
   "execution_count": 1,
   "metadata": {},
   "outputs": [],
   "source": [
    "a = 10\n",
    "b = 10.1\n",
    "c = True\n",
    "d = [1, 2, 3]\n",
    "e = {\"name\": \"홍길동\"}\n",
    "f = \"test\"\n",
    "내돈 = 1000\n",
    "\n",
    "type(a), type(b), type(c), type(d), type(e), type(f), type(내돈)\n",
    "\n",
    "\n",
    "# 은행 잔고가 10만원이 있다고 치고\n",
    "money = 100000\n",
    "\n",
    "# 1만원 출금\n",
    "money = money - 10000\n",
    "\n",
    "# 5천원 출금\n",
    "money = money - 5000\n",
    "\n",
    "# 0.3% 의 연이자를 준다\n",
    "money = money + (money * 0.3) / 12\n",
    "\n",
    "money"
   ]
  },
  {
   "cell_type": "markdown",
   "metadata": {},
   "source": [
    "##### 변수명 사용 불가\n",
    "- 숫자부터 시작할 수 없다.\n",
    "- 특수문자를 사용할 수 없다.\n",
    "- 변수명에는 띄어쓰기를 할 수 없다.\n",
    "- 파이썬의 내장 키워드들은 사용할 수 없다.(if, for, while, or, and, True, False 등등)"
   ]
  },
  {
   "cell_type": "code",
   "execution_count": null,
   "metadata": {},
   "outputs": [],
   "source": [
    "a b c = 1\n",
    "1var = 1\n",
    "if = 10"
   ]
  },
  {
   "cell_type": "markdown",
   "metadata": {},
   "source": [
    "변수 여러개를 한 번에 만들수도 있다."
   ]
  },
  {
   "cell_type": "code",
   "execution_count": 1,
   "metadata": {},
   "outputs": [],
   "source": [
    "a, b, c = 1, 2, 3\n",
    "a = b = c = 100"
   ]
  }
 ],
 "metadata": {
  "kernelspec": {
   "display_name": "Python 3",
   "language": "python",
   "name": "python3"
  },
  "language_info": {
   "codemirror_mode": {
    "name": "ipython",
    "version": 3
   },
   "file_extension": ".py",
   "mimetype": "text/x-python",
   "name": "python",
   "nbconvert_exporter": "python",
   "pygments_lexer": "ipython3",
   "version": "3.6.3"
  }
 },
 "nbformat": 4,
 "nbformat_minor": 2
}
