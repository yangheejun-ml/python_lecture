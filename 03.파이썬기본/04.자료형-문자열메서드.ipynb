{
 "cells": [
  {
   "cell_type": "markdown",
   "metadata": {},
   "source": [
    "# 문자열 메서드\n",
    "\n",
    "메서드란 쉽게 기능이라고 보시면 됩니다. 보통 함수라고도 표현합니다. 문자열 메서드는 문자열에 관한 기능을 의미하는데 어떤 기능이 있는지 알아봅시다."
   ]
  },
  {
   "cell_type": "markdown",
   "metadata": {},
   "source": [
    "## 문자열 인덱스\n",
    "\n",
    "index 와 find는 문자열 인자값의 문자열을 찾아서 해당 인덱스를 리턴해주지만 index() 는 해당 문자열이 없면 오류 발생 합니다. 그러나 find() 는 해당 문자열이 없으면 -1 을 리턴합니다."
   ]
  },
  {
   "cell_type": "code",
   "execution_count": 11,
   "metadata": {},
   "outputs": [
    {
     "name": "stdout",
     "output_type": "stream",
     "text": [
      "11 19 11 19 -1 -1\n"
     ]
    }
   ],
   "source": [
    "str = \"   가나다라마바사 문자열 테스트 문자열 반복 abcdefg python test   \"\n",
    "\n",
    "a = str.index(\"문자열\")\n",
    "b = str.rindex(\"문자열\")\n",
    "c = str.find(\"문자열\")\n",
    "d = str.rfind(\"문자열\")\n",
    "\n",
    "\n",
    "e = str.find(\"한글\")\n",
    "f = str.rfind(\"한글\")\n",
    "\n",
    "print(a, b, c, d, e, f)"
   ]
  },
  {
   "cell_type": "code",
   "execution_count": null,
   "metadata": {},
   "outputs": [],
   "source": [
    "a = \"안녕 파이썬\"\n",
    "a.index(\"안녕\")\n",
    "a.find(\"안녕\")\n",
    "\n",
    "a.index(\"헬로\") # 오류\n",
    "a.find(\"오류\") # 문제없음"
   ]
  },
  {
   "cell_type": "markdown",
   "metadata": {},
   "source": [
    "## 문자 갯수 세기"
   ]
  },
  {
   "cell_type": "code",
   "execution_count": 8,
   "metadata": {},
   "outputs": [
    {
     "data": {
      "text/plain": [
       "0"
      ]
     },
     "execution_count": 8,
     "metadata": {},
     "output_type": "execute_result"
    }
   ],
   "source": [
    "str.count(\"문자열\")"
   ]
  },
  {
   "cell_type": "markdown",
   "metadata": {},
   "source": [
    "## 문자열 총 길이 알기"
   ]
  },
  {
   "cell_type": "code",
   "execution_count": 9,
   "metadata": {},
   "outputs": [
    {
     "data": {
      "text/plain": [
       "17"
      ]
     },
     "execution_count": 9,
     "metadata": {},
     "output_type": "execute_result"
    }
   ],
   "source": [
    "len(str)"
   ]
  },
  {
   "cell_type": "markdown",
   "metadata": {},
   "source": [
    "## 대소문자 변경"
   ]
  },
  {
   "cell_type": "code",
   "execution_count": 10,
   "metadata": {},
   "outputs": [
    {
     "name": "stdout",
     "output_type": "stream",
     "text": [
      "안* *녕* *하* *세* *요\n",
      "안* *녕* *하* *세* *요\n"
     ]
    }
   ],
   "source": [
    "print(str.upper())\n",
    "print(str.lower())"
   ]
  },
  {
   "cell_type": "markdown",
   "metadata": {},
   "source": [
    "## 문자열 공백 지우기"
   ]
  },
  {
   "cell_type": "code",
   "execution_count": 12,
   "metadata": {},
   "outputs": [
    {
     "name": "stdout",
     "output_type": "stream",
     "text": [
      "가나다라마바사 문자열 테스트 문자열 반복 abcdefg python test\n",
      "   가나다라마바사 문자열 테스트 문자열 반복 abcdefg python test\n",
      "가나다라마바사 문자열 테스트 문자열 반복 abcdefg python test   \n"
     ]
    }
   ],
   "source": [
    "print(str.strip())\n",
    "print(str.rstrip())\n",
    "print(str.lstrip())"
   ]
  },
  {
   "cell_type": "markdown",
   "metadata": {},
   "source": [
    "## 문자열 치환"
   ]
  },
  {
   "cell_type": "code",
   "execution_count": null,
   "metadata": {},
   "outputs": [],
   "source": [
    "str = str.replace(\"문자열\", \"헬로\")\n",
    "print(str)"
   ]
  },
  {
   "cell_type": "markdown",
   "metadata": {},
   "source": [
    "## 문자열 삽입\n"
   ]
  },
  {
   "cell_type": "code",
   "execution_count": 3,
   "metadata": {},
   "outputs": [
    {
     "name": "stdout",
     "output_type": "stream",
     "text": [
      "안-녕-하-세-요\n",
      "안* *녕* *하* *세* *요\n"
     ]
    }
   ],
   "source": [
    "str = \"-\".join(\"안녕하세요\")\n",
    "print(str)\n",
    "str = \"*\".join(\"안 녕 하 세 요\")\n",
    "print(str)"
   ]
  },
  {
   "cell_type": "markdown",
   "metadata": {},
   "source": [
    "## 문자열 나누기"
   ]
  },
  {
   "cell_type": "code",
   "execution_count": null,
   "metadata": {},
   "outputs": [],
   "source": [
    "list = str.split(\"-\")\n",
    "print(list)"
   ]
  },
  {
   "cell_type": "markdown",
   "metadata": {},
   "source": [
    "## 문자열 종류 판단\n",
    "\n",
    "* isalpha() : 알파벳인지 판단\n",
    "* islower() : 소문자인지 판단\n",
    "* isupper() : 대문자인지 판단\n",
    "\n",
    "* isdecimal() : 십진수인지 판단\n",
    "* isdigit() : 아라비아 숫자인지 판단\n",
    "* isnumeric() : 수인지 판단"
   ]
  },
  {
   "cell_type": "code",
   "execution_count": 32,
   "metadata": {},
   "outputs": [
    {
     "name": "stdout",
     "output_type": "stream",
     "text": [
      "abcd isalpha() True\n",
      "abcd islower() True\n",
      "abcd isupper() False\n",
      "\n",
      "\n",
      "1234 isdecimal() True\n",
      "1234 isdigit() True\n",
      "1234 isnumeric() True\n",
      "\n",
      "\n",
      "⓪③⑧ isdecimal() False\n",
      "⓪③⑧ isdigit() True\n",
      "⓪③⑧ isnumeric() True\n",
      "\n",
      "\n",
      "³ isdecimal() False\n",
      "³ isdigit() True\n",
      "³ isnumeric() True\n",
      "\n",
      "\n",
      "½ isdecimal() False\n",
      "½ isdigit() False\n",
      "½ isnumeric() True\n",
      "\n",
      "\n",
      "ⅲ isdecimal() False\n",
      "ⅲ isdigit() False\n",
      "ⅲ isnumeric() True\n"
     ]
    }
   ],
   "source": [
    "print(\"abcd isalpha()\", \"abcd\".isalpha())\n",
    "print(\"abcd islower()\", \"abcd\".islower())\n",
    "print(\"abcd isupper()\", \"abcd\".isupper())\n",
    "print(\"\\n\")\n",
    "\n",
    "print(\"1234 isdecimal()\", \"1234\".isdecimal())\n",
    "print(\"1234 isdigit()\", \"1234\".isdigit())\n",
    "print(\"1234 isnumeric()\", \"1234\".isnumeric())\n",
    "print(\"\\n\")\n",
    "\n",
    "print(\"⓪③⑧ isdecimal()\", \"⓪③⑧\".isdecimal()) # ㅇ 한자\n",
    "print(\"⓪③⑧ isdigit()\",\"⓪③⑧\".isdigit())\n",
    "print(\"⓪③⑧ isnumeric()\", \"⓪③⑧\".isnumeric())\n",
    "print(\"\\n\")\n",
    "\n",
    "print(\"³ isdecimal()\", \"³\".isdecimal()) # ㅊ 한자\n",
    "print(\"³ isdigit()\",\"³\".isdigit())\n",
    "print(\"³ isnumeric()\", \"³\".isnumeric())\n",
    "print(\"\\n\")\n",
    "\n",
    "print(\"½ isdecimal()\", \"½\".isdecimal()) # ㅊ 한자\n",
    "print(\"½ isdigit()\", \"½\".isdigit())\n",
    "print(\"½ isnumeric()\", \"½\".isnumeric())\n",
    "print(\"\\n\")\n",
    "\n",
    "print(\"ⅲ isdecimal()\", \"ⅲ\".isdecimal()) # ㅈ 한자\n",
    "print(\"ⅲ isdigit()\", \"ⅲ\".isdigit())\n",
    "print(\"ⅲ isnumeric()\", \"ⅲ\".isnumeric())\n"
   ]
  },
  {
   "cell_type": "markdown",
   "metadata": {},
   "source": [
    "## 문자열 encode(), decode()\n",
    "\n",
    "문자열을 encode() 하면 bytes()\n",
    "bytes 를 decode() 하면 str() "
   ]
  },
  {
   "cell_type": "code",
   "execution_count": null,
   "metadata": {},
   "outputs": [],
   "source": [
    "str = \"abcd\"\n",
    "e_str = str.encode()\n",
    "d_str = e_str.decode()\n",
    "\n",
    "print(e_str)\n",
    "print(d_str)"
   ]
  },
  {
   "cell_type": "markdown",
   "metadata": {},
   "source": [
    "## 문자열 그외 메서드 찾아보기"
   ]
  },
  {
   "cell_type": "code",
   "execution_count": null,
   "metadata": {},
   "outputs": [],
   "source": [
    "dir(str)"
   ]
  }
 ],
 "metadata": {
  "kernelspec": {
   "display_name": "Python 3",
   "language": "python",
   "name": "python3"
  },
  "language_info": {
   "codemirror_mode": {
    "name": "ipython",
    "version": 3
   },
   "file_extension": ".py",
   "mimetype": "text/x-python",
   "name": "python",
   "nbconvert_exporter": "python",
   "pygments_lexer": "ipython3",
   "version": "3.6.3"
  }
 },
 "nbformat": 4,
 "nbformat_minor": 2
}
