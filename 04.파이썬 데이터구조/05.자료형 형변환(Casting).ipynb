{
 "cells": [
  {
   "cell_type": "markdown",
   "metadata": {},
   "source": [
    "# 파이썬 자료형 변환 (casting)\n",
    "\n",
    "- 캐스팅 다른 자료형의 형태로 강제로 변환하는것을 말한다."
   ]
  },
  {
   "cell_type": "code",
   "execution_count": null,
   "metadata": {},
   "outputs": [],
   "source": [
    "a = 3\n",
    "b = 3.0\n",
    "c = \"10\"\n",
    "\n",
    "int(b)\n",
    "float(a)\n",
    "int(c)\n",
    "float(c)\n",
    "list(c)\n",
    "tuple(c)\n",
    "\n",
    "str(a)\n",
    "str(b)\n",
    "\n",
    "a = \"10\"\n",
    "b = \"30\"\n",
    "\n",
    "a * b # error\n",
    "int(a) * int(b)\n",
    "\n",
    "# 흔하게 많이 하는 실수 \n",
    "# 나누기 후의 c 값은 float 형태인데 이를 int 형태라고 착각하는 경우가 있습니다.\n",
    "# 실제 어떤 프로젝트에서 자료형이 중요한 db 작업 같은걸 할때 이게 문제가 되는 경우가 종종 있습니다.\n",
    "a = 10\n",
    "b = 2\n",
    "c = a / b \n",
    "\n",
    "a = [1, 2, 3, 3, 3, 4, 4, 5, 5]\n",
    "a = list(set(a))\n",
    "print(a)"
   ]
  },
  {
   "cell_type": "markdown",
   "metadata": {},
   "source": [
    "이 외에도 캐스팅을 하는 다양한 상황들이 존재하나 나머지는 실습을 진행하면서 나오는데로 알아가도록 합니다."
   ]
  }
 ],
 "metadata": {
  "kernelspec": {
   "display_name": "Python 3",
   "language": "python",
   "name": "python3"
  },
  "language_info": {
   "codemirror_mode": {
    "name": "ipython",
    "version": 3
   },
   "file_extension": ".py",
   "mimetype": "text/x-python",
   "name": "python",
   "nbconvert_exporter": "python",
   "pygments_lexer": "ipython3",
   "version": "3.6.3"
  }
 },
 "nbformat": 4,
 "nbformat_minor": 2
}
