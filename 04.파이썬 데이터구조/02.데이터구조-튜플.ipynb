{
 "cells": [
  {
   "cell_type": "markdown",
   "metadata": {},
   "source": [
    "# 튜플 tuple()\n",
    "\n",
    "리스트와 비슷한 자료형이지만 리스트와는 다르게 독특한 특징을 지니고 있는 데이터구조 입니다.  \n",
    "소괄호로 표현"
   ]
  },
  {
   "cell_type": "code",
   "execution_count": 1,
   "metadata": {},
   "outputs": [],
   "source": [
    "# 리스트\n",
    "a = list() \n",
    "a = []\n",
    "a = [1, 2, 3, 4, 5]\n",
    "\n",
    "# 튜플\n",
    "b = tuple()\n",
    "b = () #소괄호\n",
    "b = (1, 2, 3, 4, 5)\n",
    "\n",
    "# 주의점 요소가 1개인경우 , 를 찍어줘야 튜플로 인식한다.\n",
    "# (1) 인 경우 그냥 우선연산자로 인식\n",
    "a = (1, )\n",
    "\n",
    "# 괄호 생략 가능\n",
    "a = 1, \n",
    "a = 1, 2"
   ]
  },
  {
   "cell_type": "markdown",
   "metadata": {},
   "source": [
    "### 독특한 특징\n",
    "\n",
    "튜플은 값을 변경하거나 삭제할 수 없습니다.  "
   ]
  },
  {
   "cell_type": "code",
   "execution_count": null,
   "metadata": {},
   "outputs": [],
   "source": [
    "a = [1, 2, 3]   \n",
    "a[0] = 4  \n",
    "print(a)  \n",
    "  \n",
    "b = (1, 2, 3)  \n",
    "b[0] = 4 # 에러  \n",
    "del b[0] # 에러  "
   ]
  },
  {
   "cell_type": "markdown",
   "metadata": {},
   "source": [
    "### 튜플 패킹, 언패킹\n",
    "\n",
    "튜플에 값을 넣는것을 패킹 반대로 꺼내오는것을 언패킹이라고 합니다.  "
   ]
  },
  {
   "cell_type": "code",
   "execution_count": null,
   "metadata": {},
   "outputs": [],
   "source": [
    "a = 1, 2, 3 # 패킹  \n",
    "a1, a2, a3 = a # 언패킹  "
   ]
  },
  {
   "cell_type": "markdown",
   "metadata": {},
   "source": [
    "### 튜플 스와핑"
   ]
  },
  {
   "cell_type": "code",
   "execution_count": null,
   "metadata": {},
   "outputs": [],
   "source": [
    "a = 100  \n",
    "b = 200  \n",
    "a, b = b, a  "
   ]
  },
  {
   "cell_type": "markdown",
   "metadata": {},
   "source": [
    "### 튜플의 인덱싱, 슬라이싱은 리스트와 동일"
   ]
  }
 ],
 "metadata": {
  "kernelspec": {
   "display_name": "Python 3",
   "language": "python",
   "name": "python3"
  },
  "language_info": {
   "codemirror_mode": {
    "name": "ipython",
    "version": 3
   },
   "file_extension": ".py",
   "mimetype": "text/x-python",
   "name": "python",
   "nbconvert_exporter": "python",
   "pygments_lexer": "ipython3",
   "version": "3.6.3"
  }
 },
 "nbformat": 4,
 "nbformat_minor": 2
}
