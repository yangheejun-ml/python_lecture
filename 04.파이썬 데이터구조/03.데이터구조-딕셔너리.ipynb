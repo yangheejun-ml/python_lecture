{
 "cells": [
  {
   "cell_type": "markdown",
   "metadata": {},
   "source": [
    "# 딕셔너리 dict()\n",
    "\n",
    "- 중괄호로 표현\n",
    "- \"키\": \"값\" 을 한쌍으로 구성되어있는 자료구조\n",
    "- \"키\" 값은 중복될 수 없으며 변하지 않는 값을 사용\n",
    "- 리트스나 튜플과 다르게 순서정보가 없음"
   ]
  },
  {
   "cell_type": "code",
   "execution_count": 1,
   "metadata": {},
   "outputs": [],
   "source": [
    "a = dict()\n",
    "a = {} # 중괄호\n",
    "a = {\"python\": \"파이썬\"}\n",
    "a = {\"numbers\": [1, 2, 3, 4, 5]}"
   ]
  },
  {
   "cell_type": "markdown",
   "metadata": {},
   "source": [
    "### 딕셔너리 추가 / 삭제하기"
   ]
  },
  {
   "cell_type": "code",
   "execution_count": null,
   "metadata": {},
   "outputs": [],
   "source": [
    "# 추가\n",
    "a = {} # 생성만 해놓고\n",
    "a = dict()\n",
    "\n",
    "a[\"python\"] = \"파이썬\"\n",
    "a[\"numbers\"] = [1, 2, 3, 4, 5]\n",
    "\n",
    "# 삭제\n",
    "del a[\"python\"]\n",
    "\n",
    "# 리스트처럼 pop 가능\n",
    "# 단, pop() 호출시 값을 반환하는 점이 del 과 다름\n",
    "a.pop(\"numbers\")\n",
    "\n",
    "# 모두 삭제하기\n",
    "a.clear()"
   ]
  },
  {
   "cell_type": "markdown",
   "metadata": {},
   "source": [
    "### 딕셔너리 결합"
   ]
  },
  {
   "cell_type": "code",
   "execution_count": 3,
   "metadata": {},
   "outputs": [
    {
     "name": "stdout",
     "output_type": "stream",
     "text": [
      "{'a': 1234, 'b': '4567', 'c': 'zzzz', 'd': 'qqqq'}\n"
     ]
    }
   ],
   "source": [
    "a = {\"a\": 1234, \"b\": \"4567\"}\n",
    "b = {\"c\": \"zzzz\", \"d\": \"qqqq\"}\n",
    "a.update(b)\n",
    "print(a)"
   ]
  },
  {
   "cell_type": "markdown",
   "metadata": {},
   "source": [
    "### 딕셔너리 메서드"
   ]
  },
  {
   "cell_type": "code",
   "execution_count": 9,
   "metadata": {},
   "outputs": [
    {
     "name": "stdout",
     "output_type": "stream",
     "text": [
      "dict_keys(['홍길동', '가제트', '아즈라엘'])\n",
      "dict_values(['도적', '형사', '고양이'])\n",
      "dict_items([('홍길동', '도적'), ('가제트', '형사'), ('아즈라엘', '고양이')])\n",
      "도적\n",
      "도적\n",
      "None\n"
     ]
    }
   ],
   "source": [
    "a = {\"홍길동\": \"도적\", \"가제트\": \"형사\", \"아즈라엘\": \"고양이\"}\n",
    "print(a.keys())\n",
    "print(a.values())\n",
    "print(a.items())\n",
    "\n",
    "print(a[\"홍길동\"]) # 없으면 오류\n",
    "print(a.get(\"홍길동\")) # 없으면 None 리턴"
   ]
  },
  {
   "cell_type": "markdown",
   "metadata": {},
   "source": [
    "### 요소 찾기\n"
   ]
  },
  {
   "cell_type": "code",
   "execution_count": 6,
   "metadata": {},
   "outputs": [
    {
     "data": {
      "text/plain": [
       "True"
      ]
     },
     "execution_count": 6,
     "metadata": {},
     "output_type": "execute_result"
    }
   ],
   "source": [
    "a = {\"홍길동\": \"도적\", \"가제트\": \"형사\", \"아즈라엘\": \"고양이\"}\n",
    "\"가제트\" in a"
   ]
  }
 ],
 "metadata": {
  "kernelspec": {
   "display_name": "Python 3",
   "language": "python",
   "name": "python3"
  },
  "language_info": {
   "codemirror_mode": {
    "name": "ipython",
    "version": 3
   },
   "file_extension": ".py",
   "mimetype": "text/x-python",
   "name": "python",
   "nbconvert_exporter": "python",
   "pygments_lexer": "ipython3",
   "version": "3.6.3"
  }
 },
 "nbformat": 4,
 "nbformat_minor": 2
}
