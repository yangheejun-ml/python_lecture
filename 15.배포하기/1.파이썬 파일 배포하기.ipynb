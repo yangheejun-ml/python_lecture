{
 "cells": [
  {
   "cell_type": "markdown",
   "metadata": {},
   "source": [
    "# 파이썬 실행환경\n",
    "\n",
    "* 기본적으로 py 파일을 실행하려면 python 이 설치되어있어야 합니다.\n",
    "* 파이썬이 설치되어있다고 해도 버전이 맞아야 하고 사용된 모든 라이브러리들이 설치되어있어야 합니다."
   ]
  },
  {
   "cell_type": "markdown",
   "metadata": {},
   "source": [
    "## 배포가능 파일로 변경하기\n",
    "* 파이썬을 따로 설치 하지 않고 파이썬 프로그램을 실행하려면 각 운영체제에 맞는 실행가능한 파일로 컴파일이 되어야 합니다.\n",
    "* py 파일을 실행가능한 형태로 만드는데는 몇몇가지 라이브러리가 있습니다.\n",
    "* 여기서는 pyinstaller 라는 라이브러리를 사용하도록 하겠습니다.\n",
    "> pip install pyinstaller\n",
    "\n",
    "* pyinstaller 공식 사이트: https://www.pyinstaller.org/"
   ]
  },
  {
   "cell_type": "markdown",
   "metadata": {},
   "source": [
    "## pyinstaller 사용 예제\n",
    "\n",
    "\n",
    "![ubuntu_1.jpg](images/ubuntu_1.jpg)\n",
    "\n",
    "* pyinstaller 로 만든 우분투에서 실행가능한 video_thumbnail 파일\n",
    "\n",
    "![window_1.jpg](images/window_1.jpg)\n",
    "\n",
    "* pyinstaller 로 만든 윈도우에서 실행가능한 video_thumbnail 파일"
   ]
  },
  {
   "cell_type": "markdown",
   "metadata": {},
   "source": [
    "## pyinstaller 사용방법\n",
    "\n",
    "> pyinstaller 파이썬파일.py  \n",
    "\n",
    "* pyinstaller 파이썬파일명을 입력하면 컴파일이 진행되고 해당 폴더에 **.spec 파일, build 폴더, dist 폴더, __pycache__폴더** 가 생성됩니다.\n",
    "* pyinstaller 공식사이트의 문서를 참고해보면 pyinstaller 에는 많은 옵션들이 있습니다.\n",
    "\n",
    "* .spec 파일은 인스톨용 스크립트 파일입니다. 자동으로 생성되기도 하지만 실제 여러패키지가 포함되었거나 복잡한 구조의 파이썬 파일일경우 직접 작성을 해야하는 경우도 있습니다.\n",
    "* &#95;&#95;pycache&#95;&#95; 폴더는 파이썬 컴파일 캐시 폴더입니다. py 파일이 파이썬에 의해 바이트컴파일 된 .pyc 파일이 이곳에 생성됩니다.\n",
    "* build 폴더는 컴파일 과정에서 생기는 임시 폴더 입니다.\n",
    "* dist 폴더는 최종 컴파일된 파일들이 생성되는 폴더 입니다."
   ]
  },
  {
   "cell_type": "markdown",
   "metadata": {},
   "source": [
    "## pyinstaller 옵션 <a href='https://pyinstaller.readthedocs.io/en/latest/usage.html#options' target='_blank'>[공식문서 링크]</a>\n",
    "\n",
    "* **-w, --windowed, --noconsole : 프로그램 실행시 옵션창이 나타나지 않게 합니다.**\n",
    "* **-F, --onefile : 실행파일 하나에 실행시 필요한 여러 모듈파일들을 하나로 합쳐서 컴파일 합니다.**\n",
    "* **-p, --paths : -p [대상폴더] 로 사용하여 컴파일시 실행에 필요한 모듈들을 [대상폴더] 에서 찾게 합니다.**\n",
    "* -a, --ascii : 아스키모드로 컴파일 합니다.(한글 사용시 오류)\n",
    "* -X, --upx : UPX 가 설치되어있다면 실행파일을 압축합니다.\n",
    "* -o, --out : -o [대상폴더] 로 사용하여 [대상폴더]에 파일을 생성합니다. (dist 대체)\n",
    "* -i, --icon : --icon=icon.ico 로 사용하며 아이콘 파일을 선택하여 실행파일 아이콘을 변경합니다.\n",
    "* **--hidden-import : --hidden-import=numpy.core.multiarray 처럼 사용하며 컴파일된 실행파일을 실행했는데 모듈이 없다는 오류가 나면 이 옵션을 줘서 강제로 임포트 시킬 수 있습니다.**\n",
    "\n",
    "\n",
    "* 위 옵션에서 진한 글자는 자주 사용되거나 중요한 옵션이니 기억하고 계시는게 좋습니다."
   ]
  }
 ],
 "metadata": {
  "kernelspec": {
   "display_name": "Python 3",
   "language": "python",
   "name": "python3"
  },
  "language_info": {
   "codemirror_mode": {
    "name": "ipython",
    "version": 3
   },
   "file_extension": ".py",
   "mimetype": "text/x-python",
   "name": "python",
   "nbconvert_exporter": "python",
   "pygments_lexer": "ipython3",
   "version": "3.6.3"
  }
 },
 "nbformat": 4,
 "nbformat_minor": 2
}
