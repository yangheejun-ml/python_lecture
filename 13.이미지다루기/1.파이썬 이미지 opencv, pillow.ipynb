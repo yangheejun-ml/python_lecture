{
 "cells": [
  {
   "cell_type": "markdown",
   "metadata": {},
   "source": [
    "# 파이썬 이미지 처리\n",
    "\n",
    "* 프로그래밍을 하다보면 이미지를 불러오거나 연산처리를 해야하는 경우가 생깁니다.\n",
    "* 딥러닝이나 데이터 사이언스를 하다보면 상당히 많은 대용량 이미지들을 처리하는 경우도 생깁니다.\n",
    "* 비전 프로그래밍을 하려면 이미지를 다방면으로 분석 및 연산할 수 있는 스킬이 필요합니다.\n",
    "* 파이썬으로 이런 다양한 환경과 조건에서 어떻게 이미지를 다루는지 대표적인 몇몇가지 라이브러리를 알아보도록 하겠습니다."
   ]
  },
  {
   "cell_type": "markdown",
   "metadata": {},
   "source": [
    "# pillow\n",
    "\n",
    "* pillow 는 PIL(Python Image Libray) 를 계승한 라이브러리 입니다.\n",
    "* 여러 이미지 파일 포맷을 지원합니다.\n",
    "* 썸네일 생성, transform, 효과, 포맷변화 등등등 다양한 이미지 처리 기능을 제공합니다.\n",
    "* 설치 방법\n",
    "> pip install Pillow\n",
    "* pillow 공식 사이트 https://pillow.readthedocs.io/en/stable/"
   ]
  },
  {
   "cell_type": "code",
   "execution_count": 6,
   "metadata": {},
   "outputs": [
    {
     "name": "stdout",
     "output_type": "stream",
     "text": [
      "(960, 640)\n",
      "(960, 640)\n"
     ]
    }
   ],
   "source": [
    "# pillow 는 여러가지 부분모듈로 구성된 패키지 형태입니다.\n",
    "from PIL import Image\n",
    "import requests\n",
    "\n",
    "def test_local_image():\n",
    "    # 로컬 파일의 sample.jpg를 읽어 img 변수에 저장\n",
    "    img = Image.open(\"sample.jpg\")\n",
    "\n",
    "    # 이미지 사이즈를 출력합니다.\n",
    "    print(img.size)\n",
    "    \n",
    "    # 이미지를 45도 회전시켜 보여줍니다.\n",
    "    # 이때 show() 함수는 운영체제에 설정된 기본 이미지 뷰어로 보여주게 됩니다.\n",
    "    img.rotate(45).show()\n",
    "    \n",
    "    # 원본 jpg 포맷을 gif 포맷으로 저장합니다.\n",
    "    img.save(\"sample.gif\")\n",
    "    \n",
    "def test_web_image():\n",
    "    # 웹에 있는 이미지 경로\n",
    "    url = \"https://cdn.pixabay.com/photo/2019/04/24/12/35/ivy-4152057_960_720.jpg\"\n",
    "    \n",
    "    # pillow 객체로 웹에 있는 이미지를 requests 객체를 통해 불러옵니다.\n",
    "    img = Image.open(requests.get(url, stream=True).raw)\n",
    "    \n",
    "    # 이미지 사이즈를 출력합니다.\n",
    "    print(img.size)\n",
    "    \n",
    "    # 이미지를 운영체제 기본 뷰어로 보여줍니다.\n",
    "    img.show()\n",
    "    \n",
    "    # 웹에 있던 jpg 포맷을 png 포맷으로 저장하게 됩니다.\n",
    "    img.save(\"sample.png\")\n",
    "    \n",
    "    \n",
    "test_web_image()\n",
    "test_local_image()"
   ]
  },
  {
   "cell_type": "markdown",
   "metadata": {},
   "source": [
    "# OpenCV (Open Source Computer Vision)\n",
    "\n",
    "\n",
    "* opencv 는 컴퓨터 비전 프로그래밍을 목적으로 개발된 라이브러리 입니다.\n",
    "* c++ 로 개발된 opencv 를 파이썬에서 사용 가능하도록 wrapping 한거라 속도가 빠릅니다.\n",
    "* 크로스플랫폼을 지원하여 Windows, Linux, MacOS, iOS, Android 등을 지원합니다.\n",
    "* 인텔이 개발한 라이브러리라 인텔 CPU의 IPP(Intel Perfomance Primitives)를 지원하여 속도 향상을 볼 수 있습니다.\n",
    "* 영상처리가 들어가는 프로그램이라면 거의 필수적으로 사용됩니다.\n",
    "* 이미지에 관한 빅데이터 분석, 이미지에 대한 딥러닝에선 필수적인 요소라고 볼 수 있습니다.\n",
    "* 상업적 라이브러리에 사용이 가능합니다.\n",
    "* opencv 이미지는 ndarray(Numpy 배열) 타입 입니다.\n",
    "* 그래서 opencv 를 사용할때는 numpy 라이브러리 역시 미리 설치해놓는게 좋습니다.\n",
    "* 라이브러리 설치방법\n",
    "> pip install opencv-python   \n",
    "> pip install numpy  \n",
    "\n",
    "\n",
    "* OpenCV 공식사이트: https://opencv.org/\n",
    "* 파이썬 OpenCV 공식사이트: https://pypi.org/project/opencv-python/\n",
    "* 파이썬 OpenCV 문서: https://opencv-python.readthedocs.io/en/latest/"
   ]
  },
  {
   "cell_type": "code",
   "execution_count": 23,
   "metadata": {},
   "outputs": [
    {
     "name": "stdout",
     "output_type": "stream",
     "text": [
      "<class 'numpy.ndarray'>\n",
      "(640, 960, 3)\n",
      "(640, 960, 3)\n"
     ]
    }
   ],
   "source": [
    "# opencv 라이브러리 임포트\n",
    "import cv2\n",
    "import requests\n",
    "import numpy\n",
    "\n",
    "def test_local_image():\n",
    "    # 이미지 파일을 IMREAD_COLOR 형태로 읽어들입니다.\n",
    "    # IMREAD_COLOR : 이미지를 컬러형태로 읽습니다.\n",
    "    img = cv2.imread(\"sample.jpg\", cv2.IMREAD_COLOR)\n",
    "\n",
    "    # img 의 형태는 ndarray 입니다.\n",
    "    print(type(img))\n",
    "    \n",
    "    # 이미지의 높이, 폭, 채널을 튜플형태로 리턴합니다.\n",
    "    print(img.shape)\n",
    "\n",
    "    # 이미지를 보여줍니다.\n",
    "    # pillow 와 다르게 운영체제의 뷰어를 쓰지 않고 opencv 자체적으로 창을 생성합니다.\n",
    "    cv2.imshow(\"sample\", img)\n",
    "\n",
    "    # 키보드 입력대기를 줘서 imshow 한 창이 바로 닫히지 않게 합니다.\n",
    "    cv2.waitKey(0)\n",
    "\n",
    "    # opencv 가 생성한 모든 윈도우를 파기합니다.\n",
    "    cv2.destroyAllWindows()\n",
    "    \n",
    "def test_web_image():\n",
    "    # 웹에 있는 이미지 경로\n",
    "    url = \"https://cdn.pixabay.com/photo/2019/04/24/12/35/ivy-4152057_960_720.jpg\"\n",
    "    \n",
    "    # requests 라이브러리를 사용해 url 이미지를 받아서\n",
    "    # bytearray 형태로 캐스팅 후 numpy 배열로 설정합니다. \n",
    "    # dtype=numpy.uint8 은 unsigned integer 로써 배열 데이터가 부호없는 8비트 정수형 값이라는 의미입니다.\n",
    "    arr = numpy.asarray(bytearray(requests.get(url).content), dtype=numpy.uint8)\n",
    "    \n",
    "    # numpy 배열을 디코딩 하여 opencv 객체로 만듭니다.\n",
    "    img = cv2.imdecode(arr, cv2.IMREAD_COLOR)\n",
    "    \n",
    "    # 이미지의 높이, 폭, 채널을 튜플형태로 리턴합니다.\n",
    "    print(img.shape)\n",
    "    \n",
    "    # 이미지를 출력하여 보여줍니다.\n",
    "    cv2.imshow(\"sample\", img)\n",
    "    cv2.waitKey(0)\n",
    "    cv2.destroyAllWindows()\n",
    "\n",
    "test_local_image()\n",
    "test_web_image()"
   ]
  },
  {
   "cell_type": "markdown",
   "metadata": {},
   "source": [
    "# OpenCV vs pillow\n",
    "\n",
    "* 사실 이 2가지 라이브러리를 비교하는건 의미가 없습니다. 둘다 사용 목적성이 다르기 때문입니다.\n",
    "* opencv 의 타입은 numpy array 라서 이미지 연산처리가 많은 프로젝트에서 사용합니다.\n",
    "* pillow 는 사용하기 편하지만 복잡한 연산처리에서는 불편함도 많고 성능이 떨어집니다.\n",
    "* 하지만 실제 이미지를 다양한 방법으로 처리하는 프로젝트에서는 둘다 사용하는 경우도 많습니다."
   ]
  },
  {
   "cell_type": "code",
   "execution_count": 21,
   "metadata": {},
   "outputs": [],
   "source": [
    "# opencv 와 pillow 이미지 라이브러리 임포트\n",
    "from PIL import Image\n",
    "import cv2\n",
    "import numpy\n",
    "\n",
    "# pillow 로 이미지를 읽습니다.\n",
    "pil_image = Image.open(\"sample2.jpg\")\n",
    "\n",
    "# pillow 이미지 데이터를 numpy 배열 형태로 변환합니다.\n",
    "opencv_image = numpy.array(pil_image)\n",
    "\n",
    "# pillow 로 읽은 원본 이미지를 보여줍니다.\n",
    "pil_image.show()\n",
    "\n",
    "# opencv 로 변환된 이미지를 보여줍니다.\n",
    "cv2.imshow(\"sample\", opencv_image)\n",
    "cv2.waitKey(0)\n",
    "cv2.destroyAllWindows()"
   ]
  },
  {
   "cell_type": "markdown",
   "metadata": {},
   "source": [
    "### RGB 와 BGR\n",
    "* 위의 코드는 원본 이미지와 opencv 로 변환된 이미지를 비교해보면 색상이 잘못 나오는걸 볼 수 있습니다.\n",
    "* pillow 는 픽셀값을 RGB 로 처리합니다.\n",
    "* opencv 는 픽셀값을 BGR 로 처리합니다. \n",
    "* 따라서 opencv 와 pillow 이미지를 서로 변환할때는 이부분에 주의 하셔야 합니다."
   ]
  },
  {
   "cell_type": "code",
   "execution_count": 22,
   "metadata": {},
   "outputs": [],
   "source": [
    "# opencv 와 pillow 이미지 라이브러리 임포트\n",
    "from PIL import Image\n",
    "import cv2\n",
    "import numpy\n",
    "\n",
    "# pillow 로 이미지를 읽습니다.\n",
    "pil_image = Image.open(\"sample2.jpg\")\n",
    "\n",
    "# pillow 이미지 데이터를 numpy 배열 형태로 변환합니다.\n",
    "opencv_image = numpy.array(pil_image)\n",
    "\n",
    "# opencv 의 cvtColor 함수를 통해 RGB to BGR 인자를 주어 opencv 형태로 변환 합니다.\n",
    "opencv_image = cv2.cvtColor(opencv_image, cv2.COLOR_RGB2BGR)\n",
    "\n",
    "# pillow 로 읽은 원본 이미지를 보여줍니다.\n",
    "pil_image.show()\n",
    "\n",
    "# opencv 로 변환된 이미지를 보여줍니다.\n",
    "cv2.imshow(\"sample\", opencv_image)\n",
    "cv2.waitKey(0)\n",
    "cv2.destroyAllWindows()"
   ]
  }
 ],
 "metadata": {
  "kernelspec": {
   "display_name": "Python 3",
   "language": "python",
   "name": "python3"
  },
  "language_info": {
   "codemirror_mode": {
    "name": "ipython",
    "version": 3
   },
   "file_extension": ".py",
   "mimetype": "text/x-python",
   "name": "python",
   "nbconvert_exporter": "python",
   "pygments_lexer": "ipython3",
   "version": "3.6.3"
  }
 },
 "nbformat": 4,
 "nbformat_minor": 2
}
