{
 "cells": [
  {
   "cell_type": "markdown",
   "metadata": {},
   "source": [
    "# 강좌 복습 및 따라하기\n",
    "\n",
    "* 지금까지 진행한 강좌의 모든 소스코드 및 기본적인 설명을 jupyter notebook 파일로 제공합니다.\n",
    "* jupyter notebook 은 문서 + 실행 가능한 파이썬 코드의 조합이라고 보시면 됩니다.\n",
    "* 주피터 노트북은 외부라이브러리를 설치해야만 사용가능합니다.\n",
    "> pip install jupyter\n",
    "* 주피터 노트북 실행 방법(명령 프롬프트 상태에서)\n",
    "> jupyter notebook"
   ]
  }
 ],
 "metadata": {
  "kernelspec": {
   "display_name": "Python 3",
   "language": "python",
   "name": "python3"
  },
  "language_info": {
   "codemirror_mode": {
    "name": "ipython",
    "version": 3
   },
   "file_extension": ".py",
   "mimetype": "text/x-python",
   "name": "python",
   "nbconvert_exporter": "python",
   "pygments_lexer": "ipython3",
   "version": "3.6.3"
  }
 },
 "nbformat": 4,
 "nbformat_minor": 2
}
