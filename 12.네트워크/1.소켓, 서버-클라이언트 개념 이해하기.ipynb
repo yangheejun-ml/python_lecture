{
 "cells": [
  {
   "cell_type": "markdown",
   "metadata": {},
   "source": [
    "# 소켓, 서버/클라이언트 개념 이해하기\n",
    "\n",
    "* 소켓통신은 서버와 클라이언트의 역할로 나뉩니다.\n",
    "* 서버는 접속을 대기하는 역할 입니다.\n",
    "* 클라이언트는 접속을 하는 역할 입니다."
   ]
  },
  {
   "cell_type": "markdown",
   "metadata": {},
   "source": [
    "## 서버의 순서\n",
    "1. **소켓 생성**: 소켓 객체를 생성합니다. \n",
    "2. **바인딩**: 운영체제에 소켓을 어떤 형태로, 어떤 포트로 사용하겠다를 알립니다.\n",
    "3. **접속 대기**: 클라이언트가 접속되기를 기다립니다.\n",
    "4. **접속 수락**: 접속 요청이 오면 대기중이던 소켓이 이를 수락하고 연결된 새로운 소켓을 리턴합니다.\n",
    "5. **데이터 송/수신**: 접속된 소켓으로 데이터를 송/수신 합니다.\n",
    "6. **접속 종료**: 사용된 소켓을 닫아 자원을 반환시킵니다."
   ]
  },
  {
   "cell_type": "markdown",
   "metadata": {},
   "source": [
    "## 클라이언트의 순서 (서버와 비교하여)\n",
    "1. **소켓생성**\n",
    "2. \n",
    "3. **접속 시도**\n",
    "4. \n",
    "5. **테이서 송수신**\n",
    "6. **접속 종료**\n",
    "\n",
    "\n",
    "\n",
    "* 서버의 순서와 비슷하지만 바인딩과 접속을 수락하는 과정이 생략됩니다."
   ]
  },
  {
   "cell_type": "code",
   "execution_count": null,
   "metadata": {},
   "outputs": [],
   "source": [
    "'''\n",
    "파이썬으로 작성한 서버 소켓 프로그램\n",
    "'''\n",
    "\n",
    "# 소켓 라이브러 임포트\n",
    "import socket\n",
    "\n",
    "print(\"1. 소켓생성\")\n",
    "# AF_INET : 인터넷 주소체계 IPv4를 사용\n",
    "# SOCK_STREAM : TCP 프로토콜 사용\n",
    "sock = socket.socket(socket.AF_INET, socket.SOCK_STREAM)\n",
    "\n",
    "print(\"2. 바인딩\")\n",
    "# bind 함수의 인자는 서버의 주소, 포트를 튜플형태로 넘겨줍니다.\n",
    "# 서버는 자기 자신을 의미하므로 아이피는 생략 가능합니다.\n",
    "# 포트는 다른 포그램에서 사용하는 포트를 중복해서 사용할 수 없습니다.\n",
    "sock.bind((\"\", 12000))\n",
    "\n",
    "print(\"3. 접속대기\")\n",
    "sock.listen()\n",
    "\n",
    "print(\"4. 접속수락\")\n",
    "c_sock, addr = sock.accept()\n",
    "\n",
    "print(\"5. 데이터수신\")\n",
    "recevie_data = c_sock.recv(1024)\n",
    "print(\"수신된 데이터:{}\".format(recevie_data))\n",
    "\n",
    "print(\"6. 접속종료\")\n",
    "c_sock.close()\n",
    "sock.close()"
   ]
  },
  {
   "cell_type": "code",
   "execution_count": 1,
   "metadata": {},
   "outputs": [
    {
     "name": "stdout",
     "output_type": "stream",
     "text": [
      "1.소켓생성\n",
      "3.접속시도\n",
      "5.데이터 송신\n",
      "6.접속 종료\n"
     ]
    }
   ],
   "source": [
    "'''\n",
    "클라이언트 소켓 프로그램\n",
    "'''\n",
    "\n",
    "# 소켓 라이브러리\n",
    "import socket\n",
    "\n",
    "print(\"1.소켓생성\")\n",
    "# 서버와 같은 형태의 소켓으로 생성합니다.\n",
    "sock = socket.socket(socket.AF_INET, socket.SOCK_STREAM)\n",
    "\n",
    "print(\"3.접속시도\")\n",
    "# 서버의 아이피와 포트를 튜플형태의 인자값으로 connect() 함수를 호출합니다.\n",
    "sock.connect((\"127.0.0.1\", 12000))\n",
    "\n",
    "print(\"5.데이터 송신\")\n",
    "# 소켓의 데이터 송/수신은 바이너리 형태의 데이터를 주고 받는것이므로\n",
    "# bytes() 형태로 데이터를 전송해야 합니다.\n",
    "sock.sendall(bytes(\"Hello socket\", \"utf-8\"))\n",
    "\n",
    "print(\"6.접속 종료\")\n",
    "sock.close()"
   ]
  },
  {
   "cell_type": "markdown",
   "metadata": {},
   "source": [
    "### 위 코드를 실행해보면 4.접속수락을 print 하고 sock.accept() 에서 블락킹이 된 상태로 클라이언트의 접속을 대기하는것을 알 수 있습니다."
   ]
  },
  {
   "cell_type": "markdown",
   "metadata": {},
   "source": [
    "## 모든 소켓 프로그램은 비슷한 기반입니다.\n",
    "\n",
    "* 어떤 소켓 프로그램도 내부적으로는 지금 예제로 작성한 소켓/클라이언트와 같은 원리로 동작합니다.\n",
    "* 이런 기본적인걸 확장하고 구조화하고 하여 동접 수백, 수천을 처리하는 IOCP 같은걸로 확장하게 됩니다."
   ]
  }
 ],
 "metadata": {
  "kernelspec": {
   "display_name": "Python 3",
   "language": "python",
   "name": "python3"
  },
  "language_info": {
   "codemirror_mode": {
    "name": "ipython",
    "version": 3
   },
   "file_extension": ".py",
   "mimetype": "text/x-python",
   "name": "python",
   "nbconvert_exporter": "python",
   "pygments_lexer": "ipython3",
   "version": "3.6.3"
  }
 },
 "nbformat": 4,
 "nbformat_minor": 2
}
