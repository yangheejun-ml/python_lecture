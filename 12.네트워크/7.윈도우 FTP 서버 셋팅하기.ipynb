{
 "cells": [
  {
   "cell_type": "markdown",
   "metadata": {},
   "source": [
    "# 윈도우 FTP 서버 셋팅하기"
   ]
  },
  {
   "cell_type": "markdown",
   "metadata": {},
   "source": [
    "### 윈도우 검색창에서 \"프로그램 추가\" 검색\n",
    "\n",
    "\n",
    "![iis_1.jpg](images/iis_1.jpg)\n",
    "\n",
    "\n",
    "### 앱 및 기능 > 관련 설정 > 프로그램 및 기능\n",
    "\n",
    "![iis_2.jpg](images/iis_2.jpg)\n",
    "\n",
    "\n",
    "### 윈도우 기능 켜기 / 끄기 > 인터넷 정보서비스에서 FTP 서버, 웹 관리 도구 > IIS 관리 콘솔 체크 후 확인\n",
    "\n",
    "![iis_3.jpg](images/iis_3.jpg)\n",
    "\n",
    "### 윈도우 검색창에 \"IIS\" 혹은 \"인터넷 정보 서비스\" 검색 후 실행\n",
    "\n",
    "![iis_4.jpg](images/iis_4.jpg)\n",
    "\n",
    "\n",
    "### 사이트 우클릭 > FTP 사이트 추가 클릭\n",
    "\n",
    "![iis_5.jpg](images/iis_5.jpg)\n",
    "\n",
    "\n",
    "### FTP 사이트 이름과 FTP 서버에 사용될 경로를 설정합니다.\n",
    "\n",
    "![iis_6.jpg](images/iis_6.jpg)\n",
    "\n",
    "\n",
    "### FTP 에 사용할 적당한 포트를 설정합니다. \n",
    "* 보통 통신사에서 FTP 디폴트 포트인 21번 포트가 막혀 있기 때문에 적당한 포트로 변경을 해줘야 합니다.\n",
    "* SSL 은 사용 안 함 으로 설정합니다.\n",
    "\n",
    "![iis_7.jpg](images/iis_7.jpg)\n",
    "\n",
    "\n",
    "### FTP 에 사용할 적당한 포트를 설정합니다. \n",
    "* 인증은 기본에 체크를 합니다. 익명을 선택하게 되면 아이디 비번 없이 아무나 접속할 수 있으니 주의하시기 바랍니다.\n",
    "* 액세스는 지정한 사용자로 선택 후 아이디를 ftp_user로 읽기, 쓰기 권한을 줍니다. 아직 ftp_user는 만들어지지 않은 아이디 입니다.\n",
    "* 모든 값을 설정 후 마침 합니다.\n",
    "\n",
    "![iis_8.jpg](images/iis_8.jpg)"
   ]
  },
  {
   "cell_type": "markdown",
   "metadata": {},
   "source": [
    "# 사용자 추가 및 권한 설정\n",
    "\n",
    "## 윈도우 검색창에서 컴퓨터 관리를 검색합니다.\n",
    "\n",
    "![iis_9.jpg](images/iis_9.jpg)\n",
    "\n",
    "\n",
    "## 좌측 트리에서 로컬 사용자 및 그룹 > 사용자 선택 후 > 우측 창에서 마우스 우클릭 > 새사용자\n",
    "\n",
    "![iis_10.jpg](images/iis_10.jpg)\n",
    "\n",
    "\n",
    "\n",
    "## ftp_user 사용자를 추가 합니다.\n",
    "* 사용자 이름 ftp_user 와 암호를 설정 한 후 암호 변경할 수 없음, 기간 제한 없음을 꼭 체크 후 만들기를 클릭합니다.\n",
    "\n",
    "![iis_11.jpg](images/iis_11.jpg)\n",
    "\n",
    "## FTP 서버로 사용하는 폴더에 ftp_user 아이디의 권한을 할당합니다.\n",
    "\n",
    "* 탐색기에서 FTP 폴더에서 우클릭 > 속성 > 보안탭 > 편집 > 추가 > ftp_user > 권한 할당 > 적용\n",
    "\n",
    "![iis_12.jpg](images/iis_12.jpg)"
   ]
  }
 ],
 "metadata": {
  "kernelspec": {
   "display_name": "Python 3",
   "language": "python",
   "name": "python3"
  },
  "language_info": {
   "codemirror_mode": {
    "name": "ipython",
    "version": 3
   },
   "file_extension": ".py",
   "mimetype": "text/x-python",
   "name": "python",
   "nbconvert_exporter": "python",
   "pygments_lexer": "ipython3",
   "version": "3.6.3"
  }
 },
 "nbformat": 4,
 "nbformat_minor": 2
}
