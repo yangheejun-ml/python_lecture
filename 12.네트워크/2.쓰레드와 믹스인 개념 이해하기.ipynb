{
 "cells": [
  {
   "cell_type": "markdown",
   "metadata": {},
   "source": [
    "# 쓰레드와 믹스인 개념 이해하기\n",
    "\n",
    "* 난이도 : ★★★★☆☆☆☆☆☆\n",
    "\n",
    "\n",
    "* 간단한 채팅 서버와 클라이언트를 구현하기 위한 사전 지식\n",
    "* 쓰레드에 대한 기본 이해가 필요합니다.\n",
    "* ThreadingMixIn 에 대한 이해가 필요합니다.\n",
    "* 이전 강좌에서 다룬 클래스 상속에 대한 이해가 필요합니다."
   ]
  },
  {
   "cell_type": "markdown",
   "metadata": {},
   "source": [
    "## 쓰레드\n",
    "\n",
    "프로그램은 프로세스와 쓰레드의 집합으로 구성되어있습니다. 프로세스는 운영체제 입장에선 프로그램의 인스턴스 객체로 쉽게 프로그램 그 자체를 프로세스라고 볼 수 있습니다. 쓰레드는 그 프로그램 내에서 작업을 하는 하나의 단위로 볼 수 있습니다. 다른 예로 국가를 운영체제 라고 보면 프로세스는 하나의 공장입니다. 그리고 그 공장에서 일하는 노동자를 쓰레드로 볼 수 있습니다. \n",
    "\n",
    "\n",
    "파이썬으로 작성한 프로그램은 기본적으로 하나의 메인 쓰레드에서 실행됩니다. 이 메인 쓰레드가 프로그램의 코드를 순차적으로 수행하게 되며 프로그램이 동작합니다."
   ]
  },
  {
   "cell_type": "code",
   "execution_count": null,
   "metadata": {},
   "outputs": [],
   "source": [
    "'''\n",
    "쓰레드의 이해를 쉽게 돕기 위해 함수명을 한글로 작성해봤습니다.\n",
    "'''\n",
    "import time\n",
    "def 주문받기():\n",
    "    for i in range(5):\n",
    "        print(\"주문받기 {}\".format(i))\n",
    "        time.sleep(1)\n",
    "\n",
    "def 우편발송():\n",
    "    for i in range(5):\n",
    "        print(\"우편발송 {}\".format(i))\n",
    "        time.sleep(1)\n",
    "\n",
    "# 쓰레드 = 일꾼\n",
    "# 일꾼 한명은 2가지일을 동시에 할 수 없습니다.\n",
    "# 따라서 주문받기 일이 끝나야만 우편발송 일을 하게 됩니다.\n",
    "주문받기()\n",
    "우편발송()"
   ]
  },
  {
   "cell_type": "code",
   "execution_count": null,
   "metadata": {},
   "outputs": [],
   "source": [
    "import threading\n",
    "import time\n",
    "\n",
    "def 주문받기():\n",
    "    for i in range(5):\n",
    "        print(\"주문받기 {}\".format(i))\n",
    "        time.sleep(1)\n",
    "\n",
    "def 우편발송():\n",
    "    for i in range(5):\n",
    "        print(\"우편발송 {}\".format(i))\n",
    "        time.sleep(1)\n",
    "\n",
    "# 기존의 일꾼(쓰레드) 1명으로 처리하던 일을\n",
    "# 일을 전담할 일꾼(쓰레드)을 2명 뽑아서 각각 일을 맡겼습니다.\n",
    "# 여기서 기존의 일꾼(메인쓰레드)는 이 쓰레드를 관리하는 일을 하게 됩니다.\n",
    "# th1 은 주문받기 일을 처리할 쓰레드고\n",
    "# th2 는 우편발송 일을 처리할 쓰레드 입니다.\n",
    "th1 = threading.Thread(target=주문받기)\n",
    "th2 = threading.Thread(target=우편발송)\n",
    "\n",
    "# 일 시작!!\n",
    "th1.start()\n",
    "th2.start()"
   ]
  },
  {
   "cell_type": "markdown",
   "metadata": {},
   "source": [
    "### 데몬 쓰레드\n",
    "* 기본적으로 생성된 쓰레드는 일이 끝나기 전까지는 쓰레드를 종료하지 않습니다.\n",
    "* 만약 프로그램이 종료된다면 생성된 쓰레드가 작업중이라도 종료 시키기를 원한다면 daemon 속성을 주면 됩니다.\n",
    "> th = threading.Thread(target=function)  \n",
    "> **th.daemon = True**  \n",
    "> th.start()  "
   ]
  },
  {
   "cell_type": "markdown",
   "metadata": {},
   "source": [
    "## Mix-in 개념\n",
    "* 믹스인은 단어 그대로 보면 무언가를 섞는다는 개념입니다.\n",
    "* 공통적인 기능을 모아서 다른 클래스에 추가적인 속성이나 기능을 제공하는 개념입니다.\n",
    "* 쉽게 A + B = C를 만드는데 C는 A와 B의 모든 기능을 발휘할 수 있습니다."
   ]
  },
  {
   "cell_type": "code",
   "execution_count": null,
   "metadata": {},
   "outputs": [],
   "source": [
    "# MixIn 클래스 작성\n",
    "class CarMixIn:\n",
    "    def ready(self):\n",
    "        print(\"믹스인 레디\")\n",
    "        \n",
    "    def start(self):\n",
    "        # CarMixIn 클래스에선 Performance 클래스의 멤버 변수들을 사용할 수 있습니다.\n",
    "        print(\"{} 가 {} 속도로 달립니다.\".format(self.name, self.speed))\n",
    "\n",
    "# Base 클래스 작성\n",
    "class Performance():\n",
    "    def __init__(self, name, speed):\n",
    "        self.name = name\n",
    "        self.speed = speed\n",
    "        \n",
    "        # 실제 이 함수는 CarMixIn 클래스에 있는 함수 입니다.\n",
    "        # Performance 클래스가 MixIn으로 선언되지 않고\n",
    "        # 그냥 생성되면 여기서 오류가 발생합니다.\n",
    "        self.ready()\n",
    "\n",
    "# CarMixIn 클래스와 Perfomance 클래스를 MixIn 하여 생성된 새로운 SuperCar 클래스 \n",
    "class SuperCar(CarMixIn, Performance):\n",
    "    def show_info(self):\n",
    "        print(\"{} 는 {} 속도의 성능입니다.\".format(self.name, self.speed))\n",
    "\n",
    "# Performance 클래스의 생성자 __init__ 에서 name, speed를 필요로 하므로 \n",
    "# SuperCar 생성시에 이 값을 인자로 넘겨줘야 합니다.\n",
    "s = SuperCar(\"람보르\", 300)\n",
    "\n",
    "# SuperCar 로 생성된 s 는 CarMixIn 클래스와 Performance 클래스의 모든 함수를 사용할 수 있습니다.\n",
    "s.show_info()\n",
    "s.start()\n",
    "\n",
    "# Perfomance 클래스 생성자의 self.ready() 가 오류 납니다.\n",
    "p = Performance(\"포니\", 100)"
   ]
  },
  {
   "cell_type": "markdown",
   "metadata": {},
   "source": [
    "### 오버라이딩\n",
    "\n",
    "* 오버라이딩은 클래스를 상속받아 새롭게 작성할때 기존의 부모가 되는 클래스의 함수를 무시하고 새로운 기능으로 함수를 작성하는 개념입니다.\n",
    "* 만약 부모의 원래 함수도 호출을 하고 새롭게 오버라이딩 된 함수도 호출하려면 super() 메서드를 사용합니다."
   ]
  },
  {
   "cell_type": "code",
   "execution_count": 2,
   "metadata": {},
   "outputs": [
    {
     "name": "stdout",
     "output_type": "stream",
     "text": [
      "람보르 가 300 속도로 달립니다.\n",
      "람보르 는 300 속도의 성능입니다.\n"
     ]
    }
   ],
   "source": [
    "# MixIn 클래스 작성\n",
    "class CarMixIn:\n",
    "    def start(self):\n",
    "        print(\"{} 가 {} 속도로 달립니다.\".format(self.name, self.speed))\n",
    "\n",
    "# Base 클래스 작성\n",
    "class Performance():\n",
    "    def __init__(self, name, speed):\n",
    "        self.name = name\n",
    "        self.speed = speed\n",
    "\n",
    "# CarMixIn 클래스와 Perfomance 클래스를 MixIn 하여 생성된 새로운 SuperCar 클래스 \n",
    "class SuperCar(CarMixIn, Performance):\n",
    "    # start 함수는 CarMixIn에 선언되어있지만 여기서 새롭게 오버라이딩 했습니다.\n",
    "    def start(self):\n",
    "        # 여기서 만약 부모(CarMixIn) 의 start()를 호출하려면 super() 메서드를 사용합니다.\n",
    "        super().start()\n",
    "        print(\"{} 는 {} 속도의 성능입니다.\".format(self.name, self.speed))\n",
    "        \n",
    "\n",
    "s = SuperCar(\"람보르\", 300) \n",
    "# SuperCar 클래스의 start 함수는 새롭게 오버라이딩 된 함수가 호출됩니다.\n",
    "s.start()"
   ]
  }
 ],
 "metadata": {
  "kernelspec": {
   "display_name": "Python 3",
   "language": "python",
   "name": "python3"
  },
  "language_info": {
   "codemirror_mode": {
    "name": "ipython",
    "version": 3
   },
   "file_extension": ".py",
   "mimetype": "text/x-python",
   "name": "python",
   "nbconvert_exporter": "python",
   "pygments_lexer": "ipython3",
   "version": "3.6.3"
  }
 },
 "nbformat": 4,
 "nbformat_minor": 2
}
